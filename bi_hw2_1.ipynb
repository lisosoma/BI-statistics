{
  "cells": [
    {
      "cell_type": "code",
      "execution_count": null,
      "id": "02759375",
      "metadata": {
        "id": "02759375"
      },
      "outputs": [],
      "source": [
        "import pandas as pd\n",
        "import matplotlib.pyplot as plt\n",
        "import numpy as np\n",
        "import scipy.stats as sts\n",
        "import scipy\n",
        "import math\n",
        "import itertools\n",
        "from scipy.special import zeta\n",
        "from math import pi, sin, cos, sqrt, exp"
      ]
    },
    {
      "cell_type": "code",
      "execution_count": null,
      "id": "e4b2d970",
      "metadata": {
        "id": "e4b2d970"
      },
      "outputs": [],
      "source": [
        "df = pd.read_table('IB_statistics_data_HW2.1.txt',sep='\\s+', engine='python')"
      ]
    },
    {
      "cell_type": "code",
      "execution_count": null,
      "id": "df764e15",
      "metadata": {
        "id": "df764e15",
        "outputId": "5b3f303d-20c1-4078-c872-d43d4aea71f1"
      },
      "outputs": [
        {
          "data": {
            "text/html": [
              "<div>\n",
              "<style scoped>\n",
              "    .dataframe tbody tr th:only-of-type {\n",
              "        vertical-align: middle;\n",
              "    }\n",
              "\n",
              "    .dataframe tbody tr th {\n",
              "        vertical-align: top;\n",
              "    }\n",
              "\n",
              "    .dataframe thead th {\n",
              "        text-align: right;\n",
              "    }\n",
              "</style>\n",
              "<table border=\"1\" class=\"dataframe\">\n",
              "  <thead>\n",
              "    <tr style=\"text-align: right;\">\n",
              "      <th></th>\n",
              "      <th>ex3y</th>\n",
              "      <th>ex3x_1</th>\n",
              "      <th>ex3x_2</th>\n",
              "      <th>ex3x_3</th>\n",
              "      <th>ex5y</th>\n",
              "      <th>ex5x_1</th>\n",
              "      <th>ex5x_2</th>\n",
              "      <th>ex5x_3</th>\n",
              "      <th>ex5x_4</th>\n",
              "    </tr>\n",
              "  </thead>\n",
              "  <tbody>\n",
              "    <tr>\n",
              "      <th>0</th>\n",
              "      <td>5.686687</td>\n",
              "      <td>0.076472</td>\n",
              "      <td>1.200916</td>\n",
              "      <td>3</td>\n",
              "      <td>22.270130</td>\n",
              "      <td>10.397208</td>\n",
              "      <td>10.061471</td>\n",
              "      <td>0.075375</td>\n",
              "      <td>2</td>\n",
              "    </tr>\n",
              "    <tr>\n",
              "      <th>1</th>\n",
              "      <td>16.451772</td>\n",
              "      <td>0.983124</td>\n",
              "      <td>0.922869</td>\n",
              "      <td>6</td>\n",
              "      <td>8.087034</td>\n",
              "      <td>2.079442</td>\n",
              "      <td>1.988200</td>\n",
              "      <td>-0.220711</td>\n",
              "      <td>0</td>\n",
              "    </tr>\n",
              "    <tr>\n",
              "      <th>2</th>\n",
              "      <td>5.824362</td>\n",
              "      <td>0.752545</td>\n",
              "      <td>0.898528</td>\n",
              "      <td>3</td>\n",
              "      <td>22.634924</td>\n",
              "      <td>2.772589</td>\n",
              "      <td>8.774857</td>\n",
              "      <td>0.280573</td>\n",
              "      <td>0</td>\n",
              "    </tr>\n",
              "    <tr>\n",
              "      <th>3</th>\n",
              "      <td>14.067604</td>\n",
              "      <td>0.238592</td>\n",
              "      <td>0.294894</td>\n",
              "      <td>5</td>\n",
              "      <td>12.637142</td>\n",
              "      <td>9.704061</td>\n",
              "      <td>5.756337</td>\n",
              "      <td>0.359584</td>\n",
              "      <td>3</td>\n",
              "    </tr>\n",
              "    <tr>\n",
              "      <th>4</th>\n",
              "      <td>2.554745</td>\n",
              "      <td>-0.944660</td>\n",
              "      <td>3.592558</td>\n",
              "      <td>4</td>\n",
              "      <td>21.364182</td>\n",
              "      <td>2.079442</td>\n",
              "      <td>6.482219</td>\n",
              "      <td>-0.198828</td>\n",
              "      <td>0</td>\n",
              "    </tr>\n",
              "    <tr>\n",
              "      <th>...</th>\n",
              "      <td>...</td>\n",
              "      <td>...</td>\n",
              "      <td>...</td>\n",
              "      <td>...</td>\n",
              "      <td>...</td>\n",
              "      <td>...</td>\n",
              "      <td>...</td>\n",
              "      <td>...</td>\n",
              "      <td>...</td>\n",
              "    </tr>\n",
              "    <tr>\n",
              "      <th>214</th>\n",
              "      <td>10.647614</td>\n",
              "      <td>-0.045707</td>\n",
              "      <td>0.079060</td>\n",
              "      <td>4</td>\n",
              "      <td>-8.396697</td>\n",
              "      <td>6.238325</td>\n",
              "      <td>4.972957</td>\n",
              "      <td>2.461930</td>\n",
              "      <td>0</td>\n",
              "    </tr>\n",
              "    <tr>\n",
              "      <th>215</th>\n",
              "      <td>-0.476415</td>\n",
              "      <td>-0.271528</td>\n",
              "      <td>0.976677</td>\n",
              "      <td>1</td>\n",
              "      <td>18.110116</td>\n",
              "      <td>2.079442</td>\n",
              "      <td>2.627524</td>\n",
              "      <td>-0.528996</td>\n",
              "      <td>2</td>\n",
              "    </tr>\n",
              "    <tr>\n",
              "      <th>216</th>\n",
              "      <td>-0.711338</td>\n",
              "      <td>-0.774985</td>\n",
              "      <td>2.483155</td>\n",
              "      <td>2</td>\n",
              "      <td>-15.508103</td>\n",
              "      <td>0.693147</td>\n",
              "      <td>-5.741455</td>\n",
              "      <td>1.444721</td>\n",
              "      <td>2</td>\n",
              "    </tr>\n",
              "    <tr>\n",
              "      <th>217</th>\n",
              "      <td>17.530302</td>\n",
              "      <td>0.930487</td>\n",
              "      <td>0.530371</td>\n",
              "      <td>6</td>\n",
              "      <td>42.034463</td>\n",
              "      <td>1.386294</td>\n",
              "      <td>9.944634</td>\n",
              "      <td>0.045790</td>\n",
              "      <td>3</td>\n",
              "    </tr>\n",
              "    <tr>\n",
              "      <th>218</th>\n",
              "      <td>1.426018</td>\n",
              "      <td>0.087720</td>\n",
              "      <td>0.435274</td>\n",
              "      <td>2</td>\n",
              "      <td>3.376900</td>\n",
              "      <td>2.772589</td>\n",
              "      <td>-1.342378</td>\n",
              "      <td>-0.226465</td>\n",
              "      <td>2</td>\n",
              "    </tr>\n",
              "  </tbody>\n",
              "</table>\n",
              "<p>219 rows × 9 columns</p>\n",
              "</div>"
            ],
            "text/plain": [
              "          ex3y    ex3x_1    ex3x_2  ex3x_3       ex5y     ex5x_1     ex5x_2  \\\n",
              "0     5.686687  0.076472  1.200916       3  22.270130  10.397208  10.061471   \n",
              "1    16.451772  0.983124  0.922869       6   8.087034   2.079442   1.988200   \n",
              "2     5.824362  0.752545  0.898528       3  22.634924   2.772589   8.774857   \n",
              "3    14.067604  0.238592  0.294894       5  12.637142   9.704061   5.756337   \n",
              "4     2.554745 -0.944660  3.592558       4  21.364182   2.079442   6.482219   \n",
              "..         ...       ...       ...     ...        ...        ...        ...   \n",
              "214  10.647614 -0.045707  0.079060       4  -8.396697   6.238325   4.972957   \n",
              "215  -0.476415 -0.271528  0.976677       1  18.110116   2.079442   2.627524   \n",
              "216  -0.711338 -0.774985  2.483155       2 -15.508103   0.693147  -5.741455   \n",
              "217  17.530302  0.930487  0.530371       6  42.034463   1.386294   9.944634   \n",
              "218   1.426018  0.087720  0.435274       2   3.376900   2.772589  -1.342378   \n",
              "\n",
              "       ex5x_3  ex5x_4  \n",
              "0    0.075375       2  \n",
              "1   -0.220711       0  \n",
              "2    0.280573       0  \n",
              "3    0.359584       3  \n",
              "4   -0.198828       0  \n",
              "..        ...     ...  \n",
              "214  2.461930       0  \n",
              "215 -0.528996       2  \n",
              "216  1.444721       2  \n",
              "217  0.045790       3  \n",
              "218 -0.226465       2  \n",
              "\n",
              "[219 rows x 9 columns]"
            ]
          },
          "execution_count": 3,
          "metadata": {},
          "output_type": "execute_result"
        }
      ],
      "source": [
        "df"
      ]
    },
    {
      "cell_type": "code",
      "execution_count": null,
      "id": "47995965",
      "metadata": {
        "id": "47995965"
      },
      "outputs": [],
      "source": [
        "alpha = 0.05"
      ]
    },
    {
      "cell_type": "markdown",
      "id": "42d35263",
      "metadata": {
        "id": "42d35263"
      },
      "source": [
        "#### Задача 4.a."
      ]
    },
    {
      "cell_type": "code",
      "execution_count": null,
      "id": "433e5aee",
      "metadata": {
        "id": "433e5aee",
        "outputId": "8fdb5b34-214f-4b27-a050-4bf50af784ad"
      },
      "outputs": [
        {
          "name": "stdout",
          "output_type": "stream",
          "text": [
            "Оценка для параметра beta равна [ 0.08372155 -2.31143025  2.8191063 ] \n",
            "Оценка для параметра sigma^2 равна 3.605097075134645\n"
          ]
        }
      ],
      "source": [
        "X = df.loc[:, 'ex3x_1':'ex3x_3'].to_numpy()\n",
        "y = df['ex3y'].to_numpy()\n",
        "beta = np.linalg.inv(X.T @ X) @ X.T @ y\n",
        "eps = (y - X @ beta) ** 2\n",
        "k = len(y) - len(X.T) - 1\n",
        "sigma = sum(eps) / k\n",
        "print(f'Оценка для параметра beta равна', beta, '\\nОценка для параметра sigma^2 равна', sigma)"
      ]
    },
    {
      "cell_type": "markdown",
      "id": "48cd31ad",
      "metadata": {
        "id": "48cd31ad"
      },
      "source": [
        "#### Задача 4.b."
      ]
    },
    {
      "cell_type": "code",
      "execution_count": null,
      "id": "e08d98d8",
      "metadata": {
        "id": "e08d98d8",
        "outputId": "8cb4bf39-b8aa-43fb-83cc-ff8cc83d957a"
      },
      "outputs": [
        {
          "name": "stdout",
          "output_type": "stream",
          "text": [
            "Статистика критерия равна 0.636547129637626\n",
            "Доверительный интервал для T равен ( -1.9710591221320442 , 1.9710591221320442 )\n",
            "Нет оснований отклонить H_0 в пользу H_1 с уровнем значимости 0.05\n",
            "Значение p-value равно 0.26254849390826296\n"
          ]
        }
      ],
      "source": [
        "V = sigma * np.linalg.inv(X.T @ X)\n",
        "T = beta[0] / sqrt(V[0][0])\n",
        "t = sts.t.ppf(q=1-alpha/2, df=k, loc=0, scale=1)\n",
        "print('Статистика критерия равна', T)\n",
        "print('Доверительный интервал для T равен (', -t, ',', t, ')')\n",
        "if (-t <= T and T <= t):\n",
        "    print(f'Нет оснований отклонить H_0 в пользу H_1 с уровнем значимости {alpha}')\n",
        "else:\n",
        "    print(f'Есть основания отклонить H_0 в пользу H_1 с уровнем значимости {alpha}')\n",
        "print('Значение p-value равно', 1 - sts.t.cdf(x=T, df=k, loc=0, scale=1))"
      ]
    },
    {
      "cell_type": "markdown",
      "id": "1095b43d",
      "metadata": {
        "id": "1095b43d"
      },
      "source": [
        "#### Задача 4.с."
      ]
    },
    {
      "cell_type": "code",
      "execution_count": null,
      "id": "de927685",
      "metadata": {
        "id": "de927685",
        "outputId": "2e5984c5-3851-4b24-a9fe-64dcf7f1eab7"
      },
      "outputs": [
        {
          "name": "stdout",
          "output_type": "stream",
          "text": [
            "Статистика критерия равна 387.54793557697434\n",
            "Доверительный интервал для T равен ( 176.28346536170363 , 257.5026040083355 )\n",
            "Нет оснований отклонить H_0 в пользу H_1 с уровнем значимости 0.05\n",
            "Значение p-value равно 5.118905299639209e-12\n"
          ]
        }
      ],
      "source": [
        "chi_l = sts.chi2.ppf(q=alpha/2, df=k, loc=0, scale=1)\n",
        "chi_r = sts.chi2.ppf(q=1 - alpha/2, df=k, loc=0, scale=1)\n",
        "T = k * sigma / 2\n",
        "print('Статистика критерия равна', T)\n",
        "print('Доверительный интервал для T равен (', chi_l, ',', chi_r, ')')\n",
        "if (T >= chi_l):\n",
        "    print(f'Нет оснований отклонить H_0 в пользу H_1 с уровнем значимости {alpha}')\n",
        "else:\n",
        "    print(f'Есть основания отклонить H_0 в пользу H_1 с уровнем значимости {alpha}')\n",
        "print('Значение p-value равно', 1 - sts.chi2.cdf(x=T, df=k, loc=0, scale=1))"
      ]
    },
    {
      "cell_type": "markdown",
      "id": "21b3d4d0",
      "metadata": {
        "id": "21b3d4d0"
      },
      "source": [
        "#### Задача 4.d."
      ]
    },
    {
      "cell_type": "code",
      "execution_count": null,
      "id": "39786c46",
      "metadata": {
        "id": "39786c46",
        "outputId": "75bea1ed-3602-4696-fd1b-d090b899ec90"
      },
      "outputs": [
        {
          "name": "stdout",
          "output_type": "stream",
          "text": [
            "Статистика критерия равна 521.641503158563\n",
            "Есть основания отклонить H_0 в пользу H_1 с уровнем значимости 0.05\n",
            "Значение p-value равно 0.9999999999999999\n"
          ]
        }
      ],
      "source": [
        "p = len(X.T)\n",
        "eps2 = (X @ beta - np.mean(y)) ** 2\n",
        "sigma2 = sum(eps2) / p\n",
        "F = sigma2 / sigma \n",
        "f = sts.f.ppf(q=alpha, dfn=p, dfd=k, loc=0, scale=1)\n",
        "print('Статистика критерия равна', F)\n",
        "if (F < f):\n",
        "    print(f'Нет оснований отклонить H_0 в пользу H_1 с уровнем значимости {alpha}')\n",
        "else:\n",
        "    print(f'Есть основания отклонить H_0 в пользу H_1 с уровнем значимости {alpha}')\n",
        "print('Значение p-value равно', sts.f.cdf(x=F, dfn=p, dfd=k, loc=0, scale=1))"
      ]
    },
    {
      "cell_type": "markdown",
      "id": "f3746dda",
      "metadata": {
        "id": "f3746dda"
      },
      "source": [
        "#### Задача 5.с."
      ]
    },
    {
      "cell_type": "code",
      "execution_count": null,
      "id": "788639c5",
      "metadata": {
        "id": "788639c5",
        "outputId": "e55d3e61-3e17-4d57-a5cf-c5e86ed560db"
      },
      "outputs": [
        {
          "name": "stdout",
          "output_type": "stream",
          "text": [
            "Оценка для параметра betab равна [-1.97962317  2.94784562 -5.92746878  3.96943475]\n",
            "Произведение A * betab равно [1.77635684e-15 1.00000000e+00] , что удовлетворяет ограничению A * betab = b = [0 1]\n"
          ]
        }
      ],
      "source": [
        "A = np.array([[1, 2, 2, 2], [2, 1, 1, 2]])\n",
        "b = np.array([0, 1])\n",
        "X = df.loc[:, 'ex5x_1':'ex5x_4'].to_numpy()\n",
        "y = df['ex5y'].to_numpy()\n",
        "beta = np.linalg.inv(X.T @ X) @ X.T @ y\n",
        "D = A @ np.linalg.inv(X.T @ X) @ A.T\n",
        "betab = beta - np.linalg.inv(X.T @ X) @ A.T @ np.linalg.inv(D) @ (A @ beta - b)\n",
        "print('Оценка для параметра betab равна', betab)\n",
        "print('Произведение A * betab равно', A @ betab, ', что удовлетворяет ограничению A * betab = b =', b)"
      ]
    }
  ],
  "metadata": {
    "kernelspec": {
      "display_name": "Python 3 (ipykernel)",
      "language": "python",
      "name": "python3"
    },
    "language_info": {
      "codemirror_mode": {
        "name": "ipython",
        "version": 3
      },
      "file_extension": ".py",
      "mimetype": "text/x-python",
      "name": "python",
      "nbconvert_exporter": "python",
      "pygments_lexer": "ipython3",
      "version": "3.9.7"
    },
    "colab": {
      "name": "bi_hw2.1.ipynb",
      "provenance": []
    }
  },
  "nbformat": 4,
  "nbformat_minor": 5
}