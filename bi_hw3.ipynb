{
  "cells": [
    {
      "cell_type": "markdown",
      "metadata": {
        "id": "view-in-github",
        "colab_type": "text"
      },
      "source": [
        "<a href=\"https://colab.research.google.com/github/lisosoma/BI-statistics/blob/main/bi_hw3.ipynb\" target=\"_parent\"><img src=\"https://colab.research.google.com/assets/colab-badge.svg\" alt=\"Open In Colab\"/></a>"
      ]
    },
    {
      "cell_type": "code",
      "execution_count": null,
      "metadata": {
        "id": "67CNzUktb-Fy"
      },
      "outputs": [],
      "source": [
        "import pandas as pd\n",
        "import matplotlib.pyplot as plt\n",
        "import numpy as np\n",
        "import scipy.stats as sts\n",
        "import math "
      ]
    },
    {
      "cell_type": "code",
      "execution_count": null,
      "metadata": {
        "id": "7n2Qdk8wb-F0"
      },
      "outputs": [],
      "source": [
        "df = pd.read_table('IB_statistics_data_HW3.txt',sep='\\s+', engine='python')"
      ]
    },
    {
      "cell_type": "code",
      "execution_count": null,
      "metadata": {
        "id": "k7ym0sWmb-F1",
        "outputId": "9e0d7332-df97-4e5b-b5c6-779fdf88ad5e"
      },
      "outputs": [
        {
          "name": "stdout",
          "output_type": "stream",
          "text": [
            "Задание 2.а, оценка параметра равна: 106.99330942333036\n"
          ]
        },
        {
          "data": {
            "image/png": "[encoded data removed]",
            "text/plain": [
              "<Figure size 432x288 with 1 Axes>"
            ]
          },
          "metadata": {
            "needs_background": "light"
          },
          "output_type": "display_data"
        }
      ],
      "source": [
        "print('Задание 2.а, оценка параметра равна:', sum(df['Ex2.a']) / len(df['Ex2.a']))\n",
        "h_2a = df['Ex2.a'].hist()\n",
        "fig = h_2a.get_figure()"
      ]
    },
    {
      "cell_type": "code",
      "execution_count": null,
      "metadata": {
        "id": "UJEh64ylb-F2",
        "outputId": "cd2a1b9f-1e93-4fd3-dcdc-61a32717bde1"
      },
      "outputs": [
        {
          "name": "stdout",
          "output_type": "stream",
          "text": [
            "Задание 2.b, оценка параметра равна: 0.6531958466517017\n"
          ]
        },
        {
          "data": {
            "image/png": "[encoded data removed]",
            "text/plain": [
              "<Figure size 432x288 with 1 Axes>"
            ]
          },
          "metadata": {
            "needs_background": "light"
          },
          "output_type": "display_data"
        }
      ],
      "source": [
        "mu_2b = 7.5\n",
        "sum_2b = 0\n",
        "sum_2b_ = sum(df['Ex2.b']) / (len(df['Ex2.b']))\n",
        "for x in df['Ex2.b']:\n",
        "    sum_2b += (x - sum_2b_) ** 2\n",
        "print('Задание 2.b, оценка параметра равна:', sum_2b / (len(df['Ex2.b'] - 1)))  \n",
        "h_2b = df['Ex2.b'].hist()\n",
        "fig = h_2b.get_figure()"
      ]
    },
    {
      "cell_type": "code",
      "execution_count": null,
      "metadata": {
        "id": "6DIypA0bb-F3",
        "outputId": "2210fb2c-c68a-4709-8298-81c44d3812eb"
      },
      "outputs": [
        {
          "name": "stdout",
          "output_type": "stream",
          "text": [
            "Задание 2.c, оценка первого параметра равна: -1.4894141682064679\n",
            "Задание 2.c, оценка второго параметра равна: 465.2026304914655\n"
          ]
        },
        {
          "data": {
            "image/png": "[encoded data removed]",
            "text/plain": [
              "<Figure size 432x288 with 1 Axes>"
            ]
          },
          "metadata": {
            "needs_background": "light"
          },
          "output_type": "display_data"
        }
      ],
      "source": [
        "mean_2c = sum(df['Ex2.c']) / len(df['Ex2.c'])\n",
        "sum_2c = 0\n",
        "for x in df['Ex2.c']:\n",
        "    sum_2c += (x - mean_2c) ** 2\n",
        "print('Задание 2.c, оценка первого параметра равна:', mean_2c)\n",
        "print('Задание 2.c, оценка второго параметра равна:', sum_2c / (len(df['Ex2.c'] - 1))) \n",
        "h_2c = df['Ex2.c'].hist()\n",
        "fig = h_2c.get_figure()"
      ]
    },
    {
      "cell_type": "code",
      "execution_count": null,
      "metadata": {
        "id": "zu7oIWH3b-F4",
        "outputId": "e0d266de-7abb-4e9b-8ef3-3d341d59dcbc"
      },
      "outputs": [
        {
          "name": "stdout",
          "output_type": "stream",
          "text": [
            "Задание 3.a, параметра равна: 202.044930875576\n"
          ]
        },
        {
          "data": {
            "image/png": "[encoded data removed]",
            "text/plain": [
              "<Figure size 432x288 with 1 Axes>"
            ]
          },
          "metadata": {
            "needs_background": "light"
          },
          "output_type": "display_data"
        }
      ],
      "source": [
        "p = 0.07\n",
        "mean_3a = sum(df['Ex3.a']) / len(df['Ex3.a'])\n",
        "print('Задание 3.a, параметра равна:', mean_3a / p)\n",
        "h_3a = df['Ex3.a'].hist()\n",
        "fig = h_3a.get_figure()"
      ]
    },
    {
      "cell_type": "code",
      "execution_count": null,
      "metadata": {
        "id": "gMCWGrUKb-F5",
        "outputId": "ded3e6c0-311f-437e-d032-e4dee1460e02"
      },
      "outputs": [
        {
          "name": "stdout",
          "output_type": "stream",
          "text": [
            "Задание 3.b, параметра равна: 61.74495967741935\n"
          ]
        },
        {
          "data": {
            "image/png": "[encoded data removed]",
            "text/plain": [
              "<Figure size 432x288 with 1 Axes>"
            ]
          },
          "metadata": {
            "needs_background": "light"
          },
          "output_type": "display_data"
        }
      ],
      "source": [
        "mean_3b = sum(df['Ex3.b']) / len(df['Ex3.b'])\n",
        "print('Задание 3.b, параметра равна:', mean_3b)\n",
        "h_3a = df['Ex3.b'].hist()\n",
        "fig = h_3a.get_figure()"
      ]
    },
    {
      "cell_type": "code",
      "execution_count": null,
      "metadata": {
        "id": "I832_tcbb-F6",
        "outputId": "6cf1d787-14ee-47f7-e227-e8f7cf322256"
      },
      "outputs": [
        {
          "name": "stdout",
          "output_type": "stream",
          "text": [
            "Задание 4, параметра равна: 7.954930965163191\n"
          ]
        },
        {
          "data": {
            "image/png": "[encoded data removed]",
            "text/plain": [
              "<Figure size 432x288 with 1 Axes>"
            ]
          },
          "metadata": {
            "needs_background": "light"
          },
          "output_type": "display_data"
        }
      ],
      "source": [
        "mean_4 = sum(df['Ex4']) / len(df['Ex4'])\n",
        "print('Задание 4, параметра равна:', math.sqrt(2 / math.pi * mean_4 ** 2))\n",
        "h_4 = df['Ex4'].hist()\n",
        "fig = h_4.get_figure()"
      ]
    },
    {
      "cell_type": "code",
      "execution_count": null,
      "metadata": {
        "id": "i7pYvI-Ob-F7",
        "outputId": "72271461-f1bb-4c5e-cd92-ac75479d1bba"
      },
      "outputs": [
        {
          "name": "stdout",
          "output_type": "stream",
          "text": [
            "Задание 5, оценка первого параметра равна: 3.2347562114955553\n",
            "Задание 5, оценка второго параметра равна: 2.775536883082097\n"
          ]
        },
        {
          "data": {
            "image/png": "[encoded data removed]",
            "text/plain": [
              "<Figure size 432x288 with 1 Axes>"
            ]
          },
          "metadata": {
            "needs_background": "light"
          },
          "output_type": "display_data"
        }
      ],
      "source": [
        "mean_5 = sum(df['Ex5']) / len(df['Ex5'])\n",
        "sum_5, var_5 = 0, 0\n",
        "for x in df['Ex5']:\n",
        "    sum_5 += (x - mean_5) ** 2\n",
        "var_5 = sum_5 / (len(df['Ex5'] - 1))\n",
        "print('Задание 5, оценка первого параметра равна:', mean_5 * (mean_5 * (1 - mean_5) / var_5 - 1))\n",
        "print('Задание 5, оценка второго параметра равна:', (1 - mean_5) * (mean_5 * (1 - mean_5) / var_5 - 1))\n",
        "h_5 = df['Ex5'].hist()\n",
        "fig = h_5.get_figure()"
      ]
    },
    {
      "cell_type": "code",
      "execution_count": null,
      "metadata": {
        "id": "c9GlKV7Sb-F8",
        "outputId": "c4e9e165-1af0-457f-e75b-6a02f0455281"
      },
      "outputs": [
        {
          "name": "stdout",
          "output_type": "stream",
          "text": [
            "Задание 6, оценка параметра равна: 1.9733585610384898\n"
          ]
        },
        {
          "data": {
            "image/png": "[encoded data removed]",
            "text/plain": [
              "<Figure size 432x288 with 1 Axes>"
            ]
          },
          "metadata": {
            "needs_background": "light"
          },
          "output_type": "display_data"
        }
      ],
      "source": [
        "a = df.sort_index().sort_values('Ex6', kind='mergesort')\n",
        "res_6 = list(a['Ex6'])\n",
        "x = res_6[math.ceil(len(res_6) * 3 / 4)]\n",
        "print('Задание 6, оценка параметра равна:', x)\n",
        "h_6 = df['Ex6'].hist()\n",
        "fig = h_6.get_figure()"
      ]
    },
    {
      "cell_type": "code",
      "execution_count": null,
      "metadata": {
        "id": "TJquYT85b-F9",
        "outputId": "1a140e9c-6f2c-4bf1-cfef-005d724bfc35"
      },
      "outputs": [
        {
          "name": "stdout",
          "output_type": "stream",
          "text": [
            "Задание 7, оценка параметра равна: 8\n"
          ]
        },
        {
          "data": {
            "image/png": "[encoded data removed]",
            "text/plain": [
              "<Figure size 432x288 with 1 Axes>"
            ]
          },
          "metadata": {
            "needs_background": "light"
          },
          "output_type": "display_data"
        }
      ],
      "source": [
        "a = df.sort_index().sort_values('Ex7', kind='mergesort')\n",
        "res_7 = list(a['Ex7'])\n",
        "print('Задание 7, оценка параметра равна:', res_7[-1])\n",
        "h_7 = df['Ex7'].hist()\n",
        "fig = h_7.get_figure()"
      ]
    },
    {
      "cell_type": "code",
      "execution_count": null,
      "metadata": {
        "id": "JtkoGkhHb-F9",
        "outputId": "9e8d4fc1-7081-4ca4-baed-464a5a13f65a"
      },
      "outputs": [
        {
          "name": "stdout",
          "output_type": "stream",
          "text": [
            "Задание 8, оценка параметра равна: 0.6997420781747834\n"
          ]
        },
        {
          "data": {
            "image/png": "[encoded data removed]",
            "text/plain": [
              "<Figure size 432x288 with 1 Axes>"
            ]
          },
          "metadata": {
            "needs_background": "light"
          },
          "output_type": "display_data"
        }
      ],
      "source": [
        "n = len(df['Ex8'])\n",
        "teta_8 = sum(df['Ex8'])  / n\n",
        "print('Задание 8, оценка параметра равна:', 1 - math.sqrt(2 * teta_8))\n",
        "h_8 = df['Ex8'].hist()"
      ]
    },
    {
      "cell_type": "code",
      "execution_count": null,
      "metadata": {
        "id": "R7Lp1rPxb-F-",
        "outputId": "7f31c267-2b93-4aff-d728-4d8d879b553d"
      },
      "outputs": [
        {
          "name": "stdout",
          "output_type": "stream",
          "text": [
            "Задание 9, оценка параметра равна: -3.027753053985562\n"
          ]
        },
        {
          "data": {
            "image/png": "[encoded data removed]",
            "text/plain": [
              "<Figure size 432x288 with 1 Axes>"
            ]
          },
          "metadata": {
            "needs_background": "light"
          },
          "output_type": "display_data"
        }
      ],
      "source": [
        "s_9 = sum(df['Ex9'])\n",
        "s_k9 = sum(df['Ex9']) ** 2\n",
        "s_q9 = 0\n",
        "for x in df['Ex9']:\n",
        "    s_q9 += x ** 2\n",
        "if df['Ex9'].median() > 0:\n",
        "    f = 1\n",
        "else:\n",
        "    f = -1\n",
        "sum_9 = - s_9 + f * math.sqrt(s_k9 +  4 * len(df['Ex9']) * s_q9)\n",
        "print('Задание 9, оценка параметра равна:', sum_9 / 2 / len(df['Ex9']))\n",
        "h_9 = df['Ex9'].hist()\n",
        "fig = h_9.get_figure\n"
      ]
    },
    {
      "cell_type": "code",
      "execution_count": null,
      "metadata": {
        "id": "wVLCvITjb-F_",
        "outputId": "0590cbc1-4241-4848-9c5b-a8f6ba063704"
      },
      "outputs": [
        {
          "name": "stdout",
          "output_type": "stream",
          "text": [
            "Задание 10, оценка первого параметра равна: -1.7706132112664996\n",
            "Задание 10, оценка второго параметра равна: 3.0578640895304297\n"
          ]
        },
        {
          "data": {
            "image/png": "[encoded data removed]",
            "text/plain": [
              "<Figure size 432x288 with 1 Axes>"
            ]
          },
          "metadata": {
            "needs_background": "light"
          },
          "output_type": "display_data"
        }
      ],
      "source": [
        "s_10 = sum(df['Ex10']) / len(df['Ex10'])\n",
        "sum_10, var_10 = 0, 0\n",
        "for x in df['Ex10']:\n",
        "    sum_10 += (x - s_10) ** 2\n",
        "var_10 = sum_10 / (len(df['Ex5'] - 1))\n",
        "print('Задание 10, оценка первого параметра равна:', s_10 - math.sqrt(1 + var_10))\n",
        "print('Задание 10, оценка второго параметра равна:', s_10 + math.sqrt(1 + var_10))\n",
        "h = df['Ex10'].hist()\n",
        "fig = h.get_figure()"
      ]
    }
  ],
  "metadata": {
    "kernelspec": {
      "display_name": "Python 3",
      "language": "python",
      "name": "python3"
    },
    "language_info": {
      "codemirror_mode": {
        "name": "ipython",
        "version": 3
      },
      "file_extension": ".py",
      "mimetype": "text/x-python",
      "name": "python",
      "nbconvert_exporter": "python",
      "pygments_lexer": "ipython3",
      "version": "3.8.10"
    },
    "colab": {
      "provenance": [],
      "include_colab_link": true
    }
  },
  "nbformat": 4,
  "nbformat_minor": 0
}