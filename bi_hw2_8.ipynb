{
  "nbformat": 4,
  "nbformat_minor": 0,
  "metadata": {
    "colab": {
      "name": "bi_hw2.8",
      "provenance": [],
      "collapsed_sections": []
    },
    "kernelspec": {
      "name": "python3",
      "display_name": "Python 3"
    },
    "language_info": {
      "name": "python"
    }
  },
  "cells": [
    {
      "cell_type": "code",
      "execution_count": 1,
      "metadata": {
        "id": "V8AtpKnxugdA"
      },
      "outputs": [],
      "source": [
        "import pandas as pd\n",
        "import matplotlib.pyplot as plt\n",
        "import matplotlib\n",
        "import numpy as np\n",
        "import scipy.stats as sts\n",
        "import scipy\n",
        "import seaborn as sns\n",
        "import scipy.optimize as opt\n",
        "from scipy.optimize import fmin\n",
        "import seaborn as sns"
      ]
    },
    {
      "cell_type": "code",
      "source": [
        "df = pd.read_table('/content/IB_statistics_data_HW2.8.txt',sep='\\s+', engine='python')"
      ],
      "metadata": {
        "id": "xctnu8b_dNJE"
      },
      "execution_count": 2,
      "outputs": []
    },
    {
      "cell_type": "code",
      "source": [
        "df"
      ],
      "metadata": {
        "colab": {
          "base_uri": "https://localhost:8080/",
          "height": 423
        },
        "id": "lZPTORr3dQap",
        "outputId": "bdc3ba35-86e8-47e6-b350-7a92c269845c"
      },
      "execution_count": 3,
      "outputs": [
        {
          "output_type": "execute_result",
          "data": {
            "text/plain": [
              "          Ex1  Ex1_group        Ex3  Ex3_group\n",
              "0   -0.334665          1  15.166959          1\n",
              "1    6.595572          1  15.342239          1\n",
              "2   -1.285173          1  11.471799          1\n",
              "3    9.011792          1  10.190140          1\n",
              "4    2.784666          1   7.709481          1\n",
              "..        ...        ...        ...        ...\n",
              "203  8.299938          2  19.865967          4\n",
              "204  7.265569          2   9.581659          4\n",
              "205  1.810019          2  15.537624          4\n",
              "206  5.870287          2   9.327303          4\n",
              "207 -0.902707          2  14.759461          4\n",
              "\n",
              "[208 rows x 4 columns]"
            ],
            "text/html": [
              "\n",
              "  <div id=\"df-ae27bee6-843b-4984-982b-b1453f09adbe\">\n",
              "    <div class=\"colab-df-container\">\n",
              "      <div>\n",
              "<style scoped>\n",
              "    .dataframe tbody tr th:only-of-type {\n",
              "        vertical-align: middle;\n",
              "    }\n",
              "\n",
              "    .dataframe tbody tr th {\n",
              "        vertical-align: top;\n",
              "    }\n",
              "\n",
              "    .dataframe thead th {\n",
              "        text-align: right;\n",
              "    }\n",
              "</style>\n",
              "<table border=\"1\" class=\"dataframe\">\n",
              "  <thead>\n",
              "    <tr style=\"text-align: right;\">\n",
              "      <th></th>\n",
              "      <th>Ex1</th>\n",
              "      <th>Ex1_group</th>\n",
              "      <th>Ex3</th>\n",
              "      <th>Ex3_group</th>\n",
              "    </tr>\n",
              "  </thead>\n",
              "  <tbody>\n",
              "    <tr>\n",
              "      <th>0</th>\n",
              "      <td>-0.334665</td>\n",
              "      <td>1</td>\n",
              "      <td>15.166959</td>\n",
              "      <td>1</td>\n",
              "    </tr>\n",
              "    <tr>\n",
              "      <th>1</th>\n",
              "      <td>6.595572</td>\n",
              "      <td>1</td>\n",
              "      <td>15.342239</td>\n",
              "      <td>1</td>\n",
              "    </tr>\n",
              "    <tr>\n",
              "      <th>2</th>\n",
              "      <td>-1.285173</td>\n",
              "      <td>1</td>\n",
              "      <td>11.471799</td>\n",
              "      <td>1</td>\n",
              "    </tr>\n",
              "    <tr>\n",
              "      <th>3</th>\n",
              "      <td>9.011792</td>\n",
              "      <td>1</td>\n",
              "      <td>10.190140</td>\n",
              "      <td>1</td>\n",
              "    </tr>\n",
              "    <tr>\n",
              "      <th>4</th>\n",
              "      <td>2.784666</td>\n",
              "      <td>1</td>\n",
              "      <td>7.709481</td>\n",
              "      <td>1</td>\n",
              "    </tr>\n",
              "    <tr>\n",
              "      <th>...</th>\n",
              "      <td>...</td>\n",
              "      <td>...</td>\n",
              "      <td>...</td>\n",
              "      <td>...</td>\n",
              "    </tr>\n",
              "    <tr>\n",
              "      <th>203</th>\n",
              "      <td>8.299938</td>\n",
              "      <td>2</td>\n",
              "      <td>19.865967</td>\n",
              "      <td>4</td>\n",
              "    </tr>\n",
              "    <tr>\n",
              "      <th>204</th>\n",
              "      <td>7.265569</td>\n",
              "      <td>2</td>\n",
              "      <td>9.581659</td>\n",
              "      <td>4</td>\n",
              "    </tr>\n",
              "    <tr>\n",
              "      <th>205</th>\n",
              "      <td>1.810019</td>\n",
              "      <td>2</td>\n",
              "      <td>15.537624</td>\n",
              "      <td>4</td>\n",
              "    </tr>\n",
              "    <tr>\n",
              "      <th>206</th>\n",
              "      <td>5.870287</td>\n",
              "      <td>2</td>\n",
              "      <td>9.327303</td>\n",
              "      <td>4</td>\n",
              "    </tr>\n",
              "    <tr>\n",
              "      <th>207</th>\n",
              "      <td>-0.902707</td>\n",
              "      <td>2</td>\n",
              "      <td>14.759461</td>\n",
              "      <td>4</td>\n",
              "    </tr>\n",
              "  </tbody>\n",
              "</table>\n",
              "<p>208 rows × 4 columns</p>\n",
              "</div>\n",
              "      <button class=\"colab-df-convert\" onclick=\"convertToInteractive('df-ae27bee6-843b-4984-982b-b1453f09adbe')\"\n",
              "              title=\"Convert this dataframe to an interactive table.\"\n",
              "              style=\"display:none;\">\n",
              "        \n",
              "  <svg xmlns=\"http://www.w3.org/2000/svg\" height=\"24px\"viewBox=\"0 0 24 24\"\n",
              "       width=\"24px\">\n",
              "    <path d=\"M0 0h24v24H0V0z\" fill=\"none\"/>\n",
              "    <path d=\"M18.56 5.44l.94 2.06.94-2.06 2.06-.94-2.06-.94-.94-2.06-.94 2.06-2.06.94zm-11 1L8.5 8.5l.94-2.06 2.06-.94-2.06-.94L8.5 2.5l-.94 2.06-2.06.94zm10 10l.94 2.06.94-2.06 2.06-.94-2.06-.94-.94-2.06-.94 2.06-2.06.94z\"/><path d=\"M17.41 7.96l-1.37-1.37c-.4-.4-.92-.59-1.43-.59-.52 0-1.04.2-1.43.59L10.3 9.45l-7.72 7.72c-.78.78-.78 2.05 0 2.83L4 21.41c.39.39.9.59 1.41.59.51 0 1.02-.2 1.41-.59l7.78-7.78 2.81-2.81c.8-.78.8-2.07 0-2.86zM5.41 20L4 18.59l7.72-7.72 1.47 1.35L5.41 20z\"/>\n",
              "  </svg>\n",
              "      </button>\n",
              "      \n",
              "  <style>\n",
              "    .colab-df-container {\n",
              "      display:flex;\n",
              "      flex-wrap:wrap;\n",
              "      gap: 12px;\n",
              "    }\n",
              "\n",
              "    .colab-df-convert {\n",
              "      background-color: #E8F0FE;\n",
              "      border: none;\n",
              "      border-radius: 50%;\n",
              "      cursor: pointer;\n",
              "      display: none;\n",
              "      fill: #1967D2;\n",
              "      height: 32px;\n",
              "      padding: 0 0 0 0;\n",
              "      width: 32px;\n",
              "    }\n",
              "\n",
              "    .colab-df-convert:hover {\n",
              "      background-color: #E2EBFA;\n",
              "      box-shadow: 0px 1px 2px rgba(60, 64, 67, 0.3), 0px 1px 3px 1px rgba(60, 64, 67, 0.15);\n",
              "      fill: #174EA6;\n",
              "    }\n",
              "\n",
              "    [theme=dark] .colab-df-convert {\n",
              "      background-color: #3B4455;\n",
              "      fill: #D2E3FC;\n",
              "    }\n",
              "\n",
              "    [theme=dark] .colab-df-convert:hover {\n",
              "      background-color: #434B5C;\n",
              "      box-shadow: 0px 1px 3px 1px rgba(0, 0, 0, 0.15);\n",
              "      filter: drop-shadow(0px 1px 2px rgba(0, 0, 0, 0.3));\n",
              "      fill: #FFFFFF;\n",
              "    }\n",
              "  </style>\n",
              "\n",
              "      <script>\n",
              "        const buttonEl =\n",
              "          document.querySelector('#df-ae27bee6-843b-4984-982b-b1453f09adbe button.colab-df-convert');\n",
              "        buttonEl.style.display =\n",
              "          google.colab.kernel.accessAllowed ? 'block' : 'none';\n",
              "\n",
              "        async function convertToInteractive(key) {\n",
              "          const element = document.querySelector('#df-ae27bee6-843b-4984-982b-b1453f09adbe');\n",
              "          const dataTable =\n",
              "            await google.colab.kernel.invokeFunction('convertToInteractive',\n",
              "                                                     [key], {});\n",
              "          if (!dataTable) return;\n",
              "\n",
              "          const docLinkHtml = 'Like what you see? Visit the ' +\n",
              "            '<a target=\"_blank\" href=https://colab.research.google.com/notebooks/data_table.ipynb>data table notebook</a>'\n",
              "            + ' to learn more about interactive tables.';\n",
              "          element.innerHTML = '';\n",
              "          dataTable['output_type'] = 'display_data';\n",
              "          await google.colab.output.renderOutput(dataTable, element);\n",
              "          const docLink = document.createElement('div');\n",
              "          docLink.innerHTML = docLinkHtml;\n",
              "          element.appendChild(docLink);\n",
              "        }\n",
              "      </script>\n",
              "    </div>\n",
              "  </div>\n",
              "  "
            ]
          },
          "metadata": {},
          "execution_count": 3
        }
      ]
    },
    {
      "cell_type": "markdown",
      "source": [
        "### Задача 1."
      ],
      "metadata": {
        "id": "Ww9psr-dvLBy"
      }
    },
    {
      "cell_type": "code",
      "source": [
        "X = df['Ex1'].to_numpy()\n",
        "group = np.where(df['Ex1_group'].to_numpy() == 1)[0]\n",
        "X1, X2 = X[group], X[group[-1]+1:]"
      ],
      "metadata": {
        "id": "jJk01wrbvNHe"
      },
      "execution_count": 4,
      "outputs": []
    },
    {
      "cell_type": "markdown",
      "source": [
        "Двухвыборочный t-тест (независимые выборки)"
      ],
      "metadata": {
        "id": "a_jMSLkJejcr"
      }
    },
    {
      "cell_type": "code",
      "source": [
        "alpha = 0.05\n",
        "n = len(X1) # так как выборки одного объема\n",
        "T = (np.mean(X1) - np.mean(X2)) / (np.std(X1) + np.std(X2)) * np.sqrt(n) # статистика теста\n",
        "fd = ((np.var(X1) + np.var(X2)) / n) ** 2 / ((np.var(X1) / n) **2 / (n - 1) + (np.var(X2) / n) **2 / (n - 1))\n",
        "t = sts.t.cdf(x = T, df = fd)\n",
        "tl, tu = sts.t.ppf(q = alpha / 2, df = fd), sts.t.ppf(q = 1 - alpha / 2, df = fd)\n",
        "print(f'95%-доверительный интервал равен {tl}, {tu}')\n",
        "print(f'Статистика критерия равна {t}')\n",
        "if tl < t < tu:\n",
        "    print(f'Нет оснований отклонить гипотезу с уровнем значимости {alpha}')\n",
        "else:\n",
        "    print(f'Есть основания отклонить гипотезу с уровнем значимости {alpha}')\n",
        "print(f'p-value равно {2 * min(1 - sts.t.cdf(x = T, df = fd), sts.t.cdf(x = T, df = fd))}')"
      ],
      "metadata": {
        "colab": {
          "base_uri": "https://localhost:8080/"
        },
        "id": "t6Hzmo7vemoB",
        "outputId": "e4048c61-918e-4785-a46c-91734e637f6d"
      },
      "execution_count": 7,
      "outputs": [
        {
          "output_type": "stream",
          "name": "stdout",
          "text": [
            "95%-доверительный интервал равен -1.9715496134232207, 1.9715496134232202\n",
            "Статистика критерия равна 0.250418237591115\n",
            "Нет оснований отклонить гипотезу с уровнем значимости 0.05\n",
            "p-value равно 0.50083647518223\n"
          ]
        }
      ]
    },
    {
      "cell_type": "markdown",
      "source": [
        "Двухвыборочный t-тест (зависимые выборки)"
      ],
      "metadata": {
        "id": "3slMKoQ1hDPp"
      }
    },
    {
      "cell_type": "code",
      "source": [
        "X12 = X1 - X2\n",
        "T = np.sqrt(n) * np.mean(X12) / np.std(X12)\n",
        "fd = n - 1\n",
        "t = sts.t.cdf(x = T, df = fd)\n",
        "tl, tu = sts.t.ppf(q = alpha / 2, df = fd), sts.t.ppf(q = 1 - alpha / 2, df = fd)\n",
        "print(f'95%-доверительный интервал равен {tl}, {tu}')\n",
        "print(f'Статистика критерия равна {t}')\n",
        "if tl < t < tu:\n",
        "    print(f'Нет оснований отклонить гипотезу с уровнем значимости {alpha}')\n",
        "else:\n",
        "    print(f'Есть основания отклонить гипотезу с уровнем значимости {alpha}')\n",
        "print(f'p-value равно {2 * min(1 - sts.t.cdf(x = T, df = fd), sts.t.cdf(x = T, df = fd))}')"
      ],
      "metadata": {
        "colab": {
          "base_uri": "https://localhost:8080/"
        },
        "id": "mE6coRFZhS92",
        "outputId": "bef32236-2496-49e7-fbf2-a93fa40bce29"
      },
      "execution_count": 6,
      "outputs": [
        {
          "output_type": "stream",
          "name": "stdout",
          "text": [
            "95%-доверительный интервал равен -1.9832641447097104, 1.98326414470971\n",
            "Статистика критерия равна 0.1574506015676488\n",
            "Нет оснований отклонить гипотезу с уровнем значимости 0.05\n",
            "p-value равно 0.3149012031352976\n"
          ]
        }
      ]
    },
    {
      "cell_type": "markdown",
      "source": [
        "### Задача 2.\n",
        "\n",
        "*Теорема (Fisher–Cochran)*\n",
        "\n",
        "Пусть $\\xi$ ∼ $\\mathcal{N}(0, \\mathbb{I})$, а квадратичные формы $Q_1, . . . , Q_k$ рангов $n_1, . . . , n_k$ такие, что $ξ^Tξ = Q_1 + · · · + Q_k$. Тогда $n = \\sum n_i$ равносильно $Q_i ∼ χ^2(n_i)$ и $Q_1, . . . , Q_k$ независимы.\n",
        "\n",
        "*Доказательство*\n",
        "\n",
        "Докажем сначала **достаточность**. Пусть выполнено $n = \\sum n_i$. Поскольку  $ξ^Tξ = \\sum Q_i$ и также $ξ^Tξ = \\eta_1 + \\eta_2 + ... \\eta_n$, где $\\sum \\eta_i \\sim χ^2(n)$ (так как $\\xi_i$ ∼ $\\mathcal{N}(0, 1)$ и независимы). Случай, когда $n_1 = ... = n_{k-1} = 0$ и $n_k = n$ был рассмотрен только что, когда есть всего одна квадратичная форма ($Q_k = \\sum \\eta_i$). Рассмотрим случай, когда есть несколько ненулевых рангов. В этом случае пусть у каждой квадратичной формы есть матрица $M_i$ и $\\xi^T M_i \\xi = Q_i$, тогда $\\sum Q_i = \\sum \\xi^T M_i \\xi = \\xi^T (\\sum  M_i) \\xi = ξ^Tξ$ (по условию). То есть сумма $\\sum  M_i= \\mathbb{I}$. Значит мы можем диагонализировать все матрицы $M_i$. Пусть у нас есть частичная сумма матриц $M_i$ без $M_i$, то есть $S_i = \\sum_\\limits{j \\neq i} M_j$. Тогда пусть мы диагонализировали матрицу $M_i$ и ее ранг равен $n_i$, значит она имеет $i$ ненулевых строк. Тогда ранг матрицы $S_i$ будет равен $n- n_i$. И эта матрица будет иметь $n-n_i$ ненулевых строк. В сумме ранг равен $n$. Теперь пусть мы выбрали такой базис, что ненулевые строки матриц $M_i$ и $S_i$ имеют различные номера, то есть ненулевые строки матрицы $S_i$ можно блоком вставить в то место, где стоят нули на диагонали матрицы $M_i$, то есть мы получили две независимые матрицы. Повторяя эту процедуру далее, получим $k$ независимых матриц, а, следовательно, и $k$ независимых квадратичных форм, отсюда и следует, что $Q_i \\sim \\chi^2(n_i)$ (потому что в диагонализированной матрице $M_i$ всего $n_i$ ненулевых строк.\n",
        "\n",
        "Теперь докажем **необходимость**. Пусть у нас есть $k$ независимых квадратичных форм. Тогда зная о том, что мы можем диагонализировать их матрицы, сделаем действия, приведенные ранее, в обратном порядке. То есть если $Q_i \\sim \\chi^2(n_i)$, тогда матрица этой квадратичной формы имеет ранг $n_i$ (по определению ранга матрицы). Далее можем так же показать, что $\\sum M_i = \\mathbb{I}$. И, диагонализируя матрицы и выбирая нужный базис, получим, что можно составить блоки из ненулевых частей этих диагональных матриц, и далее получим $\\sum n_i = n$."
      ],
      "metadata": {
        "id": "qzx5Pk84vNhI"
      }
    },
    {
      "cell_type": "markdown",
      "source": [
        "### Задача 4.\n",
        "\n",
        "- (a) Проверьте, что в случае двухфакторной модели дисперсионного анализа $R^2_1 = Q_0 + Q_α$.\n",
        "\n",
        "Согласно лекции $Q_0 = \\sum\\limits_{i,j,k}(y_{ijk} − \\hat μ − \\hat α_i − \\hat β_j −  \\hat{(αβ)}_{ij})^2$ и $Q_α =\\sum\\limits_{i,j,k}(\\hat α_i)^2$, тогда $Q_0 + Q_α = \\sum\\limits_{i,j,k}[(y_{ijk} − \\hat μ − \\hat α_i − \\hat β_j −  \\hat{(αβ)}_{ij})^2 + (\\hat α_i)^2] = \\sum\\limits_{i,j,k}[(y_{ijk} − \\hat μ − \\hat α_i − \\hat β_j −  \\hat{(αβ)}_{ij}, y_{ijk} − \\hat μ − \\hat α_i − \\hat β_j −  \\hat{(αβ)}_{ij}) + (\\hat α_i, \\hat α_i)]$. Далее по свойству скалярного произведения получаем $\\sum\\limits_{i,j,k}[(y_{ijk} − \\hat μ − \\hat α_i − \\hat β_j −  \\hat{(αβ)}_{ij}, y_{ijk} − \\hat μ − \\hat α_i − \\hat β_j −  \\hat{(αβ)}_{ij}) + (\\hat α_i, \\hat α_i)] = \\sum\\limits_{i,j,k}[(y_{ijk} − \\hat μ − \\hat β_j −  \\hat{(αβ)}_{ij}, y_{ijk} − \\hat μ − \\hat α_i − \\hat β_j −  \\hat{(αβ)}_{ij}) + (0, \\hat α_i)] = \\sum\\limits_{i,j,k}[(y_{ijk} − \\hat μ − \\hat β_j −  \\hat{(αβ)}_{ij}, y_{ijk} − \\hat μ  − \\hat β_j −  \\hat{(αβ)}_{ij}) + (0, 0)] =  \\sum\\limits_{i,j,k}(y_{ijk} − \\hat μ − \\hat β_j −  \\hat{(αβ)}_{ij}, y_{ijk} − \\hat μ − \\hat α_i − \\hat β_j −  \\hat{(αβ)}_{ij}) = \\sum\\limits_{i,j,k}(y_{ijk} − \\hat μ − \\hat β_j −  \\hat{(αβ)}_{ij})^2 = R_1^2.$ Что и требовалось показать.\n",
        "\n",
        "- (b) Придумайте (и докажите!) аналогичное разложение для проверки гипотезы $H_0 : (αβ)_{11} = · · · = (αβ)_{rs} = 0$.\n",
        "\n",
        "Как и в предыдущем случае $Q_0 = \\sum\\limits_{i,j,k}(y_{ijk} − \\hat μ − \\hat α_i − \\hat β_j −  \\hat{(αβ)}_{ij})^2$, при этом $R_1^2 = \\sum\\limits_{i,j,k}(y_{ijk} − \\hat μ − \\hat α_i - \\hat β_j)^2$, тогда $Q_{αβ} = \\sum\\limits_{i,j,k}(\\hat{ αβ})_{ij}^2 = m\\sum\\limits_{j}^s\\sum\\limits_{i}^r(\\bar y_{ij·} − \\bar y_{i·} − \\bar y_{·j} + \\bar y)^2$. Тогда $\\frac{Q_{αβ}}{σ} ∼ χ^2(r(s - 1))$ и $Q_0$ и $Q_{αβ}$ независимы, при этом в случае верной $H_0$ $\\frac{Q_0}{σ} ∼ χ^2(rs(m-1))$, отсюда $F =\\frac{rs(m−1)}{r(s−1)}·\\frac{Q_{αβ}}{Q_0}∼ F(r(s − 1),rs(m − 1)).$ И искомое разложение имеет вид: $R^2_1 = Q_{αβ} + Q_0$. Далее сторим доверительный интервал и проверяем гипотезу."
      ],
      "metadata": {
        "id": "8uWz6dPi_jSv"
      }
    }
  ]
}