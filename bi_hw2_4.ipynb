{
  "nbformat": 4,
  "nbformat_minor": 0,
  "metadata": {
    "colab": {
      "name": "bi_hw2.4",
      "provenance": [],
      "collapsed_sections": []
    },
    "kernelspec": {
      "name": "python3",
      "display_name": "Python 3"
    },
    "language_info": {
      "name": "python"
    }
  },
  "cells": [
    {
      "cell_type": "code",
      "execution_count": null,
      "metadata": {
        "id": "U11ZlM02G956"
      },
      "outputs": [],
      "source": [
        "import pandas as pd\n",
        "import matplotlib.pyplot as plt\n",
        "import matplotlib\n",
        "import numpy as np\n",
        "import scipy.stats as sts\n",
        "import scipy\n",
        "import math\n",
        "import itertools\n",
        "from scipy.special import zeta, kolmogorov\n",
        "from math import pi, sin, cos, sqrt, exp, log\n",
        "from mpl_toolkits.mplot3d import Axes3D\n",
        "import sympy as sym\n",
        "import seaborn as sns\n",
        "from itertools import chain, combinations\n",
        "from sklearn.model_selection import train_test_split as tr\n",
        "import scipy.optimize as opt"
      ]
    },
    {
      "cell_type": "code",
      "execution_count": null,
      "metadata": {
        "id": "40439902"
      },
      "outputs": [],
      "source": [
        "df = pd.read_table('/content/IB_statistics_data_HW2.4.txt',sep='\\s+', engine='python')"
      ]
    },
    {
      "cell_type": "code",
      "source": [
        "n = 230"
      ],
      "metadata": {
        "id": "NL9ywIi9KvL9"
      },
      "execution_count": null,
      "outputs": []
    },
    {
      "cell_type": "markdown",
      "source": [
        "### Задача 1."
      ],
      "metadata": {
        "id": "u7qIwfFIISNq"
      }
    },
    {
      "cell_type": "markdown",
      "source": [
        "- (a) Будем использовать обобщенный МНК.\n",
        "\n",
        "Для начала построим ковариацинноую матрицу из условия. Как можно заметить, все ее строки (столбцы) линейно независимы."
      ],
      "metadata": {
        "id": "Rem1hIb_I9rf"
      }
    },
    {
      "cell_type": "code",
      "source": [
        "Vn = np.ones((n, n)) + np.diag(np.ones((n)))"
      ],
      "metadata": {
        "id": "wJnZsHfAIRBO"
      },
      "execution_count": null,
      "outputs": []
    },
    {
      "cell_type": "markdown",
      "source": [
        "Тогда согласно 5 слайду 17 лекции построим оценку параметра $\\beta$ в следующем виде: $\\hat{\\beta} = (\\mathbb{X}^TV_n\\mathbb{X})^{-1}\\mathbb{X}^TV_n^{-1}\\mathbb{Y}$."
      ],
      "metadata": {
        "id": "tXpqAJOgOwI3"
      }
    },
    {
      "cell_type": "code",
      "source": [
        "X = df.loc[:, 'Ex1a.x1': 'Ex1a.x3'].to_numpy()\n",
        "y = df['Ex1a.y'].to_numpy()\n",
        "X = np.array(np.concatenate(([np.ones(n)], X.T), axis=0)).T\n",
        "beta = np.linalg.inv(X.T @ Vn @ X) @ X.T @ np.linalg.inv(Vn) @ y\n",
        "print('Оценка параметра beta, построенная по обобщенному МНК, равна', beta)"
      ],
      "metadata": {
        "colab": {
          "base_uri": "https://localhost:8080/"
        },
        "id": "27MJv-iCOFnJ",
        "outputId": "01eb981d-2b76-4369-afe3-cc893a49e0fb"
      },
      "execution_count": null,
      "outputs": [
        {
          "output_type": "stream",
          "name": "stdout",
          "text": [
            "Оценка параметра beta, построенная по обобщенному МНК, равна [-0.17477664 -0.94407061  1.96011558  3.00038432]\n"
          ]
        }
      ]
    },
    {
      "cell_type": "markdown",
      "source": [
        "- (b) Будем использовать модификацию обобщенного МНК. Для этого вместо обратной матрицы $V_n^{-1}$ будем искать псевдообратную матрицу Мура-Пенроуза $V_n^+ = Q\\Sigma^{-1}P^T$, где $Q$ -- матрица столбцов сингулярных векторов матрицы $V_n$, $P$ -- матрица столбцов сингулярных векторов $V_n^T$, $\\Sigma$ --диагональная матрица с сингулярными числами матрицы $V_n$ (по теореме о сингулярном разложении). Тогда $\\tilde{\\beta} = (\\mathbb{X}^TV_n\\mathbb{X})^{-1}\\mathbb{X}^T(Q\\Sigma^{-1}P^T)\\mathbb{Y}$."
      ],
      "metadata": {
        "id": "sH47puekQ2-c"
      }
    },
    {
      "cell_type": "code",
      "source": [
        "Vn[-1] *= 2\n",
        "Vn.T[-1] *= 2\n",
        "Vn[-1][-2] = Vn.T[-1][-2] = 4\n",
        "Vn"
      ],
      "metadata": {
        "colab": {
          "base_uri": "https://localhost:8080/"
        },
        "id": "wivnsczmWvvc",
        "outputId": "3118c861-35c6-4419-d7c3-823743a59b4d"
      },
      "execution_count": null,
      "outputs": [
        {
          "output_type": "execute_result",
          "data": {
            "text/plain": [
              "array([[2., 1., 1., ..., 1., 1., 2.],\n",
              "       [1., 2., 1., ..., 1., 1., 2.],\n",
              "       [1., 1., 2., ..., 1., 1., 2.],\n",
              "       ...,\n",
              "       [1., 1., 1., ..., 2., 1., 2.],\n",
              "       [1., 1., 1., ..., 1., 2., 4.],\n",
              "       [2., 2., 2., ..., 2., 4., 8.]])"
            ]
          },
          "metadata": {},
          "execution_count": 8
        }
      ]
    },
    {
      "cell_type": "code",
      "source": [
        "Vn_plus = np.linalg.pinv(Vn)"
      ],
      "metadata": {
        "id": "51WtlYJePsbn"
      },
      "execution_count": null,
      "outputs": []
    },
    {
      "cell_type": "markdown",
      "source": [
        "Проверим, дейстивтельно ли $V_n^+$ удовлетворяет равенству $V_nV_n^+V_n = V_n$."
      ],
      "metadata": {
        "id": "Sobnw76QVCZQ"
      }
    },
    {
      "cell_type": "code",
      "source": [
        "Vn @ Vn_plus @ Vn"
      ],
      "metadata": {
        "colab": {
          "base_uri": "https://localhost:8080/"
        },
        "id": "h809G4mJUwr5",
        "outputId": "0e1a5870-7b47-4da7-9bb2-b2a5a22027e2"
      },
      "execution_count": null,
      "outputs": [
        {
          "output_type": "execute_result",
          "data": {
            "text/plain": [
              "array([[2., 1., 1., ..., 1., 1., 2.],\n",
              "       [1., 2., 1., ..., 1., 1., 2.],\n",
              "       [1., 1., 2., ..., 1., 1., 2.],\n",
              "       ...,\n",
              "       [1., 1., 1., ..., 2., 1., 2.],\n",
              "       [1., 1., 1., ..., 1., 2., 4.],\n",
              "       [2., 2., 2., ..., 2., 4., 8.]])"
            ]
          },
          "metadata": {},
          "execution_count": 10
        }
      ]
    },
    {
      "cell_type": "markdown",
      "source": [
        "Как видим, псевдообраная матрица Мура-Пенроуза удовлетворяет данным условиям. Поэтому будем использовать $V_n^+$ в модификации обобщенного МНК."
      ],
      "metadata": {
        "id": "3lDSNQOwVSxS"
      }
    },
    {
      "cell_type": "code",
      "source": [
        "X = df.loc[:, 'Ex1b.x1': 'Ex1b.x3'].to_numpy()\n",
        "y = df['Ex1b.y'].to_numpy()\n",
        "X = np.array(np.concatenate(([np.ones(n)], X.T), axis=0)).T\n",
        "beta = np.linalg.inv(X.T @ Vn @ X) @ X.T @ Vn_plus @ y\n",
        "print('Оценка параметра beta, построенная по обобщенному МНК, равна', beta)"
      ],
      "metadata": {
        "colab": {
          "base_uri": "https://localhost:8080/"
        },
        "id": "Vat2d5HlUydI",
        "outputId": "2341e2dc-da9b-417b-c5fa-1e20a431e236"
      },
      "execution_count": null,
      "outputs": [
        {
          "output_type": "stream",
          "name": "stdout",
          "text": [
            "Оценка параметра beta, построенная по обобщенному МНК, равна [ 0.03869847  0.9460582  -1.94149032  3.05342636]\n"
          ]
        }
      ]
    },
    {
      "cell_type": "markdown",
      "source": [
        "### Задача 2."
      ],
      "metadata": {
        "id": "3v5LwsUDb5FV"
      }
    },
    {
      "cell_type": "markdown",
      "source": [
        "- (a) Проверим гипотезу о наличии автокорреляции. Для начала построим оценку параметра $\\beta$ с помощью МНК."
      ],
      "metadata": {
        "id": "VCt1tkmMcGC2"
      }
    },
    {
      "cell_type": "code",
      "source": [
        "X = df.loc[:, 'Ex2.x1': 'Ex2.x4'].to_numpy()\n",
        "y = df['Ex2.y'].to_numpy()\n",
        "X = np.array(np.concatenate(([np.ones(n)], X.T), axis=0)).T\n",
        "beta = np.linalg.inv(X.T @ X) @ X.T @ y\n",
        "print('Оценка параметра beta, построенная по МНК, равна', beta)"
      ],
      "metadata": {
        "colab": {
          "base_uri": "https://localhost:8080/"
        },
        "id": "GaeH5buGlbo2",
        "outputId": "0db0f7a5-1f88-4a97-b792-dbf649fa6ee6"
      },
      "execution_count": null,
      "outputs": [
        {
          "output_type": "stream",
          "name": "stdout",
          "text": [
            "Оценка параметра beta, построенная по МНК, равна [ 1.81752872e+00  6.99869210e+00  4.55513784e-02  2.36610491e-03\n",
            " -2.21359292e-02]\n"
          ]
        }
      ]
    },
    {
      "cell_type": "markdown",
      "source": [
        "Найдем ошибки."
      ],
      "metadata": {
        "id": "m1VIiOuSl6SH"
      }
    },
    {
      "cell_type": "code",
      "source": [
        "eps = y - X @ beta"
      ],
      "metadata": {
        "id": "iRwGz3MUl98D"
      },
      "execution_count": null,
      "outputs": []
    },
    {
      "cell_type": "markdown",
      "source": [
        "Теперь применим критерий Дарбина-Уотсона для проверки гипотезы об автокорреляции. Рассчитаем его статистику."
      ],
      "metadata": {
        "id": "IxixozRwmKcg"
      }
    },
    {
      "cell_type": "code",
      "source": [
        "from statsmodels.stats.stattools import durbin_watson\n",
        "T = durbin_watson(eps)\n",
        "print('Статистика критерия Дарбина-Уотсона равна', T)"
      ],
      "metadata": {
        "colab": {
          "base_uri": "https://localhost:8080/"
        },
        "id": "YSTewHRkb5dO",
        "outputId": "546c6825-febc-4c11-d420-5626c7423c36"
      },
      "execution_count": null,
      "outputs": [
        {
          "output_type": "stream",
          "name": "stdout",
          "text": [
            "Статистика критерия Дарбина-Уотсона равна 2.9826777327774727\n"
          ]
        }
      ]
    },
    {
      "cell_type": "markdown",
      "source": [
        "Смоделируем функцию распределения статистики Дарбина-Уотсона для роверки гипотезы и вычисления p-value."
      ],
      "metadata": {
        "id": "UlMe1g7pL6KQ"
      }
    },
    {
      "cell_type": "code",
      "source": [
        "sample = [sts.norm.rvs(size = n) for k in range(4*n)]\n",
        "DW = [durbin_watson(s) for s in sample]\n",
        "\n",
        "Fn = np.ones(4*n)\n",
        "DW.sort()\n",
        "\n",
        "for i in range(4*n):\n",
        "  j = 0\n",
        "  while(DW[j] < DW[i]):\n",
        "    Fn[i] += 1\n",
        "    j += 1\n",
        "  Fn[i] /= 4*n\n",
        "\n",
        "fig = plt.figure()\n",
        "plt.xlabel('Стастистика критерия Дарбина-Уотсона')\n",
        "plt.ylabel('Функция распределения статистики критерия')\n",
        "plt.plot(np.array(DW), Fn)\n",
        "plt.show()"
      ],
      "metadata": {
        "colab": {
          "base_uri": "https://localhost:8080/",
          "height": 294
        },
        "id": "xn4U7WWymOWP",
        "outputId": "7eeb0165-3b21-41fb-ff73-33a6860000fd"
      },
      "execution_count": null,
      "outputs": [
        {
          "output_type": "display_data",
          "data": {
            "image/png": "[encoded data removed]",
            "text/plain": [
              "<Figure size 432x288 with 1 Axes>"
            ]
          },
          "metadata": {
            "needs_background": "light"
          }
        }
      ]
    },
    {
      "cell_type": "code",
      "source": [
        "# уровень значимости\n",
        "alpha = 0.05\n",
        "\n",
        "# квантили распределения статистики критерия\n",
        "dl, du = DW[min(np.where(Fn == alpha / 2))[0]], DW[min(np.where(Fn == 1 - alpha / 2))[0]]\n",
        "\n",
        "# проверим гипотезу H0 об отсутствии автокорреляции\n",
        "if T < dl:\n",
        "  print('H0 отвергается против гипотезы о положительной корреляции с уровнем значимости 0.05')\n",
        "if dl < T < du or 4 - du < T < 4 - dl:\n",
        "  print('H0 не отвергается, и альтернатива не отвергается с уровнем значимости 0.05')\n",
        "if du < T < 4 - du:\n",
        "  print('H0 согласуется с выборкой с уровнем значимости 0.05')\n",
        "if 4 - dl < T < 4:\n",
        "  print('H0 отвергается против гипотезы об отрицательной корреляции с уровнем значимости 0.05')\n",
        "\n",
        "# вычислим p-значение\n",
        "pvalue = 1 - Fn[max(max((np.where(Fn < T))))]\n",
        "print('p-value равно', pvalue)"
      ],
      "metadata": {
        "colab": {
          "base_uri": "https://localhost:8080/"
        },
        "id": "k_dxk4Ac-gqE",
        "outputId": "2f78fe29-c153-439d-a818-ebc32d802751"
      },
      "execution_count": null,
      "outputs": [
        {
          "output_type": "stream",
          "name": "stdout",
          "text": [
            "H0 отвергается против гипотезы об отрицательной корреляции с уровнем значимости 0.05\n",
            "p-value равно 1.0\n"
          ]
        }
      ]
    },
    {
      "cell_type": "markdown",
      "source": [
        "- (b) ***Если гипотеза об отсутствии автокорреляции отвергается, постройте оценки всех неизвестных параметров (в том числе и коэффициента автокорреляции)***.\n",
        "\n",
        "Так как в предыдущем пункте нулевая гипотеза отклонилась в пользу наличия автокорреляции, построим оценки параметров согласно 8 слайду лекции 17. Посторим МНК оценку исходной модели."
      ],
      "metadata": {
        "id": "g69mkPxkJAdG"
      }
    },
    {
      "cell_type": "code",
      "source": [
        "X = df.loc[:, 'Ex2.x1': 'Ex2.x4'].to_numpy()\n",
        "y = df['Ex2.y'].to_numpy()\n",
        "X = np.array(np.concatenate(([np.ones(n)], X.T), axis=0)).T\n",
        "beta = np.linalg.inv(X.T @ X) @ X.T @ y\n",
        "beta"
      ],
      "metadata": {
        "colab": {
          "base_uri": "https://localhost:8080/"
        },
        "id": "CAPaipZ2LDGl",
        "outputId": "048789b0-b33b-4cd7-f5b6-67e8db3b2413"
      },
      "execution_count": null,
      "outputs": [
        {
          "output_type": "execute_result",
          "data": {
            "text/plain": [
              "array([ 1.81752872e+00,  6.99869210e+00,  4.55513784e-02,  2.36610491e-03,\n",
              "       -2.21359292e-02])"
            ]
          },
          "metadata": {},
          "execution_count": 17
        }
      ]
    },
    {
      "cell_type": "markdown",
      "source": [
        "Далее зададим точность и будем итеративно осуществлять поиск ОМНК оценки для модели с автокорреляцией."
      ],
      "metadata": {
        "id": "lbMpYyIHEim2"
      }
    },
    {
      "cell_type": "code",
      "source": [
        "epsilon = 0.00001\n",
        "newbeta = np.ones(len(beta))\n",
        "beta1 = np.array(beta)\n",
        "\n",
        "# пока разница между старым и новым решением не станет меньше заданного эасилон\n",
        "while (abs(beta1 - newbeta) > epsilon).any():\n",
        "  # вычисляем ошибки, коэффициент корреляции и сумму квадратов ошибок\n",
        "  er = y - X @ beta1\n",
        "  s1, s2 = sum(er ** 2) - er[0] ** 2, sum([er[i - 1] * er[i] for i in range(1, n)])\n",
        "  r, sigma = s2 / s1, sum(er ** 2) / n\n",
        "  V = np.ones((n, n))\n",
        "\n",
        "  # заполняем новую ковариационную матрицу\n",
        "  for i in range(n):\n",
        "    for j in range(n):\n",
        "      V[i][j] = r ** abs(i - j)\n",
        "  V *= sigma / (1 - r ** 2)\n",
        "\n",
        "  # пересчитываем значение beta\n",
        "  beta1 = newbeta\n",
        "  newbeta = np.linalg.inv(X.T @ V @ X) @ X.T @ np.linalg.inv(V) @ y\n",
        "\n",
        "print('Изначальная оценка beta:', beta, '\\nНовая оценка beta:', newbeta)\n",
        "print('Оценка sigma^2:', sigma, ', оценка r:', r)"
      ],
      "metadata": {
        "colab": {
          "base_uri": "https://localhost:8080/"
        },
        "id": "bqJsNwB9EV1m",
        "outputId": "09f6c0b3-8cd1-4926-ee44-40b96f7fa2c8"
      },
      "execution_count": null,
      "outputs": [
        {
          "output_type": "stream",
          "name": "stdout",
          "text": [
            "Изначальная оценка beta: [ 1.81752872e+00  6.99869210e+00  4.55513784e-02  2.36610491e-03\n",
            " -2.21359292e-02] \n",
            "Новая оценка beta: [ 5.84930590e-04  2.30128364e-03 -3.07087595e-05  1.59209965e-06\n",
            " -7.43334382e-06]\n",
            "Оценка sigma^2: 54.08821979129832 , оценка r: 0.11075036905219494\n"
          ]
        }
      ]
    },
    {
      "cell_type": "markdown",
      "source": [
        "- (c) ***воспользуйтесь моделированием, чтобы приблизительно найти функцию распределения статистики критерия Дарбина–Уотсона в случае отсутствия\n",
        "автокорреляции при m = 6 и объеме выборки 111***"
      ],
      "metadata": {
        "id": "kItAThvJE_8w"
      }
    },
    {
      "cell_type": "code",
      "source": [
        "N = 111\n",
        "m = 6\n",
        "beta = np.array([0.06, 0.7, -1, 0.05, 3, -1])\n",
        "DW = []\n",
        "Fn = np.ones(n * 5)\n",
        "\n",
        "for i in range(n * 5):\n",
        "    mean = np.zeros(m)\n",
        "    cov = np.diag(np.ones(m))\n",
        "\n",
        "    # выборка из многомерного нормального распределения размером N = 111\n",
        "    # число измерений равно m = 6\n",
        "    x = sts.multivariate_normal.rvs(mean=mean, cov=cov, size=N)\n",
        "\n",
        "    scale = np.linspace(0.01, 1, N)\n",
        "    # нормально распределенные ошибки, независимые с X\n",
        "    er = sts.norm.rvs(loc=0, scale=scale, size=N)\n",
        "\n",
        "    y = er + x @ beta\n",
        "    V = np.diag(scale)\n",
        "    beta = np.linalg.inv(x.T @ np.linalg.inv(V) @ x) @ x.T @ np.linalg.inv(V) @ y\n",
        "    DW.append(durbin_watson(y - x @ beta))\n",
        "\n",
        "DW.sort()\n",
        "\n",
        "for i in range(n * 5):\n",
        "    j = 0\n",
        "    while(DW[j] < DW[i]):\n",
        "      Fn[i] += 1\n",
        "      j += 1\n",
        "    Fn[i] /= n * 5\n",
        "\n",
        "plt.plot(DW, Fn)\n",
        "plt.xlabel('Стастистика критерия Дарбина-Уотсона')\n",
        "plt.ylabel('Функция распределения статистики критерия')\n",
        "plt.plot(np.array(DW), Fn)\n",
        "plt.show()"
      ],
      "metadata": {
        "colab": {
          "base_uri": "https://localhost:8080/",
          "height": 294
        },
        "id": "RhpmK_CZCeuI",
        "outputId": "629070a8-c983-4c84-f4aa-24e517675b5e"
      },
      "execution_count": null,
      "outputs": [
        {
          "output_type": "display_data",
          "data": {
            "image/png": "[encoded data removed]",
            "text/plain": [
              "<Figure size 432x288 with 1 Axes>"
            ]
          },
          "metadata": {
            "needs_background": "light"
          }
        }
      ]
    },
    {
      "cell_type": "markdown",
      "source": [
        "### Задача 3."
      ],
      "metadata": {
        "id": "hp-6DCdWSmsy"
      }
    },
    {
      "cell_type": "code",
      "source": [
        "X = df.loc[:, 'Ex3x1':'Ex3x3'].to_numpy()\n",
        "y = df['Ex3y'].to_numpy()\n",
        "X = np.array(np.concatenate(([np.ones(n)], X.T), axis=0)).T"
      ],
      "metadata": {
        "id": "I3e8mG196QYk"
      },
      "execution_count": null,
      "outputs": []
    },
    {
      "cell_type": "markdown",
      "source": [
        "- ковариационная матрица ошибок имеет вид $\\sigma^2\\mathbb{I}$.\n",
        "\n",
        "Оценки параметров $\\sigma^2$ и $\\beta$ будем строить, находясь  в стандартной модели линейной регрессии."
      ],
      "metadata": {
        "id": "sqAd3XV-S2iA"
      }
    },
    {
      "cell_type": "code",
      "source": [
        "beta = np.linalg.inv(X.T @ X) @ X.T @ y\n",
        "print(beta)\n",
        "eps = (y - X @ beta) ** 2\n",
        "k = len(y) - len(X.T) - 1\n",
        "sigma = sum(eps) / k\n",
        "print('Среднее значение ошибок', sum(y - X @ beta) / n)\n",
        "print(f'Оценка для параметра beta равна', beta, '\\nОценка для параметра sigma^2 равна', sigma)"
      ],
      "metadata": {
        "id": "KhtXHY10S2PS",
        "colab": {
          "base_uri": "https://localhost:8080/"
        },
        "outputId": "340e7509-573e-4279-c8d3-5c9b03f789c5"
      },
      "execution_count": null,
      "outputs": [
        {
          "output_type": "stream",
          "name": "stdout",
          "text": [
            "[-1.84920374  0.994881   -0.01320391 -3.00187785]\n",
            "Среднее значение ошибок 2.7745921502371304e-15\n",
            "Оценка для параметра beta равна [-1.84920374  0.994881   -0.01320391 -3.00187785] \n",
            "Оценка для параметра sigma^2 равна 1.125850682713854\n"
          ]
        }
      ]
    },
    {
      "cell_type": "markdown",
      "source": [
        "- ковариационная матрица ошибок имеет вид $\n",
        "\\sigma^2\\begin{pmatrix}\n",
        "w_1 & 0 & ... & 0\\\\\n",
        "0 & w_2 & ... & 0\\\\\n",
        "\\vdots &  & \\ddots & \\vdots \\\\\n",
        "0 & ... & 0 & w_n\n",
        "\\end{pmatrix}, w_i = 1 + \\frac{i}{n}$.\n",
        "\n",
        "Чтобы построить оценки параметров, разделим $i$-ое уравнение на $w_i$ и затем перейдем к стандартной модели линейной регрессии."
      ],
      "metadata": {
        "id": "oAJpdtv6u8F2"
      }
    },
    {
      "cell_type": "code",
      "source": [
        "w = np.array([1 + i / n for i in range(1, n+1)])\n",
        "y /= w\n",
        "\n",
        "def transformx(x, v):\n",
        "  for i in range(len(x.T)):\n",
        "      x.T[i] /= v\n",
        "\n",
        "transformx(X, w)\n",
        "\n",
        "beta = np.linalg.inv(X.T @ X) @ X.T @ y\n",
        "eps = (y - X @ beta) ** 2\n",
        "k = len(y) - len(X.T) - 1\n",
        "sigma = sum(eps) / k \n",
        "print('Среднее значение ошибок', sum(y - X @ beta) / n)\n",
        "print(f'Оценка для параметра beta равна', beta, '\\nОценка для параметра sigma^2 равна', sigma)"
      ],
      "metadata": {
        "id": "vq4XiUJgT5VR",
        "colab": {
          "base_uri": "https://localhost:8080/"
        },
        "outputId": "ac51b435-9a00-453b-a750-63f23ada5b8f"
      },
      "execution_count": null,
      "outputs": [
        {
          "output_type": "stream",
          "name": "stdout",
          "text": [
            "Среднее значение ошибок -0.012954659361580134\n",
            "Оценка для параметра beta равна [-1.72362879  0.99066182 -0.0382392  -2.99601995] \n",
            "Оценка для параметра sigma^2 равна 0.6812549557133161\n"
          ]
        }
      ]
    },
    {
      "cell_type": "markdown",
      "source": [
        " - дисперсии ошибок в первых $\\frac{n}{3}$ наблюдениях равны $\\sigma^2_1$, в наблюдениях с номерами $\\frac{n}{3} + 1, ..., \\frac{2n}{3}$ равны $\\sigma^2_2$, а в оставшихся наблюдениях равны $\\sigma^2_3$.\n",
        "\n",
        "Разделим выборку на 3 части. Оценим отдельно параметры, преобразуем переменные и вернемся в обычную модель."
      ],
      "metadata": {
        "id": "4ca_ojwn03vW"
      }
    },
    {
      "cell_type": "code",
      "source": [
        "n1 = int(np.ceil(n / 3))\n",
        "n2 = int(np.ceil( 2 * n / 3))\n",
        "n3 = n\n",
        "\n",
        "beta = lambda x, Y : np.linalg.inv(x.T @ x) @ x.T @ Y\n",
        "sigma = lambda x, Y, beta: sum((Y - x @ beta) ** 2) /  (len(Y) - len(x.T) - 1)\n",
        "\n",
        "x1, y1 = X[range(0, n1)], y[range(0, n1)]\n",
        "x2, y2 = X[range(n1, n2)], y[range(n1, n2)]\n",
        "x3, y3 = X[range(n2, n3)], y[range(n2, n3)]\n",
        "\n",
        "beta1, beta2, beta3 = beta(x1, y1), beta(x2, y2), beta(x3, y3)\n",
        "sigma1, sigma2, sigma3 = sigma(x1, y1, beta1), sigma(x2, y2, beta2), sigma(x3, y3, beta3)\n",
        "\n",
        "print('Оценки параметров betai', beta1, '\\n', beta2, '\\n', beta3)\n",
        "print('Оценки параметров sigmai', sigma1, sigma2, sigma3)\n",
        "\n",
        "y1 /= sigma1\n",
        "y2 /= sigma2\n",
        "y3 /= sigma3\n",
        "\n",
        "transformx(x1, sigma1)\n",
        "transformx(x2, sigma2)\n",
        "transformx(x3, sigma3)\n",
        "\n",
        "x1 = np.concatenate((x1, x2, x3))\n",
        "y1 = np.concatenate((y1, y2, y3))\n",
        "\n",
        "beta4 = beta(x1, y1)\n",
        "sigma4 = sigma(x1, y1, beta4)\n",
        "print('Среднее значение ошибок', sum(y1 - x1 @ beta4) / n)\n",
        "print(f'Оценка для параметра beta равна', beta4, '\\nОценка для параметра sigma^2 равна', sigma4)"
      ],
      "metadata": {
        "colab": {
          "base_uri": "https://localhost:8080/"
        },
        "id": "DCE08vVP1fQ0",
        "outputId": "e56a8821-4735-41e0-b731-fad6f4fe4f5c"
      },
      "execution_count": null,
      "outputs": [
        {
          "output_type": "stream",
          "name": "stdout",
          "text": [
            "Оценки параметров betai [-1.3295162   0.97672854 -0.08255008 -3.00334037] \n",
            " [-2.20539075  1.01353994  0.02986393 -3.00234969] \n",
            " [-1.74401377  0.995083    0.03231723 -3.10241636]\n",
            "Оценки параметров sigmai 2.050032600799991 0.331436252293018 0.997229852222812\n",
            "Среднее значение ошибок 0.02628142412623265\n",
            "Оценка для параметра beta равна [-2.16277711  1.01195416  0.02646722 -3.00715433] \n",
            "Оценка для параметра sigma^2 равна 1.4592975931966148\n"
          ]
        }
      ]
    },
    {
      "cell_type": "markdown",
      "source": [
        "- дисперсия ошибки пропорциональна третьему признаку.\n",
        "\n",
        "Поделим каждую строку в матрице данных на третий признак и затем вернемся к стандартной модели линейной регрессии."
      ],
      "metadata": {
        "id": "CipZamDE9gl0"
      }
    },
    {
      "cell_type": "code",
      "source": [
        "y /= X.T[3]\n",
        "\n",
        "def transformx(x, v):\n",
        "  for i in range(len(x.T)):\n",
        "      x.T[i] /= v\n",
        "\n",
        "transformx(X, X.T[3])\n",
        "\n",
        "beta = np.linalg.inv(X.T @ X) @ X.T @ y\n",
        "print('Среднее значение ошибок', sum(y - X @ beta) / n)\n",
        "eps = (y - X @ beta) ** 2\n",
        "k = len(y) - len(X.T) - 1\n",
        "sigma = sum(eps) / k \n",
        "cov1 = np.diag(np.ones(n) * sigma)\n",
        "print(f'Оценка для параметра beta равна', beta, '\\nОценка для параметра sigma^2 равна', sigma)"
      ],
      "metadata": {
        "colab": {
          "base_uri": "https://localhost:8080/"
        },
        "id": "zcgy_jmt-GlJ",
        "outputId": "b06d03f6-49eb-4dca-a800-fdea89256c6c"
      },
      "execution_count": null,
      "outputs": [
        {
          "output_type": "stream",
          "name": "stdout",
          "text": [
            "Среднее значение ошибок -3.5628504977209915e-14\n",
            "Оценка для параметра beta равна [-0.95032419  0.87160967  0.03554074 -2.74847228] \n",
            "Оценка для параметра sigma^2 равна 2.714695949404812\n"
          ]
        }
      ]
    },
    {
      "cell_type": "markdown",
      "source": [
        "Сравним средние значения ошибок для каждой модели. Как видно из результатов выше, наименьшие средние значения наблюдаются у моделей 1 и 4. Эти две модели лучше всего описывают данные. В то время как модель 3 описывает хуже всего, так как у нее самое большое среднее значение ошибок."
      ],
      "metadata": {
        "id": "l5nVuW2HAoBS"
      }
    },
    {
      "cell_type": "code",
      "source": [
        ""
      ],
      "metadata": {
        "id": "111R82BQAis2"
      },
      "execution_count": null,
      "outputs": []
    },
    {
      "cell_type": "markdown",
      "source": [
        "### Задача 4."
      ],
      "metadata": {
        "id": "zlx_n5l-cpAE"
      }
    },
    {
      "cell_type": "code",
      "source": [
        "X = df.loc[:, 'Ex4x1':'Ex4x2'].to_numpy()\n",
        "y = df['Ex4y'].to_numpy()\n",
        "X = np.array(np.concatenate(([np.ones(n)], X.T), axis=0)).T"
      ],
      "metadata": {
        "id": "MmN94npGcrQb"
      },
      "execution_count": null,
      "outputs": []
    },
    {
      "cell_type": "code",
      "source": [
        "plt.scatter(X.T[1], X.T[2])"
      ],
      "metadata": {
        "colab": {
          "base_uri": "https://localhost:8080/",
          "height": 283
        },
        "id": "V03CH5ooc2l_",
        "outputId": "7c3f522a-675b-4d8f-949b-a58632eefe11"
      },
      "execution_count": null,
      "outputs": [
        {
          "output_type": "execute_result",
          "data": {
            "text/plain": [
              "<matplotlib.collections.PathCollection at 0x7f8746819610>"
            ]
          },
          "metadata": {},
          "execution_count": 23
        },
        {
          "output_type": "display_data",
          "data": {
            "image/png": "[encoded data removed]",
            "text/plain": [
              "<Figure size 432x288 with 1 Axes>"
            ]
          },
          "metadata": {
            "needs_background": "light"
          }
        }
      ]
    },
    {
      "cell_type": "code",
      "source": [
        "plt.scatter(X.T[1], y)"
      ],
      "metadata": {
        "colab": {
          "base_uri": "https://localhost:8080/",
          "height": 283
        },
        "id": "b4RKrAJHe3r-",
        "outputId": "86ec5aaf-b639-4e16-926e-a815720f830e"
      },
      "execution_count": null,
      "outputs": [
        {
          "output_type": "execute_result",
          "data": {
            "text/plain": [
              "<matplotlib.collections.PathCollection at 0x7f874678e6d0>"
            ]
          },
          "metadata": {},
          "execution_count": 24
        },
        {
          "output_type": "display_data",
          "data": {
            "image/png": "[encoded data removed]",
            "text/plain": [
              "<Figure size 432x288 with 1 Axes>"
            ]
          },
          "metadata": {
            "needs_background": "light"
          }
        }
      ]
    },
    {
      "cell_type": "code",
      "source": [
        "plt.scatter(X.T[2], y)"
      ],
      "metadata": {
        "colab": {
          "base_uri": "https://localhost:8080/",
          "height": 283
        },
        "id": "Ej9qwecffeEG",
        "outputId": "16a7c8f8-1aec-4f5d-9c2a-9c755a12c94d"
      },
      "execution_count": null,
      "outputs": [
        {
          "output_type": "execute_result",
          "data": {
            "text/plain": [
              "<matplotlib.collections.PathCollection at 0x7f874670b110>"
            ]
          },
          "metadata": {},
          "execution_count": 25
        },
        {
          "output_type": "display_data",
          "data": {
            "image/png": "[encoded data removed]",
            "text/plain": [
              "<Figure size 432x288 with 1 Axes>"
            ]
          },
          "metadata": {
            "needs_background": "light"
          }
        }
      ]
    },
    {
      "cell_type": "markdown",
      "source": [
        "Судя по данным, можно их разделить на два интервала следующим образом."
      ],
      "metadata": {
        "id": "I0JlqpUXiByy"
      }
    },
    {
      "cell_type": "code",
      "source": [
        "X1 = X[np.where(X.T[1] > 1)]\n",
        "X2 = X[np.where(X.T[1] <= 1)]"
      ],
      "metadata": {
        "id": "jwr1PD7wc7pX"
      },
      "execution_count": null,
      "outputs": []
    },
    {
      "cell_type": "code",
      "source": [
        "plt.scatter(X1.T[1], X1.T[2])"
      ],
      "metadata": {
        "colab": {
          "base_uri": "https://localhost:8080/",
          "height": 283
        },
        "id": "jy9u2yU-dDZn",
        "outputId": "1ded7e9a-457b-4d7a-d7a0-86bbf208ced2"
      },
      "execution_count": null,
      "outputs": [
        {
          "output_type": "execute_result",
          "data": {
            "text/plain": [
              "<matplotlib.collections.PathCollection at 0x7f874667ea50>"
            ]
          },
          "metadata": {},
          "execution_count": 27
        },
        {
          "output_type": "display_data",
          "data": {
            "image/png": "[encoded data removed]",
            "text/plain": [
              "<Figure size 432x288 with 1 Axes>"
            ]
          },
          "metadata": {
            "needs_background": "light"
          }
        }
      ]
    },
    {
      "cell_type": "code",
      "source": [
        "plt.scatter(X2.T[1], X2.T[2])"
      ],
      "metadata": {
        "colab": {
          "base_uri": "https://localhost:8080/",
          "height": 283
        },
        "id": "YJr8bEu5eAg8",
        "outputId": "4bd01611-54e9-4ac7-d108-8675776da130"
      },
      "execution_count": null,
      "outputs": [
        {
          "output_type": "execute_result",
          "data": {
            "text/plain": [
              "<matplotlib.collections.PathCollection at 0x7f87465eccd0>"
            ]
          },
          "metadata": {},
          "execution_count": 28
        },
        {
          "output_type": "display_data",
          "data": {
            "image/png": "[encoded data removed]",
            "text/plain": [
              "<Figure size 432x288 with 1 Axes>"
            ]
          },
          "metadata": {
            "needs_background": "light"
          }
        }
      ]
    },
    {
      "cell_type": "code",
      "source": [
        "y1 = y[np.where(X.T[1] > 1)]\n",
        "y2 = y[np.where(X.T[1] <= 1)]"
      ],
      "metadata": {
        "id": "XbUDlBS6iSGJ"
      },
      "execution_count": null,
      "outputs": []
    },
    {
      "cell_type": "markdown",
      "source": [
        "Применим критерий Бартлетта"
      ],
      "metadata": {
        "id": "T-FHexnMiZcF"
      }
    },
    {
      "cell_type": "code",
      "source": [
        "beta1 = np.linalg.inv(X1.T @ X1) @ X1.T @ y1\n",
        "s1 = np.sum((y1 - X1 @ beta1) ** 2) / n\n",
        "beta2 = np.linalg.inv(X2.T @ X2) @ X2.T @ y2\n",
        "s2 = np.sum((y2 - X2 @ beta2) ** 2) / n\n",
        "\n",
        "err1 = y1 - X1 @ beta1\n",
        "err2 = y2 - X2 @ beta2\n",
        "\n",
        "sts.bartlett(err1, err2)"
      ],
      "metadata": {
        "colab": {
          "base_uri": "https://localhost:8080/"
        },
        "id": "vllCISKsjUr1",
        "outputId": "bf4198b7-34de-4f00-eb98-7f18c8b74abd"
      },
      "execution_count": null,
      "outputs": [
        {
          "output_type": "execute_result",
          "data": {
            "text/plain": [
              "BartlettResult(statistic=127.39775632049803, pvalue=1.5203492346363832e-29)"
            ]
          },
          "metadata": {},
          "execution_count": 30
        }
      ]
    },
    {
      "cell_type": "markdown",
      "source": [
        "Поскольку p-значение критерия Бартлетта меньше $\\alpha = 0.05$, то есть основания отклонить $H_0$ о гомоскедастичности выборки"
      ],
      "metadata": {
        "id": "kOThLgtPlxyr"
      }
    }
  ]
}