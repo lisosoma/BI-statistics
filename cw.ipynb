{
  "cells": [
    {
      "cell_type": "markdown",
      "metadata": {
        "id": "view-in-github",
        "colab_type": "text"
      },
      "source": [
        "<a href=\"https://colab.research.google.com/github/lisosoma/BI-statistics/blob/main/cw.ipynb\" target=\"_parent\"><img src=\"https://colab.research.google.com/assets/colab-badge.svg\" alt=\"Open In Colab\"/></a>"
      ]
    },
    {
      "cell_type": "markdown",
      "metadata": {
        "id": "E0hjTunmJ6Nu"
      },
      "source": [
        "### Контрольная работа"
      ]
    },
    {
      "cell_type": "code",
      "execution_count": null,
      "metadata": {
        "id": "UHDKIXzwJ6Ny"
      },
      "outputs": [],
      "source": [
        "import pandas as pd\n",
        "import matplotlib.pyplot as plt\n",
        "import numpy as np\n",
        "import scipy.stats as sts\n",
        "import math "
      ]
    },
    {
      "cell_type": "markdown",
      "metadata": {
        "id": "KtFPpsimJ6N0"
      },
      "source": [
        "##### Часть 1. Потенциал"
      ]
    },
    {
      "cell_type": "code",
      "execution_count": null,
      "metadata": {
        "id": "eg-RvZgyJ6N0"
      },
      "outputs": [],
      "source": [
        "df = pd.read_table('IB_statistics_data_potential.txt',sep='\\s+', engine='python')"
      ]
    },
    {
      "cell_type": "code",
      "execution_count": null,
      "metadata": {
        "id": "bxccVd7PJ6N1",
        "outputId": "28c7c634-a20c-460c-a0fe-c486c6bab9f4"
      },
      "outputs": [
        {
          "name": "stdout",
          "output_type": "stream",
          "text": [
            "Нет оснований отклонить H_0 в пользу H_1 с уровнем значимости 0.05\n"
          ]
        },
        {
          "data": {
            "image/png": "[encoded data removed]",
            "text/plain": [
              "<Figure size 432x288 with 1 Axes>"
            ]
          },
          "metadata": {
            "needs_background": "light"
          },
          "output_type": "display_data"
        }
      ],
      "source": [
        "n = 94\n",
        "a = sum(df['Potential']) / n\n",
        "T = math.sqrt(n) * (a + 71.5) / 0.1\n",
        "if T < 1.96 and T > -1.96:\n",
        "    print('Нет оснований отклонить H_0 в пользу H_1 с уровнем значимости 0.05')\n",
        "else:\n",
        "    print('Есть основания отклонить H_0 в пользу H_1 с уровнем значимости 0.05')\n",
        "    \n",
        "h = df['Potential'].hist()\n",
        "fig = h.get_figure()"
      ]
    },
    {
      "cell_type": "markdown",
      "metadata": {
        "id": "sOeXleCIJ6N2"
      },
      "source": [
        "##### Часть 1. Поросята"
      ]
    },
    {
      "cell_type": "code",
      "execution_count": null,
      "metadata": {
        "id": "7aCq6akAJ6N2"
      },
      "outputs": [],
      "source": [
        "df = pd.read_table('IB_statistics_data_pigs.txt',sep='\\s+', engine='python')"
      ]
    },
    {
      "cell_type": "code",
      "execution_count": null,
      "metadata": {
        "id": "gX_8YM95J6N3",
        "outputId": "6c668792-4d89-4001-8429-1fc1dd74c665"
      },
      "outputs": [
        {
          "name": "stdout",
          "output_type": "stream",
          "text": [
            "Есть основания отклонить H_0 в пользу H_1 с уровнем значимости 0.01\n"
          ]
        },
        {
          "data": {
            "image/png": "[encoded data removed]",
            "text/plain": [
              "<Figure size 432x288 with 1 Axes>"
            ]
          },
          "metadata": {
            "needs_background": "light"
          },
          "output_type": "display_data"
        }
      ],
      "source": [
        "n = 412\n",
        "a = sum(df['Parasites'])\n",
        "p = sts.poisson.ppf(q = 0.01, mu = 3.14 * n)\n",
        "if a >= p:\n",
        "    print('Есть основания отклонить H_0 в пользу H_1 с уровнем значимости 0.01')\n",
        "else:\n",
        "    print('Нет оснований отклонить H_0 в пользу H_1 с уровнем значимости 0.01')\n",
        "    \n",
        "h = df['Parasites'].hist()\n",
        "fig = h.get_figure()"
      ]
    },
    {
      "cell_type": "markdown",
      "metadata": {
        "id": "Arx-rWewJ6N4"
      },
      "source": [
        "##### Часть 2. Крокодилы"
      ]
    },
    {
      "cell_type": "code",
      "execution_count": null,
      "metadata": {
        "id": "UUMbMYAnJ6N5"
      },
      "outputs": [],
      "source": [
        "df = pd.read_table('IB_statistics_data_crocodile.txt',sep='\\s+', engine='python')"
      ]
    },
    {
      "cell_type": "code",
      "execution_count": null,
      "metadata": {
        "id": "Hqi13x2UJ6N5"
      },
      "outputs": [],
      "source": [
        "p = 0\n",
        "for i in range(415):\n",
        "    if df['A'][i] == 1 and df['F'][i] == 1:\n",
        "        p += 1\n",
        "p /= 415"
      ]
    },
    {
      "cell_type": "code",
      "execution_count": null,
      "metadata": {
        "id": "wWg7W5C1J6N5",
        "outputId": "7f09b162-523d-419b-f6c7-d009607c695c"
      },
      "outputs": [
        {
          "name": "stdout",
          "output_type": "stream",
          "text": [
            "Доверительный интервал ( 0.006828815144964506 , 0.007629016180336699 )\n"
          ]
        }
      ],
      "source": [
        "c_a = 1.96\n",
        "print('Доверительный интервал (', p - c_a * math.sqrt(p * (1 - p) / 415 ** 2), \n",
        "      ',', p + c_a * math.sqrt(p * (1 - p) / 415 ** 2), ')')"
      ]
    },
    {
      "cell_type": "markdown",
      "metadata": {
        "id": "pu3-ahPNJ6N6"
      },
      "source": [
        "##### Часть 2. Узлы"
      ]
    },
    {
      "cell_type": "code",
      "execution_count": null,
      "metadata": {
        "id": "K_udSBZLJ6N6"
      },
      "outputs": [],
      "source": [
        "df = pd.read_table('IB_statistics_data_knots.txt',sep='\\s+', engine='python')"
      ]
    },
    {
      "cell_type": "code",
      "execution_count": null,
      "metadata": {
        "id": "TwgmTg9oJ6N7",
        "outputId": "d17e24c4-7a1e-4837-ef46-978747f520de"
      },
      "outputs": [
        {
          "name": "stdout",
          "output_type": "stream",
          "text": [
            "Доверительный интервал для p ( 0.03981243217930265 , 0.044573289406214536 )\n",
            "Доверительный интервал для q ( 0.017014047385256453 , 0.02021494743188348 )\n",
            "Доверительный интервал для r ( 0.009063191996176941 , 0.011449254167776632 )\n"
          ]
        }
      ],
      "source": [
        "p = sum(df['5_1']) / 103 / 266\n",
        "q = sum(df['7_1']) / 103 /266\n",
        "r = sum(df['8_19']) / 103 / 266\n",
        "print('Доверительный интервал для p (', p - c_a * math.sqrt(p * (1 - p) / 103 / 266), \n",
        "      ',', p + c_a * math.sqrt(p * (1 - p) / 103 / 266), ')')\n",
        "print('Доверительный интервал для q (', q - c_a * math.sqrt(q * (1 - q) / 103 / 266), \n",
        "      ',', q + c_a * math.sqrt(q * (1 - q) / 103 / 266), ')')\n",
        "print('Доверительный интервал для r (', r - c_a * math.sqrt(r * (1 - r) / 103 / 266), \n",
        "      ',', r + c_a * math.sqrt(r * (1 - r) / 103 / 266), ')')"
      ]
    },
    {
      "cell_type": "markdown",
      "metadata": {
        "id": "EtZ_9XaeJ6N7"
      },
      "source": [
        "##### Часть 2. Жуки"
      ]
    },
    {
      "cell_type": "code",
      "execution_count": null,
      "metadata": {
        "id": "sum4ytHQJ6N8"
      },
      "outputs": [],
      "source": [
        "df = pd.read_table('IB_statistics_data_beetles.txt',sep='\\s+', engine='python')"
      ]
    },
    {
      "cell_type": "code",
      "execution_count": null,
      "metadata": {
        "id": "DhYa5cFKJ6N8"
      },
      "outputs": [],
      "source": [
        "s = 0\n",
        "m = 1.62\n",
        "for x in df['beetles']:\n",
        "    s += (x - m) ** 2\n",
        "s /= 116"
      ]
    },
    {
      "cell_type": "code",
      "execution_count": null,
      "metadata": {
        "id": "NlrT46KiJ6N9"
      },
      "outputs": [],
      "source": [
        "m = 0\n",
        "for i in range(117):\n",
        "    if df['beetles'][i] <= 1.2:\n",
        "        m += 1"
      ]
    },
    {
      "cell_type": "code",
      "execution_count": null,
      "metadata": {
        "id": "wXDsPqw4J6N9"
      },
      "outputs": [],
      "source": [
        "M =  4000 / 117 * m"
      ]
    },
    {
      "cell_type": "code",
      "execution_count": null,
      "metadata": {
        "id": "5PB3msxjJ6N9",
        "outputId": "34f3f990-5359-49a0-f1e3-08fc1e5ae4c4"
      },
      "outputs": [
        {
          "name": "stdout",
          "output_type": "stream",
          "text": [
            "Доверительный интервал ( 272.9391209591774 , 274.0694260493696 )\n"
          ]
        }
      ],
      "source": [
        "F = sts.norm.cdf(x = 1.2, loc = 1.62, scale = s)\n",
        "print('Доверительный интервал (', M - c_a * 4000 * math.sqrt(F * (1 - F) / 117), \n",
        "      ',', M + c_a * 4000 * math.sqrt(F * (1 - F) / 117), ')')"
      ]
    },
    {
      "cell_type": "markdown",
      "metadata": {
        "id": "j42FBCm2J6N-"
      },
      "source": [
        "##### Часть 2. Радиация"
      ]
    },
    {
      "cell_type": "code",
      "execution_count": null,
      "metadata": {
        "id": "IePV3F6PJ6N-"
      },
      "outputs": [],
      "source": [
        "df = pd.read_table('IB_statistics_data_radiation.txt',sep='\\s+', engine='python')"
      ]
    },
    {
      "cell_type": "code",
      "execution_count": null,
      "metadata": {
        "id": "LjHbWHb6J6N_"
      },
      "outputs": [],
      "source": [
        "q = 1.96\n",
        "n = len(df['Radiation'])\n",
        "a = sum(df['Radiation']) / n"
      ]
    },
    {
      "cell_type": "code",
      "execution_count": null,
      "metadata": {
        "id": "b2BgprikJ6N_"
      },
      "outputs": [],
      "source": [
        "F_1 = (q + 2 * math.sqrt(n) - math.sqrt((2 * math.sqrt(n) + q) ** 2 - 8 * a * q * math.sqrt(n))) / 2 / q\n",
        "F_2 = (-q + 2 * math.sqrt(n) - math.sqrt((2 * math.sqrt(n) - q) ** 2 + 8 * a * q * math.sqrt(n))) / 2 / -q"
      ]
    },
    {
      "cell_type": "code",
      "execution_count": null,
      "metadata": {
        "id": "rE8uHAXYJ6N_"
      },
      "outputs": [],
      "source": [
        "teta_1 = math.sqrt(-1 / 49 / math.log(F_1))\n",
        "teta_2 = math.sqrt(-1 / 49 / math.log(F_2))"
      ]
    },
    {
      "cell_type": "code",
      "execution_count": null,
      "metadata": {
        "id": "SRhosbDKJ6N_",
        "outputId": "f6ab3702-537d-49f1-c859-82b4422a5fc6"
      },
      "outputs": [
        {
          "name": "stdout",
          "output_type": "stream",
          "text": [
            "Доверительный интервал ( 0.2195064976937161 , 0.25015195180396177 )\n"
          ]
        }
      ],
      "source": [
        "print('Доверительный интервал (', teta_1, ',', teta_2, ')')"
      ]
    }
  ],
  "metadata": {
    "kernelspec": {
      "display_name": "Python 3",
      "language": "python",
      "name": "python3"
    },
    "language_info": {
      "codemirror_mode": {
        "name": "ipython",
        "version": 3
      },
      "file_extension": ".py",
      "mimetype": "text/x-python",
      "name": "python",
      "nbconvert_exporter": "python",
      "pygments_lexer": "ipython3",
      "version": "3.8.10"
    },
    "colab": {
      "provenance": [],
      "include_colab_link": true
    }
  },
  "nbformat": 4,
  "nbformat_minor": 0
}