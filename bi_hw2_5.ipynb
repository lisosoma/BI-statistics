{
  "nbformat": 4,
  "nbformat_minor": 0,
  "metadata": {
    "colab": {
      "name": "bi_hw2.5",
      "provenance": [],
      "collapsed_sections": [
        "0ijhfPfeM4wl"
      ]
    },
    "kernelspec": {
      "name": "python3",
      "display_name": "Python 3"
    },
    "language_info": {
      "name": "python"
    }
  },
  "cells": [
    {
      "cell_type": "code",
      "execution_count": 1,
      "metadata": {
        "id": "eBSDxR8RA6Aa"
      },
      "outputs": [],
      "source": [
        "import pandas as pd\n",
        "import matplotlib.pyplot as plt\n",
        "import matplotlib\n",
        "import numpy as np\n",
        "import scipy.stats as sts\n",
        "import scipy\n",
        "import seaborn as sns\n",
        "import scipy.optimize as opt\n",
        "from scipy.optimize import fmin\n",
        "import seaborn as sns"
      ]
    },
    {
      "cell_type": "code",
      "source": [
        "df = pd.read_table('/content/IB_statistics_data_HW2.5.txt',sep='\\s+', engine='python')"
      ],
      "metadata": {
        "id": "6zt3DOqPKJBF"
      },
      "execution_count": 2,
      "outputs": []
    },
    {
      "cell_type": "code",
      "source": [
        "df"
      ],
      "metadata": {
        "colab": {
          "base_uri": "https://localhost:8080/",
          "height": 332
        },
        "id": "QJMNOgZ4Lzl5",
        "outputId": "9a50d72b-8b18-499a-8836-4bb971f0b84c"
      },
      "execution_count": 3,
      "outputs": [
        {
          "output_type": "execute_result",
          "data": {
            "text/plain": [
              "      Ex3.y  Ex3.x1  Ex3.x2  Ex3.x3  Ex3.x4    Ex6.y  Ex6.x1  Ex6.x2\n",
              "0   151.415       3      10      36       0  21.7348  1.9170  4.3877\n",
              "1   -65.184       3       6      24       0  22.7452  1.1572  4.4260\n",
              "2   -53.862       3       6      24       0  28.7458  1.3186  4.8105\n",
              "3  -142.321       2       4      16       0  36.2004  1.2200  5.0803\n",
              "4   130.260       2       9      31       1  18.6337  1.1180  4.1165\n",
              "5    75.966       5       9      37       1  32.7178  1.2331  4.9657\n",
              "6   131.943       2       9      31       1  21.6698  0.1853  4.3400\n",
              "7    33.612       4       8      32       1  17.6593  1.5880  4.0542\n",
              "8   127.638       4      10      38       0  20.1400  0.2230  4.2464\n",
              "9   -90.878       2       5      19       0  29.6387  1.9652  4.8845\n",
              "10   -9.921       3       7      27       0  33.1422  1.5858  5.0395\n",
              "11  212.363       6      12      48       1  32.8863  0.0218  4.9953\n",
              "12   78.083       2       8      28       1  37.2085  0.3094  5.1923\n",
              "13 -130.130       2       4      16       1  33.3698  0.9399  5.0097\n",
              "14   52.247       5       9      37       0  19.5645  0.7963  4.1523\n",
              "15   76.115       4       9      35       0  18.6573  1.7800  4.1674\n",
              "16 -148.628       0       3       9       1  37.4355  0.5566  5.1978\n",
              "17  104.311       5      10      40       0   8.8871  0.2143  2.9454\n",
              "18  -16.735       4       7      29       1  11.7128  1.2819  3.4379\n",
              "19    8.345       5       8      34       0  20.3276  0.6357  4.3079\n",
              "20  283.944       5      13      49       1  32.4620  0.1154  4.9886\n",
              "21   83.026       2       8      28       1  29.8051  1.5441  4.8465\n",
              "22   -5.532       3       7      27       0  16.5214  1.4730  3.9862\n",
              "23   74.203       4       9      35       0  12.2922  1.0901  3.4641\n",
              "24    4.006       3       7      27       1  18.6222  1.4504  4.1163\n",
              "25   78.644       2       8      28       1  34.9141  1.3210  5.0822\n",
              "26   34.611       1       7      23       0  37.6998  1.3820  5.1892\n",
              "27  159.378       6      11      45       1   8.0008  1.8761  2.9143\n",
              "28   81.733       2       8      28       1  18.4030  0.3086  4.0755\n",
              "29 -108.954       1       4      14       1  23.1562  1.2406  4.3954\n",
              "30   64.976       3       8      30       1  18.6557  0.0800  4.1659\n",
              "31  124.795       5      10      40       1  14.3641  1.1307  3.7547\n",
              "32  -10.621       4       7      29       1  26.9406  1.1307  4.7085\n",
              "33  -35.167       2       6      22       0  15.0397  1.8465  3.8116\n",
              "34  199.029       3      11      39       0  10.8037  0.0435  3.3216\n",
              "35  318.385       6      14      54       1  38.1519  1.5999  5.1912\n",
              "36   93.300       6      10      42       0  36.7452  1.3571  5.1375\n",
              "37   -7.038       3       7      27       0  17.7278  0.3466  4.1005\n",
              "38  113.577       3       9      33       1  13.3947  0.0456  3.6760\n",
              "39   75.248       2       8      28       1  31.7320  1.6150  4.9271\n",
              "40  -42.116       2       6      22       0  32.5586  1.9306  4.9786\n",
              "41   -7.831       1       6      20       1  26.3026  0.1122  4.6633"
            ],
            "text/html": [
              "\n",
              "  <div id=\"df-9df7f10d-1f8a-4815-aa75-8ddd945ef871\">\n",
              "    <div class=\"colab-df-container\">\n",
              "      <div>\n",
              "<style scoped>\n",
              "    .dataframe tbody tr th:only-of-type {\n",
              "        vertical-align: middle;\n",
              "    }\n",
              "\n",
              "    .dataframe tbody tr th {\n",
              "        vertical-align: top;\n",
              "    }\n",
              "\n",
              "    .dataframe thead th {\n",
              "        text-align: right;\n",
              "    }\n",
              "</style>\n",
              "<table border=\"1\" class=\"dataframe\">\n",
              "  <thead>\n",
              "    <tr style=\"text-align: right;\">\n",
              "      <th></th>\n",
              "      <th>Ex3.y</th>\n",
              "      <th>Ex3.x1</th>\n",
              "      <th>Ex3.x2</th>\n",
              "      <th>Ex3.x3</th>\n",
              "      <th>Ex3.x4</th>\n",
              "      <th>Ex6.y</th>\n",
              "      <th>Ex6.x1</th>\n",
              "      <th>Ex6.x2</th>\n",
              "    </tr>\n",
              "  </thead>\n",
              "  <tbody>\n",
              "    <tr>\n",
              "      <th>0</th>\n",
              "      <td>151.415</td>\n",
              "      <td>3</td>\n",
              "      <td>10</td>\n",
              "      <td>36</td>\n",
              "      <td>0</td>\n",
              "      <td>21.7348</td>\n",
              "      <td>1.9170</td>\n",
              "      <td>4.3877</td>\n",
              "    </tr>\n",
              "    <tr>\n",
              "      <th>1</th>\n",
              "      <td>-65.184</td>\n",
              "      <td>3</td>\n",
              "      <td>6</td>\n",
              "      <td>24</td>\n",
              "      <td>0</td>\n",
              "      <td>22.7452</td>\n",
              "      <td>1.1572</td>\n",
              "      <td>4.4260</td>\n",
              "    </tr>\n",
              "    <tr>\n",
              "      <th>2</th>\n",
              "      <td>-53.862</td>\n",
              "      <td>3</td>\n",
              "      <td>6</td>\n",
              "      <td>24</td>\n",
              "      <td>0</td>\n",
              "      <td>28.7458</td>\n",
              "      <td>1.3186</td>\n",
              "      <td>4.8105</td>\n",
              "    </tr>\n",
              "    <tr>\n",
              "      <th>3</th>\n",
              "      <td>-142.321</td>\n",
              "      <td>2</td>\n",
              "      <td>4</td>\n",
              "      <td>16</td>\n",
              "      <td>0</td>\n",
              "      <td>36.2004</td>\n",
              "      <td>1.2200</td>\n",
              "      <td>5.0803</td>\n",
              "    </tr>\n",
              "    <tr>\n",
              "      <th>4</th>\n",
              "      <td>130.260</td>\n",
              "      <td>2</td>\n",
              "      <td>9</td>\n",
              "      <td>31</td>\n",
              "      <td>1</td>\n",
              "      <td>18.6337</td>\n",
              "      <td>1.1180</td>\n",
              "      <td>4.1165</td>\n",
              "    </tr>\n",
              "    <tr>\n",
              "      <th>5</th>\n",
              "      <td>75.966</td>\n",
              "      <td>5</td>\n",
              "      <td>9</td>\n",
              "      <td>37</td>\n",
              "      <td>1</td>\n",
              "      <td>32.7178</td>\n",
              "      <td>1.2331</td>\n",
              "      <td>4.9657</td>\n",
              "    </tr>\n",
              "    <tr>\n",
              "      <th>6</th>\n",
              "      <td>131.943</td>\n",
              "      <td>2</td>\n",
              "      <td>9</td>\n",
              "      <td>31</td>\n",
              "      <td>1</td>\n",
              "      <td>21.6698</td>\n",
              "      <td>0.1853</td>\n",
              "      <td>4.3400</td>\n",
              "    </tr>\n",
              "    <tr>\n",
              "      <th>7</th>\n",
              "      <td>33.612</td>\n",
              "      <td>4</td>\n",
              "      <td>8</td>\n",
              "      <td>32</td>\n",
              "      <td>1</td>\n",
              "      <td>17.6593</td>\n",
              "      <td>1.5880</td>\n",
              "      <td>4.0542</td>\n",
              "    </tr>\n",
              "    <tr>\n",
              "      <th>8</th>\n",
              "      <td>127.638</td>\n",
              "      <td>4</td>\n",
              "      <td>10</td>\n",
              "      <td>38</td>\n",
              "      <td>0</td>\n",
              "      <td>20.1400</td>\n",
              "      <td>0.2230</td>\n",
              "      <td>4.2464</td>\n",
              "    </tr>\n",
              "    <tr>\n",
              "      <th>9</th>\n",
              "      <td>-90.878</td>\n",
              "      <td>2</td>\n",
              "      <td>5</td>\n",
              "      <td>19</td>\n",
              "      <td>0</td>\n",
              "      <td>29.6387</td>\n",
              "      <td>1.9652</td>\n",
              "      <td>4.8845</td>\n",
              "    </tr>\n",
              "    <tr>\n",
              "      <th>10</th>\n",
              "      <td>-9.921</td>\n",
              "      <td>3</td>\n",
              "      <td>7</td>\n",
              "      <td>27</td>\n",
              "      <td>0</td>\n",
              "      <td>33.1422</td>\n",
              "      <td>1.5858</td>\n",
              "      <td>5.0395</td>\n",
              "    </tr>\n",
              "    <tr>\n",
              "      <th>11</th>\n",
              "      <td>212.363</td>\n",
              "      <td>6</td>\n",
              "      <td>12</td>\n",
              "      <td>48</td>\n",
              "      <td>1</td>\n",
              "      <td>32.8863</td>\n",
              "      <td>0.0218</td>\n",
              "      <td>4.9953</td>\n",
              "    </tr>\n",
              "    <tr>\n",
              "      <th>12</th>\n",
              "      <td>78.083</td>\n",
              "      <td>2</td>\n",
              "      <td>8</td>\n",
              "      <td>28</td>\n",
              "      <td>1</td>\n",
              "      <td>37.2085</td>\n",
              "      <td>0.3094</td>\n",
              "      <td>5.1923</td>\n",
              "    </tr>\n",
              "    <tr>\n",
              "      <th>13</th>\n",
              "      <td>-130.130</td>\n",
              "      <td>2</td>\n",
              "      <td>4</td>\n",
              "      <td>16</td>\n",
              "      <td>1</td>\n",
              "      <td>33.3698</td>\n",
              "      <td>0.9399</td>\n",
              "      <td>5.0097</td>\n",
              "    </tr>\n",
              "    <tr>\n",
              "      <th>14</th>\n",
              "      <td>52.247</td>\n",
              "      <td>5</td>\n",
              "      <td>9</td>\n",
              "      <td>37</td>\n",
              "      <td>0</td>\n",
              "      <td>19.5645</td>\n",
              "      <td>0.7963</td>\n",
              "      <td>4.1523</td>\n",
              "    </tr>\n",
              "    <tr>\n",
              "      <th>15</th>\n",
              "      <td>76.115</td>\n",
              "      <td>4</td>\n",
              "      <td>9</td>\n",
              "      <td>35</td>\n",
              "      <td>0</td>\n",
              "      <td>18.6573</td>\n",
              "      <td>1.7800</td>\n",
              "      <td>4.1674</td>\n",
              "    </tr>\n",
              "    <tr>\n",
              "      <th>16</th>\n",
              "      <td>-148.628</td>\n",
              "      <td>0</td>\n",
              "      <td>3</td>\n",
              "      <td>9</td>\n",
              "      <td>1</td>\n",
              "      <td>37.4355</td>\n",
              "      <td>0.5566</td>\n",
              "      <td>5.1978</td>\n",
              "    </tr>\n",
              "    <tr>\n",
              "      <th>17</th>\n",
              "      <td>104.311</td>\n",
              "      <td>5</td>\n",
              "      <td>10</td>\n",
              "      <td>40</td>\n",
              "      <td>0</td>\n",
              "      <td>8.8871</td>\n",
              "      <td>0.2143</td>\n",
              "      <td>2.9454</td>\n",
              "    </tr>\n",
              "    <tr>\n",
              "      <th>18</th>\n",
              "      <td>-16.735</td>\n",
              "      <td>4</td>\n",
              "      <td>7</td>\n",
              "      <td>29</td>\n",
              "      <td>1</td>\n",
              "      <td>11.7128</td>\n",
              "      <td>1.2819</td>\n",
              "      <td>3.4379</td>\n",
              "    </tr>\n",
              "    <tr>\n",
              "      <th>19</th>\n",
              "      <td>8.345</td>\n",
              "      <td>5</td>\n",
              "      <td>8</td>\n",
              "      <td>34</td>\n",
              "      <td>0</td>\n",
              "      <td>20.3276</td>\n",
              "      <td>0.6357</td>\n",
              "      <td>4.3079</td>\n",
              "    </tr>\n",
              "    <tr>\n",
              "      <th>20</th>\n",
              "      <td>283.944</td>\n",
              "      <td>5</td>\n",
              "      <td>13</td>\n",
              "      <td>49</td>\n",
              "      <td>1</td>\n",
              "      <td>32.4620</td>\n",
              "      <td>0.1154</td>\n",
              "      <td>4.9886</td>\n",
              "    </tr>\n",
              "    <tr>\n",
              "      <th>21</th>\n",
              "      <td>83.026</td>\n",
              "      <td>2</td>\n",
              "      <td>8</td>\n",
              "      <td>28</td>\n",
              "      <td>1</td>\n",
              "      <td>29.8051</td>\n",
              "      <td>1.5441</td>\n",
              "      <td>4.8465</td>\n",
              "    </tr>\n",
              "    <tr>\n",
              "      <th>22</th>\n",
              "      <td>-5.532</td>\n",
              "      <td>3</td>\n",
              "      <td>7</td>\n",
              "      <td>27</td>\n",
              "      <td>0</td>\n",
              "      <td>16.5214</td>\n",
              "      <td>1.4730</td>\n",
              "      <td>3.9862</td>\n",
              "    </tr>\n",
              "    <tr>\n",
              "      <th>23</th>\n",
              "      <td>74.203</td>\n",
              "      <td>4</td>\n",
              "      <td>9</td>\n",
              "      <td>35</td>\n",
              "      <td>0</td>\n",
              "      <td>12.2922</td>\n",
              "      <td>1.0901</td>\n",
              "      <td>3.4641</td>\n",
              "    </tr>\n",
              "    <tr>\n",
              "      <th>24</th>\n",
              "      <td>4.006</td>\n",
              "      <td>3</td>\n",
              "      <td>7</td>\n",
              "      <td>27</td>\n",
              "      <td>1</td>\n",
              "      <td>18.6222</td>\n",
              "      <td>1.4504</td>\n",
              "      <td>4.1163</td>\n",
              "    </tr>\n",
              "    <tr>\n",
              "      <th>25</th>\n",
              "      <td>78.644</td>\n",
              "      <td>2</td>\n",
              "      <td>8</td>\n",
              "      <td>28</td>\n",
              "      <td>1</td>\n",
              "      <td>34.9141</td>\n",
              "      <td>1.3210</td>\n",
              "      <td>5.0822</td>\n",
              "    </tr>\n",
              "    <tr>\n",
              "      <th>26</th>\n",
              "      <td>34.611</td>\n",
              "      <td>1</td>\n",
              "      <td>7</td>\n",
              "      <td>23</td>\n",
              "      <td>0</td>\n",
              "      <td>37.6998</td>\n",
              "      <td>1.3820</td>\n",
              "      <td>5.1892</td>\n",
              "    </tr>\n",
              "    <tr>\n",
              "      <th>27</th>\n",
              "      <td>159.378</td>\n",
              "      <td>6</td>\n",
              "      <td>11</td>\n",
              "      <td>45</td>\n",
              "      <td>1</td>\n",
              "      <td>8.0008</td>\n",
              "      <td>1.8761</td>\n",
              "      <td>2.9143</td>\n",
              "    </tr>\n",
              "    <tr>\n",
              "      <th>28</th>\n",
              "      <td>81.733</td>\n",
              "      <td>2</td>\n",
              "      <td>8</td>\n",
              "      <td>28</td>\n",
              "      <td>1</td>\n",
              "      <td>18.4030</td>\n",
              "      <td>0.3086</td>\n",
              "      <td>4.0755</td>\n",
              "    </tr>\n",
              "    <tr>\n",
              "      <th>29</th>\n",
              "      <td>-108.954</td>\n",
              "      <td>1</td>\n",
              "      <td>4</td>\n",
              "      <td>14</td>\n",
              "      <td>1</td>\n",
              "      <td>23.1562</td>\n",
              "      <td>1.2406</td>\n",
              "      <td>4.3954</td>\n",
              "    </tr>\n",
              "    <tr>\n",
              "      <th>30</th>\n",
              "      <td>64.976</td>\n",
              "      <td>3</td>\n",
              "      <td>8</td>\n",
              "      <td>30</td>\n",
              "      <td>1</td>\n",
              "      <td>18.6557</td>\n",
              "      <td>0.0800</td>\n",
              "      <td>4.1659</td>\n",
              "    </tr>\n",
              "    <tr>\n",
              "      <th>31</th>\n",
              "      <td>124.795</td>\n",
              "      <td>5</td>\n",
              "      <td>10</td>\n",
              "      <td>40</td>\n",
              "      <td>1</td>\n",
              "      <td>14.3641</td>\n",
              "      <td>1.1307</td>\n",
              "      <td>3.7547</td>\n",
              "    </tr>\n",
              "    <tr>\n",
              "      <th>32</th>\n",
              "      <td>-10.621</td>\n",
              "      <td>4</td>\n",
              "      <td>7</td>\n",
              "      <td>29</td>\n",
              "      <td>1</td>\n",
              "      <td>26.9406</td>\n",
              "      <td>1.1307</td>\n",
              "      <td>4.7085</td>\n",
              "    </tr>\n",
              "    <tr>\n",
              "      <th>33</th>\n",
              "      <td>-35.167</td>\n",
              "      <td>2</td>\n",
              "      <td>6</td>\n",
              "      <td>22</td>\n",
              "      <td>0</td>\n",
              "      <td>15.0397</td>\n",
              "      <td>1.8465</td>\n",
              "      <td>3.8116</td>\n",
              "    </tr>\n",
              "    <tr>\n",
              "      <th>34</th>\n",
              "      <td>199.029</td>\n",
              "      <td>3</td>\n",
              "      <td>11</td>\n",
              "      <td>39</td>\n",
              "      <td>0</td>\n",
              "      <td>10.8037</td>\n",
              "      <td>0.0435</td>\n",
              "      <td>3.3216</td>\n",
              "    </tr>\n",
              "    <tr>\n",
              "      <th>35</th>\n",
              "      <td>318.385</td>\n",
              "      <td>6</td>\n",
              "      <td>14</td>\n",
              "      <td>54</td>\n",
              "      <td>1</td>\n",
              "      <td>38.1519</td>\n",
              "      <td>1.5999</td>\n",
              "      <td>5.1912</td>\n",
              "    </tr>\n",
              "    <tr>\n",
              "      <th>36</th>\n",
              "      <td>93.300</td>\n",
              "      <td>6</td>\n",
              "      <td>10</td>\n",
              "      <td>42</td>\n",
              "      <td>0</td>\n",
              "      <td>36.7452</td>\n",
              "      <td>1.3571</td>\n",
              "      <td>5.1375</td>\n",
              "    </tr>\n",
              "    <tr>\n",
              "      <th>37</th>\n",
              "      <td>-7.038</td>\n",
              "      <td>3</td>\n",
              "      <td>7</td>\n",
              "      <td>27</td>\n",
              "      <td>0</td>\n",
              "      <td>17.7278</td>\n",
              "      <td>0.3466</td>\n",
              "      <td>4.1005</td>\n",
              "    </tr>\n",
              "    <tr>\n",
              "      <th>38</th>\n",
              "      <td>113.577</td>\n",
              "      <td>3</td>\n",
              "      <td>9</td>\n",
              "      <td>33</td>\n",
              "      <td>1</td>\n",
              "      <td>13.3947</td>\n",
              "      <td>0.0456</td>\n",
              "      <td>3.6760</td>\n",
              "    </tr>\n",
              "    <tr>\n",
              "      <th>39</th>\n",
              "      <td>75.248</td>\n",
              "      <td>2</td>\n",
              "      <td>8</td>\n",
              "      <td>28</td>\n",
              "      <td>1</td>\n",
              "      <td>31.7320</td>\n",
              "      <td>1.6150</td>\n",
              "      <td>4.9271</td>\n",
              "    </tr>\n",
              "    <tr>\n",
              "      <th>40</th>\n",
              "      <td>-42.116</td>\n",
              "      <td>2</td>\n",
              "      <td>6</td>\n",
              "      <td>22</td>\n",
              "      <td>0</td>\n",
              "      <td>32.5586</td>\n",
              "      <td>1.9306</td>\n",
              "      <td>4.9786</td>\n",
              "    </tr>\n",
              "    <tr>\n",
              "      <th>41</th>\n",
              "      <td>-7.831</td>\n",
              "      <td>1</td>\n",
              "      <td>6</td>\n",
              "      <td>20</td>\n",
              "      <td>1</td>\n",
              "      <td>26.3026</td>\n",
              "      <td>0.1122</td>\n",
              "      <td>4.6633</td>\n",
              "    </tr>\n",
              "  </tbody>\n",
              "</table>\n",
              "</div>\n",
              "      <button class=\"colab-df-convert\" onclick=\"convertToInteractive('df-9df7f10d-1f8a-4815-aa75-8ddd945ef871')\"\n",
              "              title=\"Convert this dataframe to an interactive table.\"\n",
              "              style=\"display:none;\">\n",
              "        \n",
              "  <svg xmlns=\"http://www.w3.org/2000/svg\" height=\"24px\"viewBox=\"0 0 24 24\"\n",
              "       width=\"24px\">\n",
              "    <path d=\"M0 0h24v24H0V0z\" fill=\"none\"/>\n",
              "    <path d=\"M18.56 5.44l.94 2.06.94-2.06 2.06-.94-2.06-.94-.94-2.06-.94 2.06-2.06.94zm-11 1L8.5 8.5l.94-2.06 2.06-.94-2.06-.94L8.5 2.5l-.94 2.06-2.06.94zm10 10l.94 2.06.94-2.06 2.06-.94-2.06-.94-.94-2.06-.94 2.06-2.06.94z\"/><path d=\"M17.41 7.96l-1.37-1.37c-.4-.4-.92-.59-1.43-.59-.52 0-1.04.2-1.43.59L10.3 9.45l-7.72 7.72c-.78.78-.78 2.05 0 2.83L4 21.41c.39.39.9.59 1.41.59.51 0 1.02-.2 1.41-.59l7.78-7.78 2.81-2.81c.8-.78.8-2.07 0-2.86zM5.41 20L4 18.59l7.72-7.72 1.47 1.35L5.41 20z\"/>\n",
              "  </svg>\n",
              "      </button>\n",
              "      \n",
              "  <style>\n",
              "    .colab-df-container {\n",
              "      display:flex;\n",
              "      flex-wrap:wrap;\n",
              "      gap: 12px;\n",
              "    }\n",
              "\n",
              "    .colab-df-convert {\n",
              "      background-color: #E8F0FE;\n",
              "      border: none;\n",
              "      border-radius: 50%;\n",
              "      cursor: pointer;\n",
              "      display: none;\n",
              "      fill: #1967D2;\n",
              "      height: 32px;\n",
              "      padding: 0 0 0 0;\n",
              "      width: 32px;\n",
              "    }\n",
              "\n",
              "    .colab-df-convert:hover {\n",
              "      background-color: #E2EBFA;\n",
              "      box-shadow: 0px 1px 2px rgba(60, 64, 67, 0.3), 0px 1px 3px 1px rgba(60, 64, 67, 0.15);\n",
              "      fill: #174EA6;\n",
              "    }\n",
              "\n",
              "    [theme=dark] .colab-df-convert {\n",
              "      background-color: #3B4455;\n",
              "      fill: #D2E3FC;\n",
              "    }\n",
              "\n",
              "    [theme=dark] .colab-df-convert:hover {\n",
              "      background-color: #434B5C;\n",
              "      box-shadow: 0px 1px 3px 1px rgba(0, 0, 0, 0.15);\n",
              "      filter: drop-shadow(0px 1px 2px rgba(0, 0, 0, 0.3));\n",
              "      fill: #FFFFFF;\n",
              "    }\n",
              "  </style>\n",
              "\n",
              "      <script>\n",
              "        const buttonEl =\n",
              "          document.querySelector('#df-9df7f10d-1f8a-4815-aa75-8ddd945ef871 button.colab-df-convert');\n",
              "        buttonEl.style.display =\n",
              "          google.colab.kernel.accessAllowed ? 'block' : 'none';\n",
              "\n",
              "        async function convertToInteractive(key) {\n",
              "          const element = document.querySelector('#df-9df7f10d-1f8a-4815-aa75-8ddd945ef871');\n",
              "          const dataTable =\n",
              "            await google.colab.kernel.invokeFunction('convertToInteractive',\n",
              "                                                     [key], {});\n",
              "          if (!dataTable) return;\n",
              "\n",
              "          const docLinkHtml = 'Like what you see? Visit the ' +\n",
              "            '<a target=\"_blank\" href=https://colab.research.google.com/notebooks/data_table.ipynb>data table notebook</a>'\n",
              "            + ' to learn more about interactive tables.';\n",
              "          element.innerHTML = '';\n",
              "          dataTable['output_type'] = 'display_data';\n",
              "          await google.colab.output.renderOutput(dataTable, element);\n",
              "          const docLink = document.createElement('div');\n",
              "          docLink.innerHTML = docLinkHtml;\n",
              "          element.appendChild(docLink);\n",
              "        }\n",
              "      </script>\n",
              "    </div>\n",
              "  </div>\n",
              "  "
            ]
          },
          "metadata": {},
          "execution_count": 3
        }
      ]
    },
    {
      "cell_type": "code",
      "source": [
        "n = 42\n",
        "alpha = 0.05"
      ],
      "metadata": {
        "id": "QZus6aPdMXiD"
      },
      "execution_count": 4,
      "outputs": []
    },
    {
      "cell_type": "markdown",
      "source": [
        "### Задача 1."
      ],
      "metadata": {
        "id": "5J_qAfhlL7tW"
      }
    },
    {
      "cell_type": "markdown",
      "source": [
        "- (a) \n",
        "\n",
        "По определению если $\\mathbb{X}^T : V → W$, то $Im(\\mathbb{X}^T) := \\{ {w} \\in W : {w} = \\mathbb{X}^Tv \\mbox{ для некоторого \\({v} \\in V\\)} \\}.$\n",
        "\n",
        "Заметим, что $v^T\\mathbb{X} = w^T$. Откуда $v^T\\mathbb{X}\\mathbb{X}^Tv = w^Tw ⇔ v^T(\\mathbb{X}^T\\mathbb{X})^Tv = w^Tw ⇔ v^T(\\mathbb{X}^T\\mathbb{X})^Tv = v^T\\mathbb{X}w ⇔ (\\mathbb{X}^T\\mathbb{X})^Tv = \\mathbb{X}w.$ Поскольку $\\mathbb{X}^T\\mathbb{X}$ -- симметричная матрица (матрица Грама), то $\\mathbb{X}^T\\mathbb{X}v = \\mathbb{X}w.$ Отсюда следует, что $Im(\\mathbb{X}^T\\mathbb{X}) \\subseteq Im(\\mathbb{X})$.\n",
        "\n",
        "Как было показано в ДЗ1, $rank(\\mathbb{X}^T\\mathbb{X}) = rank(\\mathbb{X}^T)$. Откуда следует , что  $dim(\\mathbb{X}^T\\mathbb{X}) = dim(\\mathbb{X}^T)$. А значит из $Im(\\mathbb{X}^T\\mathbb{X}) \\subseteq Im(\\mathbb{X})$ и $dim(\\mathbb{X}^T\\mathbb{X}) = dim(\\mathbb{X}^T)$ следует, что $Im(\\mathbb{X}^T\\mathbb{X}) = Im(\\mathbb{X})$. (Подпространство векторного пространства одинаковой размерности)."
      ],
      "metadata": {
        "id": "xmTBqF8nMgMA"
      }
    },
    {
      "cell_type": "markdown",
      "source": [
        "- (b)\n",
        "\n",
        "Пусть дана матрица $X$, такая что $∀ b: ||Ax - b|| → \\min, x = Xb$. Тогда имеем $||AXb - b|| = ||(AX - \\mathbb{I})b||$. Поскольку $||(AX - \\mathbb{I})b||$ минимально, то и $||(AX - \\mathbb{I})b||^2$ минимально, тогда $||(AX - \\mathbb{I})b||^2 = ((AX - \\mathbb{I})b , (AX - \\mathbb{I})b) = (AXb, AXb) - 2(AXb, b) + (b,b)$. Возьмем производную по $X$ от данного скалярного произведения  $\\displaystyle\\frac{∂[(AXb, AXb) - 2(AXb, b) + (b,b)]}{∂X} =2(Ab, AXb) - 2(Ab, b) = 0 ⇔ (Ab, AXb - b) = 0 ⇔ (AXb - b, Ab) = 0 ⇔ (AXb, Ab) = (b, Ab) (1)$. Если $(AX)^T ≠ AX$, тогда в случае, если $A$ необратима (1) не имеет решений. Тогда рассмотрим случай, когда  $(AX)^T = AX$ (2), то есть $AX$ -- симметричная матрица, значит (1) можно записать как $(b, AXAb) = (b, Ab)$, откуда $AXAb = A$ и $AXA = A$ (3). Исходя из (2) и (3) делаем вывод, что $X \\in A^{\\{1, 3\\}}$, что и требовалось доказать."
      ],
      "metadata": {
        "id": "yy2-R7G0MhwJ"
      }
    },
    {
      "cell_type": "markdown",
      "source": [
        "- (c)\n",
        "\n",
        "Запишем svd для матрицы $\\mathbb{X} = U \\Sigma V^T$. Тогда $\\mathbb{X}^T\\mathbb{X} = V \\Sigma U^TU \\Sigma V^T = V \\Sigma^2 V^T$ и $\\mathbb{X}^T=V \\Sigma U^T$. Запишем ридж-оценку через svd $\\tilde\\beta(r) = (\\mathbb{X}^T\\mathbb{X} + r\\mathbb{I})^{-1}\\mathbb{X}^T\\mathbb{Y} = (V \\Sigma^2 V^T + rVV^T)^{-1}V \\Sigma U^T \\mathbb{Y} = (V (\\Sigma^2+ r\\mathbb{I})V^T)^{-1}V \\Sigma U^T \\mathbb{Y} = V (\\Sigma^2+ r\\mathbb{I})^{-1}V^TV \\Sigma U^T \\mathbb{Y} $. Возьмем предел $\\lim\\limits_{r→0}\\tilde \\beta(r) =V \\Sigma^{-2}V^TV \\Sigma U^T \\mathbb{Y} $. Так как $(\\mathbb{X}^T\\mathbb{X})^+ = V \\Sigma^{-2} V^T$ (по свойству матрицы $V$ -- ортогональная матрица). И тогда предел равен $(\\mathbb{X}^T\\mathbb{X})^+\\mathbb{X}^T\\mathbb{Y}$. Что и требовалось доказать."
      ],
      "metadata": {
        "id": "3yBXisp7MjWB"
      }
    },
    {
      "cell_type": "markdown",
      "source": [
        "### Задача 2."
      ],
      "metadata": {
        "id": "aR-8dD6aMwFe"
      }
    },
    {
      "cell_type": "markdown",
      "source": [
        "$\\hat\\beta = (\\mathbb{X}^T\\mathbb{X})^-\\mathbb{X}^T\\mathbb{Y}$, где $(\\mathbb{X}^T\\mathbb{X})^- \\in A^{\\{1, 3\\}}$. \n",
        "\n",
        "Покажем, что $(\\mathbb{X}^T\\mathbb{X})^- = (\\mathbb{X}^T\\mathbb{X})^+.$ Так как $K = \\mathbb{X}^T\\mathbb{X}$ -- симметричная матрица, то $K^- = (K^T)^-$, откуда $(K^-K)^T = K((K^T)^-)^T = KK^- = (KK^-)^T = K^-K.$\n",
        "\n",
        "Покажем, что $K^-KK^- = K^-$. Так как $KK^-K = K$, то $K^-K^-KK^-K = K^-K^-K ⇔ K^-K^-K = K^-$ и в силу показанного выше: $K^-KK^- = K^-$. \n",
        "\n",
        "$cov(\\hat\\beta ) =  \\mathbb E[\\hat\\beta\\hat\\beta^T]-\\mathbb E[\\hat\\beta]\\mathbb E[\\hat \\beta^T]=\\mathbb E[(X^TX)^{+}X^T\\mathbb{Y}\\mathbb{Y}^TX(X^TX)^{+}]-\\mathbb \\beta\\beta^T =(X^TX)^{+}X^T\\mathbb E[\\mathbb{Y}\\mathbb{Y}]X(X^TX)^{+}-\\beta\\beta^T =(X^TX)^{+}X^T(\\sigma^2\\mathbb{I}+X\\beta\\beta^TX^T)X(X^TX)^{+}-\\beta\\beta^T = [(X^TX)^{+}X^T\\sigma^2 + (X^TX)^{+}X^TX||\\beta||^2X^T]X(X^TX)^{+}-||\\beta||^2 = \\sigma^2(X^TX)^{+}X^TX(X^TX)^{+} + (X^TX)^{+}(X^TX)(X^TX)(X^TX)^{+}||\\beta||^2 - ||\\beta||^2 = \\sigma^2K^{+}KK^{+} + K^{+}KKK^{+}||\\beta||^2 - ||\\beta||^2 = \\sigma^2K^{+}KK^{+} + K^-K^-KKKK^-K^-K||\\beta||^2 - ||\\beta||^2 = \\sigma^2K^{+} = \\sigma^2(X^TX)^{+}$."
      ],
      "metadata": {
        "id": "8wgEGzntSuNg"
      }
    },
    {
      "cell_type": "markdown",
      "source": [
        "### Задача 3."
      ],
      "metadata": {
        "id": "lQdDPSoIM1Vb"
      }
    },
    {
      "cell_type": "markdown",
      "source": [
        "- (a)\n",
        "\n",
        "Поскольку $\\sum\\beta_i = 0$, то и $2\\sum\\beta_i = 0$. Пусть дана матрица $A = \\begin{pmatrix}\n",
        "1 & 1 & 1 & 1\\\\\n",
        "2 & 2 & 2 & 2\\\\\n",
        "\\end{pmatrix}$. И вектор $b = (0, 0)$. Тогда имеем линейное ограничение на параметр $\\beta: A\\beta = b$. Такая задача уже была решена в ДЗ1. Сначала строится оценка $\\hat\\beta = (\\mathbb{X}^T\\mathbb{X})^+\\mathbb{X}^T\\mathbb{Y}$, затем находим матрицу $D = A(\\mathbb{X}^T\\mathbb{X})^+A^T$. После чего строим оценку $\\hat\\beta_b = \\hat\\beta - (\\mathbb{X}^T\\mathbb{X})^+A^TD^+(A\\hat\\beta - b)$."
      ],
      "metadata": {
        "id": "-C1gu2gLM-On"
      }
    },
    {
      "cell_type": "code",
      "source": [
        "X = df.loc[:, 'Ex3.x1':'Ex3.x4'].to_numpy()\n",
        "y = df['Ex3.y'].to_numpy()\n",
        "X = np.array(np.concatenate(([np.ones(n)], X.T), axis=0)).T\n",
        "beta = np.linalg.pinv(X.T @ X) @ X.T @ y\n",
        "A = np.array([[1, 1, 1, 1, 1], [2, 2, 2, 2, 2]])\n",
        "b = np.array([beta[0], 2 * beta[0]])\n",
        "D = A @ np.linalg.pinv(X.T @ X) @ A.T\n",
        "betab = beta - np.linalg.pinv(X.T @ X) @ A.T @ np.linalg.pinv(D) @ (A @ beta - b)\n",
        "print('Оценка beta равна', betab, '\\nусловие sum(betai) = 0: sum(betai) = ', sum(betab) - beta[0], 'выполняется')"
      ],
      "metadata": {
        "colab": {
          "base_uri": "https://localhost:8080/"
        },
        "id": "wnpfH7kOT6O6",
        "outputId": "a5962e07-cc15-468c-99d0-91b0b8d97eb3"
      },
      "execution_count": null,
      "outputs": [
        {
          "output_type": "stream",
          "name": "stdout",
          "text": [
            "Оценка beta равна [-326.99552653  -38.15533945   28.33011435    8.67966416   12.06303022] \n",
            "условие sum(betai) = 0: sum(betai) =  5.684341886080802e-14 выполняется\n"
          ]
        }
      ]
    },
    {
      "cell_type": "markdown",
      "source": [
        "- (b)\n",
        "\n",
        "Минимизируем функционал $||\\beta||$"
      ],
      "metadata": {
        "id": "-5IDqB_KNB6m"
      }
    },
    {
      "cell_type": "code",
      "source": [
        "def minf(b):\n",
        "   return np.sum((y - X @ b) ** 2)\n",
        "\n",
        "def con(b):\n",
        "    return fmin(minf, b)\n",
        "\n",
        "cons = {'type':'eq', 'fun': con}\n",
        "\n",
        "def f(b):\n",
        "    return b.T @ b\n",
        "\n",
        "beta1 = opt.minimize(f, beta, constraints=cons).x"
      ],
      "metadata": {
        "id": "fxuJ7rOmZP_3"
      },
      "execution_count": null,
      "outputs": []
    },
    {
      "cell_type": "code",
      "source": [
        "print('Оценка параметра равна', beta1)\n",
        "print('Исходное значение:', np.linalg.norm(beta), '\\nоптимизированное:', np.linalg.norm(beta1))"
      ],
      "metadata": {
        "colab": {
          "base_uri": "https://localhost:8080/"
        },
        "id": "V4KLuZSE4uSJ",
        "outputId": "2756b037-8f19-4b67-83c0-0b8a7b3751ac"
      },
      "execution_count": null,
      "outputs": [
        {
          "output_type": "stream",
          "name": "stdout",
          "text": [
            "Оценка параметра равна [-1.22813011e+00  3.63427397e-03  2.95981487e-02 -1.58098000e-05\n",
            "  5.84386993e-02]\n",
            "Исходное значение: 319.79710593558036 \n",
            "оптимизированное: 1.2298812525509302\n"
          ]
        }
      ]
    },
    {
      "cell_type": "markdown",
      "source": [
        "- (c)\n",
        "\n",
        "Ковариационная матрица равна $cov(\\beta) = \\sigma^2(X^TX)^+$."
      ],
      "metadata": {
        "id": "aaZ5LbxGNDyn"
      }
    },
    {
      "cell_type": "code",
      "source": [
        "Vn = np.linalg.pinv(X.T @ X )"
      ],
      "metadata": {
        "id": "6bH3mDTHkoS4"
      },
      "execution_count": null,
      "outputs": []
    },
    {
      "cell_type": "markdown",
      "source": [
        "Необходимо минимизировать сумму ковариаций. Посчитаем сумму, деленную на $\\sigma^2$."
      ],
      "metadata": {
        "id": "OXFFC66kt4ft"
      }
    },
    {
      "cell_type": "code",
      "source": [
        "s = 0\n",
        "for i, m in enumerate(Vn):\n",
        "    for j, m in enumerate(Vn):\n",
        "        if i > j:\n",
        "            s += np.abs(Vn[i][j])\n",
        "s "
      ],
      "metadata": {
        "colab": {
          "base_uri": "https://localhost:8080/"
        },
        "id": "M7mRUxhnk65U",
        "outputId": "cddafeac-9c23-441c-c537-e2bf29c077e5"
      },
      "execution_count": null,
      "outputs": [
        {
          "output_type": "execute_result",
          "data": {
            "text/plain": [
              "0.11330114238979773"
            ]
          },
          "metadata": {},
          "execution_count": 284
        }
      ]
    },
    {
      "cell_type": "markdown",
      "source": [
        "Так как сумма абсолютных значений ковариаций в итоге будет зависеть от параметра $\\sigma^2$, то будем минимизировать его оценку по $\\beta$."
      ],
      "metadata": {
        "id": "-jMvw7GpuAgu"
      }
    },
    {
      "cell_type": "code",
      "source": [
        "m = 4 # количество регрессоров\n",
        "\n",
        "def minf(b):\n",
        "   return np.sum((y - X @ b) ** 2) \n",
        "\n",
        "def con(b):\n",
        "    return fmin(minf, b)\n",
        "\n",
        "cons = {'type':'eq', 'fun': con}\n",
        "\n",
        "def f(b):\n",
        "    return  np.sum((y - X @ b) ** 2) / (n - m - 1) * s\n",
        "\n",
        "beta2 = opt.minimize(f, beta, constraints=cons).x"
      ],
      "metadata": {
        "id": "ZMlJ5bskk8lS"
      },
      "execution_count": null,
      "outputs": []
    },
    {
      "cell_type": "code",
      "source": [
        "print('Оценка параметра равна', beta2)"
      ],
      "metadata": {
        "colab": {
          "base_uri": "https://localhost:8080/"
        },
        "id": "UIJmISvpqeJZ",
        "outputId": "03fe4b43-2fe7-4af3-bf19-08f901c72c46"
      },
      "execution_count": null,
      "outputs": [
        {
          "output_type": "stream",
          "name": "stdout",
          "text": [
            "Оценка параметра равна [ 2.58355914e-01 -1.19861601e-03 -9.89559544e-06 -1.74384812e-06\n",
            " -1.80886661e-03]\n"
          ]
        }
      ]
    },
    {
      "cell_type": "markdown",
      "source": [
        "- (d)\n",
        "\n",
        "Пусть функционал равен дисперсии ошибок $D(\\varepsilon) = D(\\beta X - y)$."
      ],
      "metadata": {
        "id": "0NwJFZnpNEZj"
      }
    },
    {
      "cell_type": "code",
      "source": [
        "def minf(b):\n",
        "   return np.sum((y - X @ b) ** 2)\n",
        "\n",
        "def con(b):\n",
        "    return fmin(minf, b)\n",
        "\n",
        "cons = {'type':'eq', 'fun': con}\n",
        "\n",
        "def f(b):\n",
        "    return np.var(X @ b - y)\n",
        "\n",
        "beta3 = opt.minimize(f, beta, constraints=cons).x"
      ],
      "metadata": {
        "id": "Rd0gdJWDv1u0"
      },
      "execution_count": null,
      "outputs": []
    },
    {
      "cell_type": "code",
      "source": [
        "print('Оценка параметра равна', beta3)"
      ],
      "metadata": {
        "colab": {
          "base_uri": "https://localhost:8080/"
        },
        "id": "bjAt4ElRwBUS",
        "outputId": "8f1488d7-ade4-4f54-94b6-9e4045faedff"
      },
      "execution_count": null,
      "outputs": [
        {
          "output_type": "stream",
          "name": "stdout",
          "text": [
            "Оценка параметра равна [ 1.97246471e-01  1.46450017e-03  4.73082411e-03  2.47430087e-06\n",
            " -5.13408482e-04]\n"
          ]
        }
      ]
    },
    {
      "cell_type": "markdown",
      "source": [
        "Самая маленькая оценка получилась для предпоследнего случая."
      ],
      "metadata": {
        "id": "jEp8nb8g2Orb"
      }
    },
    {
      "cell_type": "markdown",
      "source": [
        "### Задача 4."
      ],
      "metadata": {
        "id": "0ijhfPfeM4wl"
      }
    },
    {
      "cell_type": "markdown",
      "source": [
        "Как и в задаче 4.d ДЗ1 для проверки данной гипотезы воспользуемся распределением Фишера. Будем проверять гипотезу для третьей."
      ],
      "metadata": {
        "id": "H8C_4w9z-TWD"
      }
    },
    {
      "cell_type": "code",
      "source": [
        "eps2 = (X @ beta2 - np.mean(y)) ** 2\n",
        "eps = (y - X @ beta2) ** 2\n",
        "k = n - m\n",
        "p = m + 1\n",
        "\n",
        "sigma = sum(eps) / k\n",
        "sigma2 = sum(eps2) / p\n",
        "\n",
        "F = sigma2 / sigma \n",
        "f = sts.f.ppf(q=alpha, dfn=p, dfd=k, loc=0, scale=1)\n",
        "\n",
        "print('Статистика критерия равна', F)\n",
        "if (F < f):\n",
        "    print(f'Нет оснований отклонить H_0 в пользу H_1 с уровнем значимости {alpha}')\n",
        "else:\n",
        "    print(f'Есть основания отклонить H_0 в пользу H_1 с уровнем значимости {alpha}')\n",
        "print('Значение p-value равно', sts.f.cdf(x=F, dfn=p, dfd=k, loc=0, scale=1))"
      ],
      "metadata": {
        "colab": {
          "base_uri": "https://localhost:8080/"
        },
        "id": "kKjhRk_G8VJh",
        "outputId": "52c51815-9484-4ed7-fe0b-8d3fbdf10145"
      },
      "execution_count": null,
      "outputs": [
        {
          "output_type": "stream",
          "name": "stdout",
          "text": [
            "Статистика критерия равна 1.403343974381953\n",
            "Есть основания отклонить H_0 в пользу H_1 с уровнем значимости 0.05\n",
            "Значение p-value равно 0.7549279497237642\n"
          ]
        }
      ]
    },
    {
      "cell_type": "markdown",
      "source": [
        "### Задача 5."
      ],
      "metadata": {
        "id": "yOCyDcpbNNI_"
      }
    },
    {
      "cell_type": "markdown",
      "source": [
        "Смоделируем выборку."
      ],
      "metadata": {
        "id": "2qjbVdVqrI5d"
      }
    },
    {
      "cell_type": "code",
      "source": [
        "def sample(n = 100):\n",
        "    x1 = sts.uniform.rvs(loc = -30, scale = 40, size = n)\n",
        "    x2 = sts.poisson.rvs(mu = 10, loc = 0, size = n)\n",
        "    X = np.array([x1, x2]).T\n",
        "    beta1, beta2 = 1, 1\n",
        "    eps = sts.norm.rvs(loc= 0, scale = 0.2, size = n)\n",
        "    y = np.arctan(beta1 * x1 + beta2 * x2) + eps\n",
        "    return X.T, y\n",
        "\n",
        "X, y = sample(n = 100)"
      ],
      "metadata": {
        "id": "EYX-CEenrOdv"
      },
      "execution_count": null,
      "outputs": []
    },
    {
      "cell_type": "markdown",
      "source": [
        "- ОМП-оценка: $\\hat{\\beta} =  \\min\\limits_{\\beta}\\sum_{j=1}^n(y_j - \\arctan(\\mathbf{x}_j,\\beta))^2$"
      ],
      "metadata": {
        "id": "9R8mh4Lmtort"
      }
    },
    {
      "cell_type": "code",
      "source": [
        "def beta_mle(X, y):\n",
        "\n",
        "  def f(beta):\n",
        "      return sum((y - np.arctan(beta[0] * X[0] + beta[1] * X[1])) ** 2) \n",
        "\n",
        "  beta_mle = fmin(f, [1, 1])\n",
        "  return beta_mle\n",
        "\n",
        "beta1 = beta_mle(X, y)\n",
        "beta1"
      ],
      "metadata": {
        "colab": {
          "base_uri": "https://localhost:8080/"
        },
        "id": "44ROxSACt-Yi",
        "outputId": "79cd2a4b-75f6-47d5-ac89-a954e9e0bc44"
      },
      "execution_count": null,
      "outputs": [
        {
          "output_type": "stream",
          "name": "stdout",
          "text": [
            "Optimization terminated successfully.\n",
            "         Current function value: 4.809224\n",
            "         Iterations: 25\n",
            "         Function evaluations: 51\n"
          ]
        },
        {
          "output_type": "execute_result",
          "data": {
            "text/plain": [
              "array([1.01549634, 1.01887432])"
            ]
          },
          "metadata": {},
          "execution_count": 439
        }
      ]
    },
    {
      "cell_type": "markdown",
      "source": [
        "- МНК-оценка после сведения модели к линейной: $\\tan(y) = \\beta\\mathbf{x} + \\xi, \\ \\tan(y) = y^* ,\\ \\hat\\beta = (\\mathbb{X}^T\\mathbb{X})^{-1}\\mathbb{X}^T\\mathbb{Y}^*$."
      ],
      "metadata": {
        "id": "z-HTA5X6wVS3"
      }
    },
    {
      "cell_type": "code",
      "source": [
        "def beta_mls(X, y):\n",
        "    return np.linalg.inv(X.T @ X) @ X.T @ np.tan(y)\n",
        "\n",
        "beta2 = beta_mls(X.T, y)\n",
        "beta2"
      ],
      "metadata": {
        "colab": {
          "base_uri": "https://localhost:8080/"
        },
        "id": "txnEvbpQzgbw",
        "outputId": "a398c37d-7f39-488c-ade0-fea0face1435"
      },
      "execution_count": null,
      "outputs": [
        {
          "output_type": "execute_result",
          "data": {
            "text/plain": [
              "array([ 0.21158186, -0.45116681])"
            ]
          },
          "metadata": {},
          "execution_count": 440
        }
      ]
    },
    {
      "cell_type": "markdown",
      "source": [
        "- МНК-оценка после сведения модели к линейной с уточнением за счет разложения в ряд Тейлора: $\\tan(\\arctan(\\beta \\mathbf{x})) = \\tan(y) + \\displaystyle\\frac{\\arctan(\\beta \\mathbf{x} ) - y}{\\cos^2(y)} = \\tan(y) + \\displaystyle\\frac{\\varepsilon}{cos^2(y)} = \\beta \\mathbf{x}$. Модель гетероскедастичная, поэтому  $cov(\\varepsilon) = \\displaystyle\\frac{\\mathbb{\\sigma^2I}}{cos^2(y)}$."
      ],
      "metadata": {
        "id": "jnN8fak01biU"
      }
    },
    {
      "cell_type": "code",
      "source": [
        "def beta_teylor(X, y):    \n",
        "    w = np.array( 1 / (np.cos(y) ** 2))\n",
        "    z = np.tan(y) * w\n",
        "\n",
        "    def transformx(x, v):\n",
        "      for i in range(len(x.T)):\n",
        "          x.T[i] *= v\n",
        "\n",
        "    transformx(X, w)\n",
        "\n",
        "    return np.linalg.inv(X.T @ X) @ X.T @ z\n",
        "\n",
        "beta3 = beta_teylor(X.T, y) \n",
        "beta3"
      ],
      "metadata": {
        "colab": {
          "base_uri": "https://localhost:8080/"
        },
        "id": "h_jRm3qb173a",
        "outputId": "194ff1c7-6370-43d9-9c90-0fa409b09165"
      },
      "execution_count": null,
      "outputs": [
        {
          "output_type": "execute_result",
          "data": {
            "text/plain": [
              "array([-2.11512135e-04, -9.17316985e-05])"
            ]
          },
          "metadata": {},
          "execution_count": 460
        }
      ]
    },
    {
      "cell_type": "markdown",
      "source": [
        "Смоделируем распределение каждой из полученных оценок, для этого смоделируем большое количество выборок и посчитаем для них оценки."
      ],
      "metadata": {
        "id": "VE0BXv_Y8vTE"
      }
    },
    {
      "cell_type": "code",
      "source": [
        "N = 100\n",
        "\n",
        "samples = [sample() for i in range(N)] # выборки исходных данных\n",
        "betas1 = np.array([beta_mle(s[0], s[1]) for s in samples]).T # выборки для ОМП-оценок\n",
        "betas2 = np.array([beta_mls(np.array(s[0]).T, s[1]) for s in samples]).T # выборки для МНК-оценок (линеаризованная модель)\n",
        "betas3 = np.array([beta_teylor(np.array(s[0]).T, s[1]) for s in samples]).T # выборки для МНК-оценок (с использованием ряда Тейлора)"
      ],
      "metadata": {
        "id": "Lut9O0Oc7G2E"
      },
      "execution_count": null,
      "outputs": []
    },
    {
      "cell_type": "code",
      "source": [
        "sns.kdeplot(betas1[0])"
      ],
      "metadata": {
        "colab": {
          "base_uri": "https://localhost:8080/",
          "height": 283
        },
        "id": "dcMJHaxR-RK4",
        "outputId": "8827fef6-a11c-47a5-84bb-eaaefada30d2"
      },
      "execution_count": null,
      "outputs": [
        {
          "output_type": "execute_result",
          "data": {
            "text/plain": [
              "<matplotlib.axes._subplots.AxesSubplot at 0x7fc1cc1c8150>"
            ]
          },
          "metadata": {},
          "execution_count": 471
        },
        {
          "output_type": "display_data",
          "data": {
            "text/plain": [
              "<Figure size 432x288 with 1 Axes>"
            ],
            "image/png": "[encoded data removed]"
          },
          "metadata": {
            "needs_background": "light"
          }
        }
      ]
    },
    {
      "cell_type": "code",
      "source": [
        "sns.kdeplot(betas1[1])"
      ],
      "metadata": {
        "colab": {
          "base_uri": "https://localhost:8080/",
          "height": 283
        },
        "id": "NkWhNyGp-beV",
        "outputId": "6b19a308-ca4a-4dc0-b5a4-167f1d4a2c2b"
      },
      "execution_count": null,
      "outputs": [
        {
          "output_type": "execute_result",
          "data": {
            "text/plain": [
              "<matplotlib.axes._subplots.AxesSubplot at 0x7fc1cc15f190>"
            ]
          },
          "metadata": {},
          "execution_count": 472
        },
        {
          "output_type": "display_data",
          "data": {
            "text/plain": [
              "<Figure size 432x288 with 1 Axes>"
            ],
            "image/png": "[encoded data removed]"
          },
          "metadata": {
            "needs_background": "light"
          }
        }
      ]
    },
    {
      "cell_type": "code",
      "source": [
        "sns.kdeplot(betas2[0])"
      ],
      "metadata": {
        "colab": {
          "base_uri": "https://localhost:8080/",
          "height": 283
        },
        "id": "XZbFI4bqAShK",
        "outputId": "dce1f521-25f6-46ac-ed2a-593b16a628d8"
      },
      "execution_count": null,
      "outputs": [
        {
          "output_type": "execute_result",
          "data": {
            "text/plain": [
              "<matplotlib.axes._subplots.AxesSubplot at 0x7fc1cc14cfd0>"
            ]
          },
          "metadata": {},
          "execution_count": 473
        },
        {
          "output_type": "display_data",
          "data": {
            "text/plain": [
              "<Figure size 432x288 with 1 Axes>"
            ],
            "image/png": "[encoded data removed]"
          },
          "metadata": {
            "needs_background": "light"
          }
        }
      ]
    },
    {
      "cell_type": "code",
      "source": [
        "sns.kdeplot(betas2[1])"
      ],
      "metadata": {
        "colab": {
          "base_uri": "https://localhost:8080/",
          "height": 283
        },
        "id": "GHdNIG2TAZoK",
        "outputId": "c7c783f9-009f-4234-b24f-e1a3c9045a86"
      },
      "execution_count": null,
      "outputs": [
        {
          "output_type": "execute_result",
          "data": {
            "text/plain": [
              "<matplotlib.axes._subplots.AxesSubplot at 0x7fc1cc0bb5d0>"
            ]
          },
          "metadata": {},
          "execution_count": 474
        },
        {
          "output_type": "display_data",
          "data": {
            "text/plain": [
              "<Figure size 432x288 with 1 Axes>"
            ],
            "image/png": "[encoded data removed]"
          },
          "metadata": {
            "needs_background": "light"
          }
        }
      ]
    },
    {
      "cell_type": "code",
      "source": [
        "sns.kdeplot(betas3[0])"
      ],
      "metadata": {
        "colab": {
          "base_uri": "https://localhost:8080/",
          "height": 283
        },
        "id": "YSOYNdgHAeIS",
        "outputId": "4aaf6f12-0ace-47d8-804a-bfe23865f5d7"
      },
      "execution_count": null,
      "outputs": [
        {
          "output_type": "execute_result",
          "data": {
            "text/plain": [
              "<matplotlib.axes._subplots.AxesSubplot at 0x7fc1cc035e90>"
            ]
          },
          "metadata": {},
          "execution_count": 475
        },
        {
          "output_type": "display_data",
          "data": {
            "text/plain": [
              "<Figure size 432x288 with 1 Axes>"
            ],
            "image/png": "[encoded data removed]"
          },
          "metadata": {
            "needs_background": "light"
          }
        }
      ]
    },
    {
      "cell_type": "code",
      "source": [
        "sns.kdeplot(betas3[1])"
      ],
      "metadata": {
        "colab": {
          "base_uri": "https://localhost:8080/",
          "height": 283
        },
        "id": "2MGfrzbeBLG4",
        "outputId": "f58423f5-9c96-4dfc-ebfe-81fe948d8ee2"
      },
      "execution_count": null,
      "outputs": [
        {
          "output_type": "execute_result",
          "data": {
            "text/plain": [
              "<matplotlib.axes._subplots.AxesSubplot at 0x7fc1cbfa0410>"
            ]
          },
          "metadata": {},
          "execution_count": 476
        },
        {
          "output_type": "display_data",
          "data": {
            "text/plain": [
              "<Figure size 432x288 with 1 Axes>"
            ],
            "image/png": "[encoded data removed]"
          },
          "metadata": {
            "needs_background": "light"
          }
        }
      ]
    },
    {
      "cell_type": "code",
      "source": [
        "print('Среднее значение первой оценки', '(', np.mean(betas1[0]), ',', np.mean(betas1[1]), ')')\n",
        "print('Стандартное отклонение первой оценки', '(', np.std(betas1[0]), ',', np.std(betas1[1]), ')\\n')\n",
        "print('Среднее значение второй оценки', '(', np.mean(betas2[0]), ',', np.mean(betas2[1]), ')')\n",
        "print('Стандартное отклонение второй оценки', '(', np.std(betas2[0]), ',', np.std(betas2[1]), ')\\n')\n",
        "print('Среднее значение третьей оценки', '(', np.mean(betas3[0]), ',', np.mean(betas3[1]), ')')\n",
        "print('Стандартное отклонение третьей оценки', '(', np.std(betas3[0]), ',', np.std(betas3[1]), ')')"
      ],
      "metadata": {
        "colab": {
          "base_uri": "https://localhost:8080/"
        },
        "id": "SWcvqBjTLBDr",
        "outputId": "9d50e4c6-dcef-4fb5-9429-2ca245b51cff"
      },
      "execution_count": null,
      "outputs": [
        {
          "output_type": "stream",
          "name": "stdout",
          "text": [
            "Среднее значение первой оценки ( 1.024930494016598 , 1.0224351099769402 )\n",
            "Стандартное отклонение первой оценки ( 0.12257196300294095 , 0.1230289098734288 )\n",
            "\n",
            "Среднее значение второй оценки ( 0.4632846079501198 , 0.56143856418155 )\n",
            "Стандартное отклонение второй оценки ( 2.805269141351837 , 5.19802511503908 )\n",
            "\n",
            "Среднее значение третьей оценки ( 24.401220203616433 , 7.992841780861989 )\n",
            "Стандартное отклонение третьей оценки ( 183.5880627730294 , 359.65328756530414 )\n"
          ]
        }
      ]
    },
    {
      "cell_type": "markdown",
      "source": [
        "Лучше получилась ОМП-оценка, так как ее среднее значение наиболее близко к теоретическому. При разложении в ряд Тейлора оценки получаются самые далекие от теоретических. Вторая модель показывает также не совсем плохой результат."
      ],
      "metadata": {
        "id": "HUriWZd2M725"
      }
    },
    {
      "cell_type": "markdown",
      "source": [
        "### Задача 6."
      ],
      "metadata": {
        "id": "N2jahAWxNO-Z"
      }
    },
    {
      "cell_type": "markdown",
      "source": [
        "Так как данная функция $f_{\\beta} = \\beta_0 + \\beta_1x_1x_2 + e^{\\beta_2x_2} + \\varepsilon$ является непрерывно дифференцируемой, ошибки имеют нормальное распределение $\\varepsilon \\sim \\mathcal{N}(0, \\sigma^2)$ и МНК-оценка единственна, то можем воспользоваться критерием с последнего слайда лекции 18.\n",
        "\n",
        "Так как $\\sigma^2$ также неизвестна, то построим оценку параметра. Сначала оценим параметр $\\beta$ с помощью ОМП."
      ],
      "metadata": {
        "id": "6_WgQFfyAx_z"
      }
    },
    {
      "cell_type": "code",
      "source": [
        "X = df.loc[:, 'Ex6.x1':'Ex6.x2'].to_numpy()\n",
        "y = df['Ex6.y'].to_numpy()\n",
        "X = np.array(np.concatenate(([np.ones(n)], X.T), axis=0)).T\n",
        "beta = np.array([1, 0, np.log(2)])\n",
        "def beta_mle(X, y):\n",
        "\n",
        "  def f(beta):\n",
        "      return sum((y - (beta[0] + beta[1] * X[1] * X[2] + np.exp(beta[2] * X[2]))) ** 2) \n",
        "\n",
        "  beta_ml = fmin(f, [1, 1, 1])\n",
        "  return beta_ml\n",
        "\n",
        "beta1 = beta_mle(X.T, y)\n",
        "beta1"
      ],
      "metadata": {
        "id": "Au8BAeqVNQ_A",
        "colab": {
          "base_uri": "https://localhost:8080/"
        },
        "outputId": "d8d47fc5-b149-4bde-82e4-bf65344c4097"
      },
      "execution_count": 125,
      "outputs": [
        {
          "output_type": "stream",
          "name": "stdout",
          "text": [
            "Optimization terminated successfully.\n",
            "         Current function value: 8.466899\n",
            "         Iterations: 157\n",
            "         Function evaluations: 282\n"
          ]
        },
        {
          "output_type": "execute_result",
          "data": {
            "text/plain": [
              "array([0.92273993, 0.00199547, 0.69412416])"
            ]
          },
          "metadata": {},
          "execution_count": 125
        }
      ]
    },
    {
      "cell_type": "markdown",
      "source": [
        "Теперь построим оценку $\\sigma^2$."
      ],
      "metadata": {
        "id": "ofr9vIWQFQ3J"
      }
    },
    {
      "cell_type": "code",
      "source": [
        "m = 2\n",
        "sigma = np.sqrt(np.sum((y - X @ beta1) ** 2) / (n - m - 1))"
      ],
      "metadata": {
        "id": "yQnzeOQlEfrY"
      },
      "execution_count": 115,
      "outputs": []
    },
    {
      "cell_type": "markdown",
      "source": [
        "Рассмотрим отношение правдоподобия."
      ],
      "metadata": {
        "id": "VfCgewIXFs-A"
      }
    },
    {
      "cell_type": "code",
      "source": [
        "L0 = sum((y - (beta[0] + beta[1] * X.T[1] * X.T[2] + np.exp(beta[2] * X.T[2]))) ** 2)\n",
        "L1 = sum((y - (beta1[0] + beta1[1] * X.T[1] * X.T[2] + np.exp(beta1[2] * X.T[2]))) ** 2)\n",
        "LHR = (L0 / L1) ** (-n / 2)\n",
        "LHR"
      ],
      "metadata": {
        "colab": {
          "base_uri": "https://localhost:8080/"
        },
        "id": "5czpEtooFPyY",
        "outputId": "f6f114aa-423e-4ce3-aee2-d06026e64dae"
      },
      "execution_count": 116,
      "outputs": [
        {
          "output_type": "execute_result",
          "data": {
            "text/plain": [
              "0.6431021993836427"
            ]
          },
          "metadata": {},
          "execution_count": 116
        }
      ]
    },
    {
      "cell_type": "markdown",
      "source": [
        "Статистика критерия"
      ],
      "metadata": {
        "id": "RD1aAZQIG9p-"
      }
    },
    {
      "cell_type": "code",
      "source": [
        "T = L0 / L1\n",
        "T"
      ],
      "metadata": {
        "colab": {
          "base_uri": "https://localhost:8080/"
        },
        "id": "RIIHtN9NGZa4",
        "outputId": "1e963a7a-f4d1-465e-9464-fb0d06fcc676"
      },
      "execution_count": 117,
      "outputs": [
        {
          "output_type": "execute_result",
          "data": {
            "text/plain": [
              "1.0212440142690904"
            ]
          },
          "metadata": {},
          "execution_count": 117
        }
      ]
    },
    {
      "cell_type": "markdown",
      "source": [
        "Смоделируем функцию распределения статистики критерия"
      ],
      "metadata": {
        "id": "jeweg30UHB-9"
      }
    },
    {
      "cell_type": "code",
      "source": [
        "n , N = 42, 1000\n",
        "beta = np.array([1, 0, np.log(2)])\n",
        "\n",
        "def y(x):\n",
        "      return (beta[0] + beta[1] * x[1] * x[2] + np.exp(beta[2] * x[2]) -\n",
        "              sts.norm.rvs(loc = 0, scale = 0.01))\n",
        "\n",
        "x_samples = [np.array([np.ones(n), \n",
        "                      sts.uniform.rvs(loc= 0, scale = 2, size = n), \n",
        "                      sts.uniform.rvs(loc= 3, scale = 2, size = n)]) for k in range(N)]\n",
        "\n",
        "y_samples = np.array([y(x) for x in x_samples])\n",
        "\n",
        "\n",
        "betas = np.array([beta_mle(z[0], z[1]) for z in list(zip(x_samples, y_samples))])"
      ],
      "metadata": {
        "id": "13YT5sZ_G7CB"
      },
      "execution_count": null,
      "outputs": []
    },
    {
      "cell_type": "markdown",
      "source": [
        "Сгенерируем статистики критерия, а затем построим эмпирическую функцию распределения"
      ],
      "metadata": {
        "id": "FdB8De1IMKBn"
      }
    },
    {
      "cell_type": "code",
      "source": [
        "def Tn(X, y, beta_ml):\n",
        "    L0 = sum((y - (beta[0] + beta[1] * X[1] * X[2] + np.exp(beta[2] * X[2]))) ** 2)\n",
        "    L1 = sum((y - (beta_ml[0] + beta_ml[1] * X[1] * X[2] + np.exp(beta_ml[2] * X[2]))) ** 2)\n",
        "    return L0 / L1\n",
        "\n",
        "T_samples = np.array([Tn(z[0], z[1], z[2]) for z in list(zip(x_samples, y_samples, betas))])"
      ],
      "metadata": {
        "id": "utyTxgLdIYoI"
      },
      "execution_count": 131,
      "outputs": []
    },
    {
      "cell_type": "code",
      "source": [
        "Fn = np.linspace(0, 1, N)\n",
        "\n",
        "T_samples.sort()\n",
        "\n",
        "\n",
        "plt.plot(T_samples, Fn)\n",
        "plt.xlabel('Стастистика критерия')\n",
        "plt.ylabel('Функция распределения статистики критерия')\n",
        "plt.plot(T_samples, Fn)\n",
        "plt.show()"
      ],
      "metadata": {
        "colab": {
          "base_uri": "https://localhost:8080/",
          "height": 294
        },
        "id": "V5_pdkKJIdO7",
        "outputId": "c5c93a54-1b2a-4953-dc2f-9a1a49e10c6d"
      },
      "execution_count": 132,
      "outputs": [
        {
          "output_type": "display_data",
          "data": {
            "text/plain": [
              "<Figure size 432x288 with 1 Axes>"
            ],
            "image/png": "[encoded data removed]"
          },
          "metadata": {
            "needs_background": "light"
          }
        }
      ]
    },
    {
      "cell_type": "code",
      "source": [
        "pvalue = 1 - Fn[min(max((np.where(T_samples > T))))]\n",
        "print('p-value равно', pvalue)"
      ],
      "metadata": {
        "colab": {
          "base_uri": "https://localhost:8080/"
        },
        "id": "h7se1ZhgM74L",
        "outputId": "eee5fef3-3566-4000-80ab-eaa7aa94a760"
      },
      "execution_count": 133,
      "outputs": [
        {
          "output_type": "stream",
          "name": "stdout",
          "text": [
            "p-value равно 0.996996996996997\n"
          ]
        }
      ]
    },
    {
      "cell_type": "markdown",
      "source": [
        "0.05-квавнтиль равен:"
      ],
      "metadata": {
        "id": "A53QYq2OSKWn"
      }
    },
    {
      "cell_type": "code",
      "source": [
        "T_samples[49]"
      ],
      "metadata": {
        "colab": {
          "base_uri": "https://localhost:8080/"
        },
        "id": "i0gk0ivPNddd",
        "outputId": "34d3a16b-72b2-4c0a-c50c-c4daa75cbb31"
      },
      "execution_count": 134,
      "outputs": [
        {
          "output_type": "execute_result",
          "data": {
            "text/plain": [
              "668.8973040278428"
            ]
          },
          "metadata": {},
          "execution_count": 134
        }
      ]
    },
    {
      "cell_type": "markdown",
      "source": [
        "Критическая область $(668.8973040278428, +\\infty)$. Статистика критерия равна. Получившаяся статистика равна $1.0212440142690904$. Значит нет оснований отклонить $H_0: \\beta = (1, 0, \\log(2))$ в пользу $H_1$. "
      ],
      "metadata": {
        "id": "xnx-FpfihXfJ"
      }
    }
  ]
}