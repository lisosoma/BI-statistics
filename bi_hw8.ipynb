{
  "cells": [
    {
      "cell_type": "markdown",
      "metadata": {
        "id": "view-in-github",
        "colab_type": "text"
      },
      "source": [
        "<a href=\"https://colab.research.google.com/github/lisosoma/BI_STATISTICS/blob/main/bi_hw8.ipynb\" target=\"_parent\"><img src=\"https://colab.research.google.com/assets/colab-badge.svg\" alt=\"Open In Colab\"/></a>"
      ]
    },
    {
      "cell_type": "code",
      "execution_count": null,
      "metadata": {
        "id": "c0mwGeSjIOSB"
      },
      "outputs": [],
      "source": [
        "import pandas as pd\n",
        "import matplotlib.pyplot as plt\n",
        "import numpy as np\n",
        "import scipy.stats as sts\n",
        "import scipy\n",
        "import math\n",
        "import itertools\n",
        "from scipy.special import zeta\n",
        "from math import pi, sin, cos, sqrt, exp"
      ]
    },
    {
      "cell_type": "markdown",
      "metadata": {
        "id": "2GpMAIr6IOSE"
      },
      "source": [
        "##### Задача 1.a."
      ]
    },
    {
      "cell_type": "code",
      "execution_count": null,
      "metadata": {
        "id": "B_SQEM7cIOSG"
      },
      "outputs": [],
      "source": [
        "def ex1a(s = 1):\n",
        "    p = 15519504 / 55835135                        # заданная в условии константа\n",
        "    prob = [p / i for i in range(1, 21)]           # список со значениями функции вероятности p(xi = N)\n",
        "    cumprob = list(itertools.accumulate(prob))     # список со значениями функции распределения p(xi <= N)\n",
        "    \n",
        "    uniform = sts.uniform.rvs(loc=0, scale=1, size=s, random_state=None)     # моделируем список случайных величин,\n",
        "                                                                             # имеющих равномерное распределение на [0, 1]\n",
        "        \n",
        "    distrib = []       # в данном списке будем хранить значения случайных величин из распределения F (для 1.a)\n",
        "    for i in range(s):\n",
        "        for j in range(19):\n",
        "            if uniform[i] <= cumprob[j + 1] and uniform[i] > cumprob[j]:     # если случайная величина из равномерного\n",
        "                                                                             # распределения попадает в интервал\n",
        "                distrib.append(j + 2)                                        # добавляем в список m = j + 2 (как в лекциях)\n",
        "        if uniform[i] <= cumprob[0]:                                         # условие для крайнего значения\n",
        "            distrib.append(1)\n",
        "    return distrib"
      ]
    },
    {
      "cell_type": "markdown",
      "metadata": {
        "id": "HcUDYd8VIOSH"
      },
      "source": [
        "Для задачи 3.а сразу смоделируем выборку необходимого размера."
      ]
    },
    {
      "cell_type": "code",
      "execution_count": null,
      "metadata": {
        "colab": {
          "base_uri": "https://localhost:8080/",
          "height": 281
        },
        "id": "tdlZuk7_IOSI",
        "outputId": "7ffd4fb4-7c2d-469b-db34-607b8ae9d5d7"
      },
      "outputs": [
        {
          "output_type": "display_data",
          "data": {
            "image/png": "[encoded data removed]",
            "text/plain": [
              "<Figure size 432x288 with 1 Axes>"
            ]
          },
          "metadata": {
            "needs_background": "light"
          }
        }
      ],
      "source": [
        "distrib1 = ex1a(1000)\n",
        "df1 = pd.DataFrame({'Ex1a' : distrib1})\n",
        "h_1 = df1.hist()"
      ]
    },
    {
      "cell_type": "markdown",
      "metadata": {
        "id": "Dr0mhBhjIOSJ"
      },
      "source": [
        "##### Задача 1.b."
      ]
    },
    {
      "cell_type": "code",
      "execution_count": null,
      "metadata": {
        "id": "w0veftFDIOSK"
      },
      "outputs": [],
      "source": [
        "def ex1b(s = 1):\n",
        "    C = 1 / zeta(3, 1)     # zeta() - дзета-функция Римана для нормировки\n",
        "    \n",
        "    uniform = sts.uniform.rvs(loc=0, scale=1, size=s, random_state=None)      # моделируем список случайных величин,\n",
        "                                                                              # имеющих равномерное распределение на [0, 1]\n",
        "        \n",
        "    distrib = []           # в данном списке будем хранить значения случайных величин из распределения F\n",
        "    for i in range(s):     \n",
        "        cumsum, r = C, C\n",
        "        N = 1\n",
        "        while(uniform[i] > cumsum):    # поиск интервала, в который должна \n",
        "                                       # попасть равномерно распределенная случайная величина\n",
        "            N += 1                     # делаем пересчет вероятностей и частичных сумм\n",
        "            r = C / N ** 3\n",
        "            cumsum += r\n",
        "        distrib.append(N)              # добавляем случайную величину в список\n",
        "    return distrib"
      ]
    },
    {
      "cell_type": "markdown",
      "metadata": {
        "id": "UJHiRIXHIOSL"
      },
      "source": [
        "Для задачи 3.b сразу смоделируем выборку необходимого размера."
      ]
    },
    {
      "cell_type": "code",
      "execution_count": null,
      "metadata": {
        "colab": {
          "base_uri": "https://localhost:8080/",
          "height": 281
        },
        "id": "QxqHZx2-IOSM",
        "outputId": "19fbf0b4-c4b9-4691-fb96-dd4a8498554d"
      },
      "outputs": [
        {
          "output_type": "display_data",
          "data": {
            "image/png": "[encoded data removed]",
            "text/plain": [
              "<Figure size 432x288 with 1 Axes>"
            ]
          },
          "metadata": {
            "needs_background": "light"
          }
        }
      ],
      "source": [
        "distrib2 = ex1b(1000)\n",
        "df2 = pd.DataFrame({'Ex1b' : distrib2})\n",
        "h_2 = df2.hist()"
      ]
    },
    {
      "cell_type": "markdown",
      "metadata": {
        "id": "Dd_2kVkpIOSN"
      },
      "source": [
        "##### Задача 2.a."
      ]
    },
    {
      "cell_type": "code",
      "execution_count": null,
      "metadata": {
        "colab": {
          "base_uri": "https://localhost:8080/",
          "height": 428
        },
        "id": "5_pMEbDnIOSN",
        "outputId": "df647a33-f9dd-4eba-eb2d-9d97036973d2"
      },
      "outputs": [
        {
          "output_type": "display_data",
          "data": {
            "image/png": "[encoded data removed]",
            "text/plain": [
              "<Figure size 504x504 with 1 Axes>"
            ]
          },
          "metadata": {
            "needs_background": "light"
          }
        }
      ],
      "source": [
        "q = lambda x : 5 / 72 / sqrt(2) * (-x ** 4 - 3 * x  ** 2 + 10)          # плотность распределения (в условии p(x))\n",
        "        \n",
        "x = np.linspace(-math.sqrt(2), math.sqrt(2), 100)\n",
        "q_list = [q(x[i]) for i in range(100)]                                  \n",
        "\n",
        "plt.figure(figsize=(7, 7))\n",
        "plt.plot(x, q_list)\n",
        "plt.grid()"
      ]
    },
    {
      "cell_type": "code",
      "execution_count": null,
      "metadata": {
        "id": "_uzzyekLIOSO"
      },
      "outputs": [],
      "source": [
        "def ex2a(s = 1):\n",
        "    M = 50 / 72 / sqrt(2)\n",
        "    \n",
        "    distrib = []                  # список, где будут храниться значения случайной \n",
        "                                  # величины из распределения с плотностью q(x)   \n",
        "        \n",
        "    while(len(distrib) < s):      # пока размер списка не достигнет необходимого объема выборки\n",
        "        \n",
        "        uniform1 = sts.uniform.rvs(loc=0, scale=1, size=1, random_state=None)      # генерируем св ~ U[0, 1]\n",
        "        uniformb = sts.uniform.rvs(loc=0, scale=1, size=1, random_state=None)      # генерируем еще одну такую же св\n",
        "                                                                                   # она служит для того, чтобы определить\n",
        "                                                                                   # знак св uniform1 \n",
        "                \n",
        "        if uniformb >= 1 / 2:      # определяем знак, таким образом получаем uniform1' ~ U[-1, 1]\n",
        "            uniform1 *= -1\n",
        "            \n",
        "        uniform2 = sts.uniform.rvs(loc=0, scale=1, size=1, random_state=None)      # генерируем еще одну св ~ U[0, 1]\n",
        "        if uniform2 * M <= q(uniform1 * math.sqrt(2)):                             # проверяем условие того, что\n",
        "                                                                                   # если uniform2 *  M ~ U[0, M]\n",
        "                                                                                   # коордианата y точки с координатой\n",
        "                                                                                   # x = uniform1'', которая попадает\n",
        "                                                                                   # под график q(x), то тогда искомая\n",
        "            distrib.append(float(uniform1 * math.sqrt(2)))                         # св равна uniform1''\n",
        "    return distrib"
      ]
    },
    {
      "cell_type": "markdown",
      "metadata": {
        "id": "rxnjDG8pIOSP"
      },
      "source": [
        "Для задачи 3.c сразу смоделируем выборку необходимого размера."
      ]
    },
    {
      "cell_type": "code",
      "execution_count": null,
      "metadata": {
        "colab": {
          "base_uri": "https://localhost:8080/",
          "height": 281
        },
        "id": "qQVlKpYyIOSP",
        "outputId": "ef34bab4-da34-4850-fce3-909f2a9d1e73"
      },
      "outputs": [
        {
          "output_type": "display_data",
          "data": {
            "image/png": "[encoded data removed]",
            "text/plain": [
              "<Figure size 432x288 with 1 Axes>"
            ]
          },
          "metadata": {
            "needs_background": "light"
          }
        }
      ],
      "source": [
        "distrib3 = ex2a(1000)\n",
        "df3 = pd.DataFrame({'Ex2a' : distrib3})\n",
        "h_3 = df3.hist()"
      ]
    },
    {
      "cell_type": "markdown",
      "metadata": {
        "id": "mnXIhPh7IOSP"
      },
      "source": [
        "##### Задача 2.b."
      ]
    },
    {
      "cell_type": "code",
      "execution_count": null,
      "metadata": {
        "colab": {
          "base_uri": "https://localhost:8080/",
          "height": 431
        },
        "id": "8M_lpIsDIOSP",
        "outputId": "478c1501-9f4c-4b54-da64-81ed4621a173"
      },
      "outputs": [
        {
          "output_type": "display_data",
          "data": {
            "image/png": "[encoded data removed]",
            "text/plain": [
              "<Figure size 504x504 with 1 Axes>"
            ]
          },
          "metadata": {
            "needs_background": "light"
          }
        }
      ],
      "source": [
        "def q2(x):   # плотность распределения св, которую нужно смоделировать\n",
        "    if x < 10 and x > -10:\n",
        "        return (math.exp(-x ** 2 / 50) / 5 / math.sqrt(2 * pi) +\n",
        "                (x ** 2 - 10 ** 2) * math.sin(2 * pi * x) / 3000)\n",
        "    else:\n",
        "        return math.exp(-x ** 2 / 50) / 5 / math.sqrt(2 * pi)\n",
        "    \n",
        "p2 = lambda x: math.exp(-x ** 2 / 2 / 25) / 5 / math.sqrt(2 * pi)   # вспомогательные функции\n",
        "                                                                    # для нахождения супремума r(x)\n",
        "z = lambda x: math.exp(-x ** 2 / 50) / 5 / math.sqrt(2 * pi) - (x ** 2 - 10 ** 2) / 3000\n",
        "\n",
        "def f_p2(s = 1):    # моделирование св ~ N(0, 25) методом обратных функций\n",
        "    uniform = sts.uniform.rvs(loc=0, scale=1, size=s, random_state=None)\n",
        "    distrib = []\n",
        "    for x in uniform:\n",
        "        distrib.append(float(sts.norm.ppf(q = x, loc=0, scale=5)))\n",
        "    return distrib\n",
        "    \n",
        "x2 = np.linspace(-15, 15, 1000)\n",
        "q2_plot = [q2(x2[i]) for i in range(1000)]\n",
        "p2_plot = [p2(x2[i]) for i in range(1000)]\n",
        "z_plot = [z(x2[i]) for i in range(1000)]\n",
        "\n",
        "plt.figure(figsize=(7, 7))\n",
        "plt.plot(x2, q2_plot)\n",
        "plt.plot(x2, p2_plot)\n",
        "plt.plot(x2, z_plot)\n",
        "plt.grid()"
      ]
    },
    {
      "cell_type": "code",
      "execution_count": null,
      "metadata": {
        "id": "F2cK24UIIOSQ"
      },
      "outputs": [],
      "source": [
        "def ex2b(s = 1):\n",
        "    M = z(0) / p2(0)              # супремум отношения q(x) / p(x)\n",
        "    distrib = []                  # список, где будут храниться значения случайной \n",
        "                                  # величины из распределения с плотностью q(x)   \n",
        "        \n",
        "    while(len(distrib) < s):      # пока размер списка не достигнет необходимого объема выборки\n",
        "        \n",
        "        uniform1 = sts.uniform.rvs(loc=0, scale=1, size=1, random_state=None)      # генерируем св ~ U[0, 1]             \n",
        "        normal1 = f_p2(1)\n",
        "        if uniform1 * M < q2(float(normal1[0])) / p2(float(normal1[0])):\n",
        "            distrib.append(float(normal1[0]))\n",
        "    return distrib"
      ]
    },
    {
      "cell_type": "markdown",
      "metadata": {
        "id": "eBILtFvoIOSQ"
      },
      "source": [
        "Для задачи 3.d сразу смоделируем выборку необходимого размера."
      ]
    },
    {
      "cell_type": "code",
      "execution_count": null,
      "metadata": {
        "colab": {
          "base_uri": "https://localhost:8080/",
          "height": 281
        },
        "id": "WK1I_2jeIOSR",
        "outputId": "39f8e7c7-2728-42a3-9aa0-533b021f420a"
      },
      "outputs": [
        {
          "output_type": "display_data",
          "data": {
            "image/png": "[encoded data removed]",
            "text/plain": [
              "<Figure size 432x288 with 1 Axes>"
            ]
          },
          "metadata": {
            "needs_background": "light"
          }
        }
      ],
      "source": [
        "distrib4 = ex2b(1000)\n",
        "df4 = pd.DataFrame({'Ex2b' : distrib4})\n",
        "h_4 = df4.hist()"
      ]
    },
    {
      "cell_type": "markdown",
      "metadata": {
        "id": "G4GrK9ZxIOSR"
      },
      "source": [
        "##### Задача 3.а."
      ]
    },
    {
      "cell_type": "code",
      "execution_count": null,
      "metadata": {
        "colab": {
          "base_uri": "https://localhost:8080/"
        },
        "id": "PBBRM8QgIOSR",
        "outputId": "dab6ac8b-a0b2-4583-851f-3823b01333a0"
      },
      "outputs": [
        {
          "output_type": "stream",
          "name": "stdout",
          "text": [
            "Нет оснований отклонить H_0 в пользу H_1 с уровнем значимости 0.05\n"
          ]
        }
      ],
      "source": [
        "# будет использован критерий хи-квадрат\n",
        "\n",
        "T_3an = 0\n",
        "p = 15519504 / 55835135\n",
        "pn = [p / i for i in range(1, 21)]\n",
        "v = [0 for i in range(20)]\n",
        "for x in distrib1:\n",
        "    v[x - 1] += 1\n",
        "for i in range(20):\n",
        "    v[i] /= 1000\n",
        "for i in range(20):\n",
        "    T_3an += (v[i] - pn[i]) ** 2 / pn[i]\n",
        "\n",
        "if T_3an >= sts.chi.ppf(q = 0.95, df = 19):\n",
        "    print('Есть основания отклонить H_0 в пользу H_1 с уровнем значимости 0.05')\n",
        "else:\n",
        "    print('Нет оснований отклонить H_0 в пользу H_1 с уровнем значимости 0.05')"
      ]
    },
    {
      "cell_type": "markdown",
      "metadata": {
        "id": "Cp26OTj1IOSS"
      },
      "source": [
        "##### Задача 3.b."
      ]
    },
    {
      "cell_type": "code",
      "execution_count": null,
      "metadata": {
        "colab": {
          "base_uri": "https://localhost:8080/"
        },
        "id": "dn-hmrEvIOSS",
        "outputId": "43fbb67f-ed8e-486b-f997-38e20781a95f"
      },
      "outputs": [
        {
          "output_type": "stream",
          "name": "stdout",
          "text": [
            "Нет оснований отклонить H_0 в пользу H_1 с уровнем значимости 0.05\n"
          ]
        }
      ],
      "source": [
        "# будет использован критерий хи-квадрат\n",
        "\n",
        "T_3bn = 0\n",
        "C = 1 / zeta(3, 1)\n",
        "pr = [C / (i ** 3) for i in range(1, 5)]\n",
        "pr.append(1 - sum(pr))\n",
        "v2 = [0 for i in range(5)]\n",
        "for x in distrib2:\n",
        "    if x <= 4:\n",
        "        v2[x - 1] += 1\n",
        "    else:\n",
        "        v2[4] += 1\n",
        "for i in range(5):\n",
        "    v2[i] /= 1000\n",
        "for i in range(5):\n",
        "    T_3bn += (v2[i] - pr[i]) ** 2 / pr[i]\n",
        "\n",
        "if T_3bn >= sts.chi.ppf(q = 0.95, df = 4):\n",
        "    print('Есть основания отклонить H_0 в пользу H_1 с уровнем значимости 0.05')\n",
        "else:\n",
        "    print('Нет оснований отклонить H_0 в пользу H_1 с уровнем значимости 0.05')"
      ]
    },
    {
      "cell_type": "markdown",
      "metadata": {
        "id": "bKyMf_K9IOSS"
      },
      "source": [
        "##### Задача 3.с."
      ]
    },
    {
      "cell_type": "code",
      "execution_count": null,
      "metadata": {
        "colab": {
          "base_uri": "https://localhost:8080/"
        },
        "id": "3hPtncCnIOSS",
        "outputId": "a775feb2-cf83-4be0-ff3e-1457bceb70b2"
      },
      "outputs": [
        {
          "output_type": "stream",
          "name": "stdout",
          "text": [
            "Нет оснований отклонить H_0 в пользу H_1 с уровнем значимости 0.05\n"
          ]
        }
      ],
      "source": [
        "# будет использован критерий Колмогорова\n",
        "\n",
        "Q = lambda x: 5 / 72 / math.sqrt(2) * (-x ** 5 / 5 - x  ** 3 + 10 * x) + 1 / 2\n",
        "\n",
        "distrib3.sort()\n",
        "\n",
        "F_t3c = [Q(x) for x in distrib3]           # теореттическая функция распределения\n",
        "F_e3c = [0 for x in distrib3]              # эмпирическая функция распределения\n",
        "\n",
        "for i in range(1000):\n",
        "    j = 0\n",
        "    while((distrib3[j] <= distrib3[i]) and j < 999):\n",
        "        F_e3c[i] += 1\n",
        "        j += 1\n",
        "    F_e3c[i] /= 1000\n",
        "    \n",
        "D_n3c = [abs(F_e3c[i] - F_t3c[i]) for i in range(1000)]\n",
        "T_n3c = math.sqrt(1000) * max(D_n3c)            # статистика критерия Колмогорова\n",
        "\n",
        "lambda_3c = 1.36      # квантиль распределения Колмогорова для уровня значимости alpha = 0.05 взят из таблицы\n",
        "\n",
        "if T_n3c > lambda_3c:\n",
        "    print('Есть основания отклонить H_0 в пользу H_1 с уровнем значимости 0.05')\n",
        "else:\n",
        "    print('Нет оснований отклонить H_0 в пользу H_1 с уровнем значимости 0.05')"
      ]
    },
    {
      "cell_type": "markdown",
      "metadata": {
        "id": "m6g1vYSVIOST"
      },
      "source": [
        "##### Задача 3.d."
      ]
    },
    {
      "cell_type": "code",
      "execution_count": null,
      "metadata": {
        "colab": {
          "base_uri": "https://localhost:8080/"
        },
        "id": "x8QXx9s7IOST",
        "outputId": "aba5ab70-fa21-49b7-a478-b7a09f18b9bd"
      },
      "outputs": [
        {
          "output_type": "stream",
          "name": "stdout",
          "text": [
            "Нет оснований отклонить H_0 в пользу H_1 с уровнем значимости 0.05\n"
          ]
        }
      ],
      "source": [
        "# будет использован критерий Колмогорова\n",
        "\n",
        "F_q2 = lambda x: (2 * pi * x  * sin(2 * pi * x) + (1 - 2 * (pi * x) ** 2 + 200 * pi ** 2) *\n",
        "                  cos(2 * pi * x) - 1) / 12000 / pi ** 3\n",
        "\n",
        "def Q2(x):    # функция распределения\n",
        "    if x < 10 and x > -10:\n",
        "        return sts.norm.cdf(x, loc=0, scale=5) + F_q2(x)\n",
        "    else:\n",
        "        return sts.norm.cdf(x, loc=0, scale=5)\n",
        "\n",
        "distrib4.sort()\n",
        "\n",
        "F_t3d = [Q2(x) for x in distrib4]          # теореттическая функция распределения\n",
        "F_e3d = [0 for x in distrib4]              # эмпирическая функция распределения\n",
        "\n",
        "for i in range(1000):\n",
        "    j = 0\n",
        "    while((distrib4[j] <= distrib4[i]) and j < 999):\n",
        "        F_e3d[i] += 1\n",
        "        j += 1\n",
        "    F_e3d[i] /= 1000\n",
        "    \n",
        "D_n3d = [abs(F_e3d[i] - F_t3d[i]) for i in range(1000)]\n",
        "T_n3d = math.sqrt(1000) * max(D_n3d)            # статистика критерия Колмогорова\n",
        "\n",
        "lambda_3d = 1.36      # квантиль распределения Колмогорова для уровня значимости alpha = 0.05 взят из таблицы\n",
        "\n",
        "if T_n3d > lambda_3d:\n",
        "    print('Есть основания отклонить H_0 в пользу H_1 с уровнем значимости 0.05')\n",
        "else:\n",
        "    print('Нет оснований отклонить H_0 в пользу H_1 с уровнем значимости 0.05')"
      ]
    },
    {
      "cell_type": "markdown",
      "metadata": {
        "id": "5kjvOstGIOST"
      },
      "source": [
        "##### Задача 4."
      ]
    },
    {
      "cell_type": "code",
      "execution_count": null,
      "metadata": {
        "id": "VqDCLuRoIOSU"
      },
      "outputs": [],
      "source": [
        "q4 = lambda x : 15 / 236 / sqrt(2) * (-x ** 4 - 2 * x  ** 2 + 10)    # плотность распределения (в условии p(x))\n",
        "\n",
        "def ex4(s = 1):\n",
        "    M = 150 / 236 / sqrt(2)  \n",
        "    \n",
        "    distrib = []                  # список, где будут храниться значения случайной \n",
        "                                  # величины из распределения с плотностью q(x)   \n",
        "        \n",
        "    while(len(distrib) < s):      # пока размер списка не достигнет необходимого объема выборки\n",
        "        \n",
        "        uniform1 = sts.uniform.rvs(loc=0, scale=1, size=1, random_state=None)      # генерируем св ~ U[0, 1]\n",
        "        uniformb = sts.uniform.rvs(loc=0, scale=1, size=1, random_state=None)      # генерируем еще одну такую же св\n",
        "                                                                                   # она служит для того, чтобы определить\n",
        "                                                                                   # знак св uniform1 \n",
        "                \n",
        "        if uniformb >= 1 / 2:      # определяем знак, таким образом получаем uniform1' ~ U[-1, 1]\n",
        "            uniform1 *= -1\n",
        "            \n",
        "        uniform2 = sts.uniform.rvs(loc=0, scale=1, size=1, random_state=None)      # генерируем еще одну св ~ U[0, 1]\n",
        "        if uniform2 * M <= q4(uniform1 * math.sqrt(2)):                            # проверяем условие того, что\n",
        "                                                                                   # если uniform2 *  M ~ U[0, M]\n",
        "                                                                                   # коордианата y точки с координатой\n",
        "                                                                                   # x = uniform1'', которая попадает\n",
        "                                                                                   # под график q(x), то тогда искомая\n",
        "            distrib.append(float(uniform1 * math.sqrt(2)))                         # св равна uniform1''\n",
        "    return distrib"
      ]
    },
    {
      "cell_type": "code",
      "execution_count": null,
      "metadata": {
        "colab": {
          "base_uri": "https://localhost:8080/",
          "height": 265
        },
        "id": "cnIM1uPfIOSU",
        "outputId": "bd4c43c4-7cf0-4c5d-d77a-b802983a478b"
      },
      "outputs": [
        {
          "output_type": "display_data",
          "data": {
            "image/png": "[encoded data removed]",
            "text/plain": [
              "<Figure size 432x288 with 1 Axes>"
            ]
          },
          "metadata": {
            "needs_background": "light"
          }
        }
      ],
      "source": [
        "distrib5 = [ex4(100) for i in range(100)]       # генерируем 100 выоборок размером 100\n",
        "\n",
        "T = []\n",
        "\n",
        "for k in range(100):\n",
        "    distrib5[k].sort()\n",
        "\n",
        "    F_t4 = [Q(x) for x in distrib5[k]]           # теореттическая функция распределения\n",
        "    F_e4 = [0 for x in distrib5[k]]              # эмпирическая функция распределения\n",
        "\n",
        "    for i in range(100):\n",
        "        j = 0\n",
        "        while((distrib5[k][j] <= distrib5[k][i]) and j < 99):\n",
        "            F_e4[i] += 1\n",
        "            j += 1\n",
        "        F_e4[i] /= 100\n",
        "    \n",
        "    D_n4 = [abs(F_e4[i] - F_t4[i]) for i in range(100)]\n",
        "    T_n4 = math.sqrt(100) * max(D_n4)            # статистика критерия Колмогорова\n",
        "    T.append(T_n4)\n",
        "    \n",
        "K = [1 - scipy.special.kolmogorov(t) for t in T] # находим значения p-value исходя из полученных статистик критерия\n",
        "K.sort()\n",
        "F_e4 = [0 for x in K]   # эмпирическая функция распределения p-value                         \n",
        "\n",
        "for i in range(100):\n",
        "    j = 0\n",
        "    while((K[j] <= K[i]) and j < 99):\n",
        "        F_e4[i] += 1\n",
        "        j += 1\n",
        "    F_e4[i] /= 100\n",
        "    \n",
        "U = sts.uniform.rvs(loc=0, scale=1, size=75, random_state=None)    # в случае, если H_0 верна, \n",
        "                                                                   # p-value распределено равномерно\n",
        "F_U = [sts.uniform.cdf(x = u, loc=0, scale=1) for u in U]\n",
        "plt.plot(K, F_e4)    # график эмпирической функции распределения p-value\n",
        "plt.plot(U, F_U)     # график теоретической функции распределения p-value при верной H_0\n",
        "None"
      ]
    },
    {
      "cell_type": "code",
      "execution_count": null,
      "metadata": {
        "id": "VNS1yFAZIOSV",
        "outputId": "7334c873-9279-4a6d-8f33-d7bae880203f"
      },
      "outputs": [
        {
          "name": "stdout",
          "output_type": "stream",
          "text": [
            "Оценка ошибки второго рода для уровня значимости 0.05 равна 0.9299999999999999\n"
          ]
        }
      ],
      "source": [
        "for i in range(100):\n",
        "# для заданного уровня значимости 0.05\n",
        "# по эмпирической функции распределения p-value\n",
        "# найдем, чему примерно равна ошибка второго рода\n",
        "\n",
        "    if K[i] > 0.045 and K[i] < 0.055:     \n",
        "        print('Оценка ошибки второго рода для уровня значимости 0.05 равна', 1 - F_e4[i])\n",
        "        break"
      ]
    },
    {
      "cell_type": "markdown",
      "metadata": {
        "id": "WQj45CU6IOSV"
      },
      "source": [
        "##### Задача 5."
      ]
    },
    {
      "cell_type": "markdown",
      "metadata": {
        "id": "gHrpAUiJIOSV"
      },
      "source": [
        "Генерируем выборки размера 100 (100 выборок для каждого из четырех распределений)"
      ]
    },
    {
      "cell_type": "code",
      "execution_count": null,
      "metadata": {
        "id": "FmBOn5oyIOSV"
      },
      "outputs": [],
      "source": [
        "distrib5_1 = [sts.t.rvs(df = 1, loc=0, scale=1, size=100, random_state=None) for i in range(100)]\n",
        "distrib5_2 = [sts.t.rvs(df = 2, loc=0, scale=1, size=100, random_state=None) for i in range(100)]\n",
        "distrib5_3 = [sts.t.rvs(df = 7, loc=0, scale=1, size=100, random_state=None) for i in range(100)]\n",
        "distrib5_4 = [sts.norm.rvs(loc=0, scale=1, size=100, random_state=None) for i in range(100)]"
      ]
    },
    {
      "cell_type": "markdown",
      "metadata": {
        "id": "6pfaZuQ-IOSV"
      },
      "source": [
        "Функция, которая будет возвращать список со статистиками критерия"
      ]
    },
    {
      "cell_type": "code",
      "execution_count": null,
      "metadata": {
        "id": "0imqFBybIOSV"
      },
      "outputs": [],
      "source": [
        "def ecss(array):\n",
        "    T = []\n",
        "    for i in range(100):\n",
        "        S, K = 0, 0\n",
        "        m = sum(array[i]) / 100\n",
        "        for j in range(100):\n",
        "            S += (array[i][j] - m) ** 2\n",
        "            K += (array[i][j] - m) ** 4\n",
        "        S /= 100\n",
        "        k = K / 100 / S ** 2\n",
        "        t = (k - 6) / sqrt(24 * (100 - 2) * (100 - 3) / (100 + 1) / (100 + 3) / (100 + 5))\n",
        "        T.append(t)\n",
        "    return T"
      ]
    },
    {
      "cell_type": "markdown",
      "metadata": {
        "id": "wWsvlhWxIOSW"
      },
      "source": [
        "Списки со статистиками критерия"
      ]
    },
    {
      "cell_type": "code",
      "execution_count": null,
      "metadata": {
        "id": "um4wh_MxIOSW"
      },
      "outputs": [],
      "source": [
        "T1 = ecss(distrib5_1)\n",
        "T2 = ecss(distrib5_2)\n",
        "T3 = ecss(distrib5_3)\n",
        "T4 = ecss(distrib5_4)"
      ]
    },
    {
      "cell_type": "markdown",
      "metadata": {
        "id": "o1Yn-PVFIOSW"
      },
      "source": [
        "Списки с p-value"
      ]
    },
    {
      "cell_type": "code",
      "execution_count": null,
      "metadata": {
        "id": "JG4YD6RbIOSW"
      },
      "outputs": [],
      "source": [
        "K1 = [1 - sts.norm.cdf(x = t, loc = 0, scale = 1) for t in T1]\n",
        "K2 = [1 - sts.norm.cdf(x = t, loc = 0, scale = 1) for t in T2]\n",
        "K3 = [1 - sts.norm.cdf(x = t, loc = 0, scale = 1) for t in T3]\n",
        "K4 = [1 - sts.norm.cdf(x = t, loc = 0, scale = 1) for t in T4]"
      ]
    },
    {
      "cell_type": "markdown",
      "metadata": {
        "id": "m6KSMKpeIOSW"
      },
      "source": [
        "Далее построим эмпирические функции распределения p-value, чтобы оценить ошибку второго рода"
      ]
    },
    {
      "cell_type": "code",
      "execution_count": null,
      "metadata": {
        "id": "9fkrz1lIIOSX"
      },
      "outputs": [],
      "source": [
        "K1.sort()\n",
        "K2.sort()\n",
        "K3.sort()\n",
        "K4.sort()\n",
        "\n",
        "F_51 = [0 for x in K1]  \n",
        "F_52 = [0 for x in K2]\n",
        "F_53 = [0 for x in K3]\n",
        "F_54 = [0 for x in K4]\n",
        "\n",
        "for i in range(100):\n",
        "    j = 0\n",
        "    while((K1[j] <= K1[i]) and j < 99):\n",
        "        F_51[i] += 1\n",
        "        j += 1\n",
        "    F_51[i] /= 100\n",
        "    \n",
        "    j = 0\n",
        "    while((K2[j] <= K2[i]) and j < 99):\n",
        "        F_52[i] += 1\n",
        "        j += 1\n",
        "    F_52[i] /= 100\n",
        "    \n",
        "    j = 0\n",
        "    while((K3[j] <= K3[i]) and j < 99):\n",
        "        F_53[i] += 1\n",
        "        j += 1\n",
        "    F_53[i] /= 100\n",
        "    \n",
        "    j = 0\n",
        "    while((K4[j] <= K4[i]) and j < 99):\n",
        "        F_54[i] += 1\n",
        "        j += 1\n",
        "    F_54[i] /= 100"
      ]
    },
    {
      "cell_type": "markdown",
      "metadata": {
        "id": "OAI-4qCsIOSX"
      },
      "source": [
        "Продемонстрируем на графиках эмпирические функции распредлений p-value."
      ]
    },
    {
      "cell_type": "code",
      "execution_count": null,
      "metadata": {
        "id": "IwjEnI2EIOSX",
        "outputId": "b9a551ab-c64b-4b50-a3b0-638df6cd0ac8"
      },
      "outputs": [
        {
          "data": {
            "image/png": "[encoded data removed]",
            "text/plain": [
              "<Figure size 432x288 with 1 Axes>"
            ]
          },
          "metadata": {
            "needs_background": "light"
          },
          "output_type": "display_data"
        }
      ],
      "source": [
        "plt.plot(K1, F_51)\n",
        "None"
      ]
    },
    {
      "cell_type": "code",
      "execution_count": null,
      "metadata": {
        "id": "yaXxjAu1IOSX",
        "outputId": "893a89d8-326c-4592-9d35-2c7ea1370962"
      },
      "outputs": [
        {
          "data": {
            "image/png": "[encoded data removed]",
            "text/plain": [
              "<Figure size 432x288 with 1 Axes>"
            ]
          },
          "metadata": {
            "needs_background": "light"
          },
          "output_type": "display_data"
        }
      ],
      "source": [
        "plt.plot(K2, F_52)\n",
        "None"
      ]
    },
    {
      "cell_type": "code",
      "execution_count": null,
      "metadata": {
        "id": "KaKfBtynIOSX",
        "outputId": "7f6a3d7b-b2b4-4cb1-c59f-dc80ee43df39"
      },
      "outputs": [
        {
          "data": {
            "image/png": "[encoded data removed]",
            "text/plain": [
              "<Figure size 432x288 with 1 Axes>"
            ]
          },
          "metadata": {
            "needs_background": "light"
          },
          "output_type": "display_data"
        }
      ],
      "source": [
        "plt.plot(K3, F_53)\n",
        "None"
      ]
    },
    {
      "cell_type": "code",
      "execution_count": null,
      "metadata": {
        "id": "XyXcpHrIIOSY",
        "outputId": "ec03a70d-aaca-4fcd-9da9-25fc520b5ea5"
      },
      "outputs": [
        {
          "data": {
            "image/png": "[encoded data removed]",
            "text/plain": [
              "<Figure size 432x288 with 1 Axes>"
            ]
          },
          "metadata": {
            "needs_background": "light"
          },
          "output_type": "display_data"
        }
      ],
      "source": [
        "plt.plot(K4, F_54)\n",
        "None"
      ]
    },
    {
      "cell_type": "markdown",
      "metadata": {
        "id": "KikLMvJWIOSY"
      },
      "source": [
        "Теперь оценим ошибку второго рода."
      ]
    },
    {
      "cell_type": "code",
      "execution_count": null,
      "metadata": {
        "id": "U2CdxkFoIOSY",
        "outputId": "cfe477b0-63d5-482d-96a3-97c7ec403ac6"
      },
      "outputs": [
        {
          "name": "stdout",
          "output_type": "stream",
          "text": [
            "Оценка ошибки второго для случая с t(1) рода для уровня значимости 0.05 равна 0.010000000000000009\n",
            "Оценка ошибки второго для случая с t(2) рода для уровня значимости 0.05 равна 0.38\n",
            "Оценка ошибки второго для случая с t(7) рода для уровня значимости 0.01 равна 0.96\n",
            "Оценка ошибки второго для случая с Т(0,1) рода для уровня значимости 0.03 равна 0.99\n"
          ]
        }
      ],
      "source": [
        "print('Оценка ошибки второго для случая с t(1) рода для уровня значимости 0.05 равна', 1 - F_51[0])\n",
        "print('Оценка ошибки второго для случая с t(2) рода для уровня значимости 0.05 равна', 1 - F_52[30]) \n",
        "print('Оценка ошибки второго для случая с t(7) рода для уровня значимости 0.01 равна', 1 - F_53[3])\n",
        "print('Оценка ошибки второго для случая с Т(0,1) рода для уровня значимости 0.03 равна', 1 - F_53[0])"
      ]
    },
    {
      "cell_type": "markdown",
      "metadata": {
        "id": "EAEyyMokIOSY"
      },
      "source": [
        "##### Задача 6."
      ]
    },
    {
      "cell_type": "code",
      "execution_count": null,
      "metadata": {
        "id": "1Ebfe5kBIOSY"
      },
      "outputs": [],
      "source": [
        "def distrib7_():\n",
        "    distrib7 = []\n",
        "    uni = sts.uniform.rvs(size = 1)    # для случайного определения параметра р\n",
        "    for i in range(100):\n",
        "        if uni > 1/2:\n",
        "            distrib7.append(float(sts.norm.rvs(loc = 1, scale = 2, size = 1)))\n",
        "        else:\n",
        "            distrib7.append(float(sts.chi.rvs(df = 9, size = 1)))\n",
        "    return distrib7"
      ]
    },
    {
      "cell_type": "code",
      "execution_count": null,
      "metadata": {
        "id": "QL61msAGIOSY"
      },
      "outputs": [],
      "source": [
        "def ex7(distrib7):\n",
        "    T = []\n",
        "    j = 0\n",
        "    while(len(T) < 100):\n",
        "        m = sum(distrib7) / 100\n",
        "        s, A = 0, 0\n",
        "        for i in range(100):\n",
        "            s += (distrib7[i] - m) ** 2\n",
        "            A += (distrib7[i] - m) ** 3\n",
        "        s /= 100\n",
        "        A /= 100\n",
        "        a_e_p = A / sqrt(s) ** 3 / 100\n",
        "        D_a = 6 * (100 - 2) / (100 + 1) / (100 + 3)\n",
        "        T_ = a_e_p / sqrt(D_a)\n",
        "        T.append(T_)\n",
        "        j += 1\n",
        "    return T"
      ]
    },
    {
      "cell_type": "code",
      "execution_count": null,
      "metadata": {
        "id": "0jnHLchZIOSZ"
      },
      "outputs": [],
      "source": [
        "d7 = [distrib7_() for i in range(100)]\n",
        "T = [ex7(list(d7[i])) for i in range(100)]\n",
        "pv = [1 - sts.norm.cdf(x = t[0], loc = 0, scale = 1) for t in T]\n",
        "pv.sort()\n",
        "F_6 = [0 for x in pv]\n",
        "\n",
        "for i in range(100):\n",
        "    j = 0\n",
        "    while((pv[j] <= pv[i]) and j < 99):\n",
        "        F_6[i] += 1\n",
        "        j += 1\n",
        "    F_6[i] /= 100"
      ]
    },
    {
      "cell_type": "markdown",
      "metadata": {
        "id": "0yvnrBx_IOSZ"
      },
      "source": [
        "Эмпирическая функция распределения p-value"
      ]
    },
    {
      "cell_type": "code",
      "execution_count": null,
      "metadata": {
        "id": "B7pQmkHiIOSZ",
        "outputId": "51b5d172-0d32-4545-d10c-56126a65645a"
      },
      "outputs": [
        {
          "data": {
            "image/png": "[encoded data removed]",
            "text/plain": [
              "<Figure size 432x288 with 1 Axes>"
            ]
          },
          "metadata": {
            "needs_background": "light"
          },
          "output_type": "display_data"
        }
      ],
      "source": [
        "plt.plot(pv, F_6)\n",
        "None"
      ]
    }
  ],
  "metadata": {
    "kernelspec": {
      "display_name": "Python 3",
      "language": "python",
      "name": "python3"
    },
    "language_info": {
      "codemirror_mode": {
        "name": "ipython",
        "version": 3
      },
      "file_extension": ".py",
      "mimetype": "text/x-python",
      "name": "python",
      "nbconvert_exporter": "python",
      "pygments_lexer": "ipython3",
      "version": "3.8.10"
    },
    "colab": {
      "name": "bi_hw8.ipynb",
      "provenance": [],
      "include_colab_link": true
    }
  },
  "nbformat": 4,
  "nbformat_minor": 0
}