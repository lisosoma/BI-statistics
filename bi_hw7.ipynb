{
  "cells": [
    {
      "cell_type": "markdown",
      "metadata": {
        "id": "view-in-github",
        "colab_type": "text"
      },
      "source": [
        "<a href=\"https://colab.research.google.com/github/lisosoma/BI-statistics/blob/main/bi_hw7.ipynb\" target=\"_parent\"><img src=\"https://colab.research.google.com/assets/colab-badge.svg\" alt=\"Open In Colab\"/></a>"
      ]
    },
    {
      "cell_type": "code",
      "execution_count": null,
      "metadata": {
        "id": "60aCtyJTKbQ0"
      },
      "outputs": [],
      "source": [
        "import pandas as pd\n",
        "import matplotlib.pyplot as plt\n",
        "import numpy as np\n",
        "import scipy.stats as sts\n",
        "import scipy.integrate as integ\n",
        "import math "
      ]
    },
    {
      "cell_type": "code",
      "execution_count": null,
      "metadata": {
        "id": "lc2gI2w6KbQ6"
      },
      "outputs": [],
      "source": [
        "df = pd.read_table('IB_statistics_data_HW7.txt',sep='\\s+', engine='python')"
      ]
    },
    {
      "cell_type": "code",
      "execution_count": null,
      "metadata": {
        "id": "VFo7IpPcKbQ7"
      },
      "outputs": [],
      "source": [
        "n = len(df['Ex1'])"
      ]
    },
    {
      "cell_type": "markdown",
      "metadata": {
        "id": "uHp1v51UKbQ7"
      },
      "source": [
        "##### Задание 1."
      ]
    },
    {
      "cell_type": "code",
      "execution_count": null,
      "metadata": {
        "id": "B1811N8rKbQ9",
        "outputId": "2f625959-9354-41a9-949d-22d9bcdbaaba"
      },
      "outputs": [
        {
          "name": "stdout",
          "output_type": "stream",
          "text": [
            "Нет оснований отклонить H_0 в пользу H_1 с уровнем значимости 0.05\n"
          ]
        },
        {
          "data": {
            "image/png": "[encoded data removed]",
            "text/plain": [
              "<Figure size 432x288 with 1 Axes>"
            ]
          },
          "metadata": {
            "needs_background": "light"
          },
          "output_type": "display_data"
        }
      ],
      "source": [
        "mu_1 = 3.14\n",
        "mean_1 = sum(df['Ex1']) / n\n",
        "var_1 = 0\n",
        "for x in df['Ex1']:\n",
        "    var_1 += (x - mean_1) ** 2\n",
        "var_1 /= (n - 1)\n",
        "\n",
        "T_1 = (mu_1 - mean_1) * math.sqrt(n) / math.sqrt(var_1)\n",
        "\n",
        "k1 = sts.t.ppf(q = 0.025, df = n - 1, loc=0, scale=1)\n",
        "k2 = sts.t.ppf(q = 0.975, df = n - 1, loc=0, scale=1)\n",
        "\n",
        "if T_1 > k1 and T_1 < k2:\n",
        "    print('Нет оснований отклонить H_0 в пользу H_1 с уровнем значимости 0.05')\n",
        "else:\n",
        "    print('Есть основания отклонить H_0 в пользу H_1 с уровнем значимости 0.05')\n",
        "    \n",
        "h_1 = df['Ex1'].hist()\n",
        "fig = h_1.get_figure()"
      ]
    },
    {
      "cell_type": "markdown",
      "metadata": {
        "id": "Us69QCMzKbQ-"
      },
      "source": [
        "##### Задание 2."
      ]
    },
    {
      "cell_type": "code",
      "execution_count": null,
      "metadata": {
        "id": "IfLoHYWjKbQ_",
        "outputId": "f8bc7067-f3d3-4647-f4d9-d0c5a4d1a721"
      },
      "outputs": [
        {
          "name": "stdout",
          "output_type": "stream",
          "text": [
            "Есть основания отклонить H_0 в пользу H_1 с уровнем значимости 0.05\n"
          ]
        },
        {
          "data": {
            "image/png": "[encoded data removed]",
            "text/plain": [
              "<Figure size 432x288 with 1 Axes>"
            ]
          },
          "metadata": {
            "needs_background": "light"
          },
          "output_type": "display_data"
        }
      ],
      "source": [
        "pi = math.pi\n",
        "T_2n = 0\n",
        "\n",
        "p = [ n * 6 / pi ** 2, n * 3 / 2 / pi ** 2, n * 25 / 24 / pi ** 2, n * (1 - 205 / 24 / pi ** 2)]\n",
        "v = [0, 0, 0, 0]\n",
        "\n",
        "for i in range(n):\n",
        "    if df['Ex2'][i] == 1:\n",
        "        v[0] += 1\n",
        "    elif df['Ex2'][i] == 2:\n",
        "        v[1] += 1\n",
        "    elif df['Ex2'][i] == 3 or df['Ex2'][i] == 4:\n",
        "        v[2] += 1\n",
        "    else:\n",
        "        v[3] += 1\n",
        "\n",
        "for i in range(4):\n",
        "    T_2n += (v[i] - p[i]) ** 2 / (p[i])\n",
        "    \n",
        "if T_2n >= sts.chi.ppf(q = 1 - 0.05, df = 3):\n",
        "    print('Есть основания отклонить H_0 в пользу H_1 с уровнем значимости 0.05')\n",
        "else:\n",
        "    print('Нет оснований отклонить H_0 в пользу H_1 с уровнем значимости 0.05')\n",
        "    \n",
        "h_2 = df['Ex2'].hist()\n",
        "fig = h_2.get_figure()"
      ]
    },
    {
      "cell_type": "markdown",
      "metadata": {
        "id": "WePzKFQoKbRA"
      },
      "source": [
        "##### Задание 3."
      ]
    },
    {
      "cell_type": "code",
      "execution_count": null,
      "metadata": {
        "id": "gnmyWrUaKbRB",
        "outputId": "186d6399-7629-4e68-ab9b-9331d60eff27"
      },
      "outputs": [
        {
          "name": "stdout",
          "output_type": "stream",
          "text": [
            "Есть основания отклонить H_0 в пользу H_1 с уровнем значимости 0.05\n",
            "4.228526715850659 3.9379325865059513\n"
          ]
        },
        {
          "data": {
            "image/png": "[encoded data removed]",
            "text/plain": [
              "<Figure size 432x288 with 1 Axes>"
            ]
          },
          "metadata": {
            "needs_background": "light"
          },
          "output_type": "display_data"
        }
      ],
      "source": [
        "T_3n = 0\n",
        "\n",
        "v = [0, 0, 0, 0, 0, 0, 0, 0, 0]\n",
        "\n",
        "for i in range(n):\n",
        "    if df['Ex3'][i] <= 2:\n",
        "        v[0] += 1\n",
        "    elif df['Ex3'][i] == 3:\n",
        "        v[1] += 1\n",
        "    elif df['Ex3'][i] == 4:\n",
        "        v[2] += 1\n",
        "    elif df['Ex3'][i] == 5:\n",
        "        v[3] += 1\n",
        "    elif df['Ex3'][i] == 6:\n",
        "        v[4] += 1\n",
        "    elif df['Ex3'][i] == 7:\n",
        "        v[5] += 1\n",
        "    elif df['Ex3'][i] == 8:\n",
        "        v[6] += 1\n",
        "    elif df['Ex3'][i] == 9:\n",
        "        v[7] += 1\n",
        "    elif df['Ex3'][i] == 10:\n",
        "        v[8] += 1\n",
        "\n",
        "teta = (sum(v) - v[0]) / 52 / sum(v)\n",
        "\n",
        "p = [n * i * teta for i in range(2, 11)]\n",
        "p[0] = n * (1 - 52 * teta)\n",
        "        \n",
        "for i in range(9):\n",
        "    T_3n += (v[i] - p[i]) ** 2 / (p[i])\n",
        "    \n",
        "if T_3n >= sts.chi.ppf(q = 0.95, df = 8):\n",
        "    print('Есть основания отклонить H_0 в пользу H_1 с уровнем значимости 0.05')\n",
        "else:\n",
        "    print('Нет оснований отклонить H_0 в пользу H_1 с уровнем значимости 0.05')\n",
        "    \n",
        "h_3 = df['Ex3'].hist()\n",
        "fig = h_3.get_figure()\n",
        "\n",
        "print(T_3n, sts.chi.ppf(q = 1 - 0.05, df = 8))"
      ]
    },
    {
      "cell_type": "markdown",
      "metadata": {
        "id": "HHebUiVhKbRC"
      },
      "source": [
        "##### Задание 4."
      ]
    },
    {
      "cell_type": "code",
      "execution_count": null,
      "metadata": {
        "id": "MmoKXXGsKbRC",
        "outputId": "d1b41002-8f53-4c0f-b8d6-452bffcdcf61"
      },
      "outputs": [
        {
          "name": "stdout",
          "output_type": "stream",
          "text": [
            "Есть основания отклонить H_0 в пользу H_1 с уровнем значимости 0.05\n"
          ]
        },
        {
          "data": {
            "image/png": "[encoded data removed]",
            "text/plain": [
              "<Figure size 432x288 with 1 Axes>"
            ]
          },
          "metadata": {
            "needs_background": "light"
          },
          "output_type": "display_data"
        }
      ],
      "source": [
        "T_4n = 0\n",
        "\n",
        "p = [1 / 11 for i in range(11)]\n",
        "v = [0 for i in range(11)]\n",
        "\n",
        "for i in range(n):\n",
        "    v[df['Ex4'][i] - 1] += 1\n",
        "\n",
        "for i in range(4):\n",
        "    T_4n += (v[i] - p[i]) ** 2 / (p[i])\n",
        "    \n",
        "if T_4n >= sts.chi.ppf(q = 1 - 0.05, df = 10):\n",
        "    print('Есть основания отклонить H_0 в пользу H_1 с уровнем значимости 0.05')\n",
        "else:\n",
        "    print('Нет оснований отклонить H_0 в пользу H_1 с уровнем значимости 0.05')\n",
        "    \n",
        "h_4 = df['Ex4'].hist()\n",
        "fig = h_4.get_figure()"
      ]
    },
    {
      "cell_type": "markdown",
      "metadata": {
        "id": "oJLzBZBVKbRD"
      },
      "source": [
        "##### Задание 5."
      ]
    },
    {
      "cell_type": "code",
      "execution_count": null,
      "metadata": {
        "id": "1jmA85BIKbRD",
        "outputId": "46d61b06-6621-4ee9-d5c2-5c3e0950d046"
      },
      "outputs": [
        {
          "name": "stdout",
          "output_type": "stream",
          "text": [
            "0.5725476444042271\n"
          ]
        }
      ],
      "source": [
        "teta = max(df['Ex5'])\n",
        "a_5 = df.sort_index().sort_values('Ex5', kind='mergesort')\n",
        "res_5 = list(a_5['Ex5'])\n",
        "\n",
        "print(teta)"
      ]
    },
    {
      "cell_type": "markdown",
      "metadata": {
        "id": "m4XNV57NKbRD"
      },
      "source": [
        "Так как максимум из выборки -- максимальная площадь треугольника, равная половине площади квадрата, то, как видно, она больше 0.5, поэтому тета не может быть меньше 1."
      ]
    },
    {
      "cell_type": "code",
      "execution_count": null,
      "metadata": {
        "id": "ysh3MwKpKbRE"
      },
      "outputs": [],
      "source": [
        "def f1(c):\n",
        "    f_1 = lambda x : (c / teta + x - (c / teta + x) * math.log(c / teta + x)) * (-math.log(x))\n",
        "    return f_1\n",
        "\n",
        "def f2(c):\n",
        "    f_2 = lambda x : (x - c / teta - (x - c / teta) * math.log(x - c / teta)) * (-math.log(x))\n",
        "    return f_2\n",
        "\n",
        "F_t_5 = [integ.quad(f1(res_5[i]), 0, 1) +  integ.quad(f2(res_5[i]), 0, 1) \n",
        "        for i in range(n)]                #теореттическая функция распределения\n",
        "F_e_5 = [0 for i in range(n)]              #эмпирическая функция распределения\n",
        "\n",
        "for i in range(n):\n",
        "    j = 0\n",
        "    while((res_5[j] <= res_5[i]) and j < n - 1):\n",
        "        F_e_5[i] += 1\n",
        "        j += 1\n",
        "    F_e_5[i] /= n\n",
        "    \n",
        "D_n_5 = [abs(F_e_5[i] - F_t_5[i]) for i in range(len(res_5))]\n",
        "T_n_5 = math.sqrt(n) * max(D_n_5)            #статистика критерия Колмогорова\n",
        "\n",
        "lambda_5 = 1.36      #квантиль распределения Колмогорова для уровня значимости alpha = 0.05 взят из таблицы\n",
        "\n",
        "if T_n_5 < lambda_5:\n",
        "    print('Есть основания отклонить H_0 в пользу H_1 с уровнем значимости 0.05')\n",
        "else:\n",
        "    print('Нет оснований отклонить H_0 в пользу H_1 с уровнем значимости 0.05')"
      ]
    },
    {
      "cell_type": "code",
      "execution_count": null,
      "metadata": {
        "id": "iaL659MbKbRE",
        "outputId": "1d29d706-2c48-4a19-cc2a-16b28befba1a"
      },
      "outputs": [
        {
          "data": {
            "image/png": "[encoded data removed]",
            "text/plain": [
              "<Figure size 432x288 with 1 Axes>"
            ]
          },
          "metadata": {
            "needs_background": "light"
          },
          "output_type": "display_data"
        }
      ],
      "source": [
        "h_5 = df['Ex5'].hist()\n",
        "fig = h_5.get_figure()"
      ]
    }
  ],
  "metadata": {
    "kernelspec": {
      "display_name": "Python 3",
      "language": "python",
      "name": "python3"
    },
    "language_info": {
      "codemirror_mode": {
        "name": "ipython",
        "version": 3
      },
      "file_extension": ".py",
      "mimetype": "text/x-python",
      "name": "python",
      "nbconvert_exporter": "python",
      "pygments_lexer": "ipython3",
      "version": "3.8.10"
    },
    "colab": {
      "provenance": [],
      "include_colab_link": true
    }
  },
  "nbformat": 4,
  "nbformat_minor": 0
}