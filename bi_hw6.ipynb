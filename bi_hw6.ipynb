{
  "cells": [
    {
      "cell_type": "markdown",
      "metadata": {
        "id": "view-in-github",
        "colab_type": "text"
      },
      "source": [
        "<a href=\"https://colab.research.google.com/github/lisosoma/BI-statistics/blob/main/bi_hw6.ipynb\" target=\"_parent\"><img src=\"https://colab.research.google.com/assets/colab-badge.svg\" alt=\"Open In Colab\"/></a>"
      ]
    },
    {
      "cell_type": "code",
      "execution_count": null,
      "metadata": {
        "id": "oIdzqOzjKNyr"
      },
      "outputs": [],
      "source": [
        "import pandas as pd\n",
        "import matplotlib.pyplot as plt\n",
        "import numpy as np\n",
        "import scipy.stats as sts\n",
        "import math "
      ]
    },
    {
      "cell_type": "code",
      "execution_count": null,
      "metadata": {
        "id": "WpxI8iRXKNyw"
      },
      "outputs": [],
      "source": [
        "df = pd.read_table('IB_statistics_data_HW6.txt',sep='\\s+', engine='python')"
      ]
    },
    {
      "cell_type": "markdown",
      "metadata": {
        "id": "aGeDk-60KNyx"
      },
      "source": [
        "##### Задача 1."
      ]
    },
    {
      "cell_type": "code",
      "execution_count": null,
      "metadata": {
        "id": "5FgM41b7KNyy",
        "outputId": "e82fa8e1-5b10-40cd-aa1e-1df9c917dd76"
      },
      "outputs": [
        {
          "name": "stdout",
          "output_type": "stream",
          "text": [
            "Есть основания отклонить H_0 в пользу H_1 с уровнем значимости 0.05\n"
          ]
        },
        {
          "data": {
            "image/png": "[encoded data removed]",
            "text/plain": [
              "<Figure size 432x288 with 1 Axes>"
            ]
          },
          "metadata": {
            "needs_background": "light"
          },
          "output_type": "display_data"
        }
      ],
      "source": [
        "n_1 = len(df['Ex1'])\n",
        "T_1 = sum(df['Ex1']) / math.sqrt(n_1)\n",
        "k_11 = sts.norm.ppf(q = 0.05 / 2)\n",
        "k_12 = -sts.norm.ppf(q = 0.05 / 2)\n",
        "if T_1 < k_12 and T_1 > k_11:\n",
        "    print('Нет оснований отклонить H_0 в пользу H_1 с уровнем значимости 0.05')\n",
        "else:\n",
        "    print('Есть основания отклонить H_0 в пользу H_1 с уровнем значимости 0.05')\n",
        "    \n",
        "h_1 = df['Ex1'].hist()\n",
        "fig = h_1.get_figure()"
      ]
    },
    {
      "cell_type": "markdown",
      "metadata": {
        "id": "lcTK-xReKNy0"
      },
      "source": [
        "##### Задача 2."
      ]
    },
    {
      "cell_type": "code",
      "execution_count": null,
      "metadata": {
        "id": "FXWZ_V6xKNy0",
        "outputId": "e22a4ea0-250f-4c11-810f-4586b6819881"
      },
      "outputs": [
        {
          "name": "stdout",
          "output_type": "stream",
          "text": [
            "Нет оснований отклонить H_0 в пользу H_1 с уровнем значимости 0.05\n"
          ]
        },
        {
          "data": {
            "image/png": "[encoded data removed]",
            "text/plain": [
              "<Figure size 432x288 with 1 Axes>"
            ]
          },
          "metadata": {
            "needs_background": "light"
          },
          "output_type": "display_data"
        }
      ],
      "source": [
        "T_2 = sum(df['Ex2'])\n",
        "n_2 = len(df['Ex2'])\n",
        "p_2 = 0.5\n",
        "k_2 = sts.binom.ppf(q = 0.95, n = n_2, p = p_2)\n",
        "if T_2 < k_2:\n",
        "    print('Нет оснований отклонить H_0 в пользу H_1 с уровнем значимости 0.05')\n",
        "elif T_2 > k_2:\n",
        "    print('Есть основания отклонить H_0 в пользу H_1 с уровнем значимости 0.05')\n",
        "    \n",
        "h_2 = df['Ex2'].hist()\n",
        "fig = h_2.get_figure()"
      ]
    },
    {
      "cell_type": "markdown",
      "metadata": {
        "id": "TZ8SLddzKNy1"
      },
      "source": [
        "##### Задача 3."
      ]
    },
    {
      "cell_type": "code",
      "execution_count": null,
      "metadata": {
        "id": "PAGRqXnnKNy1",
        "outputId": "a621e202-5a38-4fcd-ebfb-0b7726103cc9"
      },
      "outputs": [
        {
          "name": "stdout",
          "output_type": "stream",
          "text": [
            "Есть основания отклонить H_0 в пользу H_1 с уровнем значимости 0.05\n"
          ]
        },
        {
          "data": {
            "image/png": "[encoded data removed]",
            "text/plain": [
              "<Figure size 432x288 with 1 Axes>"
            ]
          },
          "metadata": {
            "needs_background": "light"
          },
          "output_type": "display_data"
        }
      ],
      "source": [
        "a_3 = df.sort_index().sort_values('Ex3', kind='mergesort')\n",
        "res_3 = list(a_3['Ex3'])\n",
        "\n",
        "F_t_3 = [sts.cauchy.cdf(x = res_3[i], loc = 0, scale = 1) for i in range(len(res_3))] #теореттическая функция распределения\n",
        "F_e_3 = [0 for i in range(len(res_3))]              #эмпирическая функция распределения\n",
        "\n",
        "for i in range(len(res_3)):\n",
        "    j = 0\n",
        "    while((res_3[j] <= res_3[i]) and j < len(res_3) - 1):\n",
        "        F_e_3[i] += 1\n",
        "        j += 1\n",
        "    F_e_3[i] /= len(res_3)\n",
        "    \n",
        "D_n_3 = [abs(F_e_3[i] - F_t_3[i]) for i in range(len(res_3))]\n",
        "T_n_3 = math.sqrt(len(res_3)) * max(D_n_3)            #статистика критерия Колмогорова\n",
        "\n",
        "lambda_3 = 1.36      #квантиль распределения Колмогорова для уровня значимости alpha = 0.05 взят из таблицы\n",
        "\n",
        "if T_n_3 < lambda_3:\n",
        "    print('Нет оснований отклонить H_0 в пользу H_1 с уровнем значимости 0.05')\n",
        "else:\n",
        "    print('Есть основания отклонить H_0 в пользу H_1 с уровнем значимости 0.05')\n",
        "\n",
        "h_3 = df['Ex3'].hist()\n",
        "fig = h_3.get_figure()"
      ]
    },
    {
      "cell_type": "markdown",
      "metadata": {
        "id": "dXQOkIKeKNy3"
      },
      "source": [
        "##### Задача 4."
      ]
    },
    {
      "cell_type": "code",
      "execution_count": null,
      "metadata": {
        "id": "8rglefvbKNy3",
        "outputId": "2b107cb4-8a8b-4b6d-e814-007d39b3073a"
      },
      "outputs": [
        {
          "name": "stdout",
          "output_type": "stream",
          "text": [
            "Есть основания отклонить H_0 в пользу H_1 с уровнем значимости 0.05\n"
          ]
        },
        {
          "data": {
            "image/png": "[encoded data removed]",
            "text/plain": [
              "<Figure size 432x288 with 1 Axes>"
            ]
          },
          "metadata": {
            "needs_background": "light"
          },
          "output_type": "display_data"
        }
      ],
      "source": [
        "n_4 = len(df['Ex4'])\n",
        "T_4 = sum(df['Ex4']) * 2\n",
        "k_14 = sts.gamma.ppf(q = 0.025, a = n_4, loc=0, scale=1)\n",
        "k_24 = sts.gamma.ppf(q = 0.975, a = n_4, loc=0, scale=1)\n",
        "if T_4 < k_24 and T_4 > k_14:\n",
        "    print('Нет оснований отклонить H_0 в пользу H_1 с уровнем значимости 0.05')\n",
        "else:\n",
        "    print('Есть основания отклонить H_0 в пользу H_1 с уровнем значимости 0.05')\n",
        "    \n",
        "h_4 = df['Ex4'].hist()\n",
        "fig = h_4.get_figure() "
      ]
    },
    {
      "cell_type": "markdown",
      "metadata": {
        "id": "dzWe9l44KNy4"
      },
      "source": [
        "##### Задача 5."
      ]
    },
    {
      "cell_type": "code",
      "execution_count": null,
      "metadata": {
        "id": "ck_z0Bc9KNy4",
        "outputId": "9990371b-4739-4fb8-c3c4-c3a350064c9b"
      },
      "outputs": [
        {
          "name": "stdout",
          "output_type": "stream",
          "text": [
            "Есть основания отклонить H_0 в пользу H_1 с уровнем значимости 0.05\n"
          ]
        },
        {
          "data": {
            "image/png": "[encoded data removed]",
            "text/plain": [
              "<Figure size 432x288 with 1 Axes>"
            ]
          },
          "metadata": {
            "needs_background": "light"
          },
          "output_type": "display_data"
        }
      ],
      "source": [
        "n_5 = len(df['Ex5'])\n",
        "\n",
        "max_5 = max(abs(df['Ex5']))\n",
        "\n",
        "if 0.5 > max_5 and 0.5 * (1 - 0.05) ** (1 / n_5) < max_5:\n",
        "    print('Нет оснований отклонить H_0 в пользу H_1 с уровнем значимости 0.05')\n",
        "else:\n",
        "    print('Есть основания отклонить H_0 в пользу H_1 с уровнем значимости 0.05')\n",
        "\n",
        "h_5 = df['Ex5'].hist()\n",
        "fig = h_5.get_figure()"
      ]
    },
    {
      "cell_type": "markdown",
      "metadata": {
        "id": "8xrDIMiuKNy5"
      },
      "source": [
        "##### Задача 7.а."
      ]
    },
    {
      "cell_type": "code",
      "execution_count": null,
      "metadata": {
        "id": "J9_JtCF1KNy5",
        "outputId": "5c9356e8-e9a7-4bf6-b275-9d80668d2441"
      },
      "outputs": [
        {
          "name": "stdout",
          "output_type": "stream",
          "text": [
            "Нет оснований отклонить H_0 в пользу H_1 с уровнем значимости 0.05\n"
          ]
        },
        {
          "data": {
            "image/png": "[encoded data removed]",
            "text/plain": [
              "<Figure size 432x288 with 1 Axes>"
            ]
          },
          "metadata": {
            "needs_background": "light"
          },
          "output_type": "display_data"
        }
      ],
      "source": [
        "T_7a = sum(df['Ex7a'])\n",
        "n_7a = len(df['Ex7a'])\n",
        "p_7a = 0.2\n",
        "k_7a = sts.nbinom.ppf(q = 0.95, n = n_7a * 10, p = p_7a)\n",
        "if T_7a < k_7a:\n",
        "    print('Нет оснований отклонить H_0 в пользу H_1 с уровнем значимости 0.05')\n",
        "elif T_7a > k_7a:\n",
        "    print('Есть основания отклонить H_0 в пользу H_1 с уровнем значимости 0.05')\n",
        "\n",
        "h_7a = df['Ex7a'].hist()\n",
        "fig = h_7a.get_figure()"
      ]
    },
    {
      "cell_type": "markdown",
      "metadata": {
        "id": "EQMkOqW5KNy6"
      },
      "source": [
        "##### Задача 7.b"
      ]
    },
    {
      "cell_type": "code",
      "execution_count": null,
      "metadata": {
        "id": "mhf4waJGKNy6",
        "outputId": "150fe9ec-3dcb-4c0f-9351-ebd703a08467"
      },
      "outputs": [
        {
          "name": "stdout",
          "output_type": "stream",
          "text": [
            "Нет оснований отклонить H_0 в пользу H_1 с уровнем значимости 0.05\n"
          ]
        },
        {
          "data": {
            "image/png": "[encoded data removed]",
            "text/plain": [
              "<Figure size 432x288 with 1 Axes>"
            ]
          },
          "metadata": {
            "needs_background": "light"
          },
          "output_type": "display_data"
        }
      ],
      "source": [
        "n_7b = len(df['Ex7b'])\n",
        "T_7b = sum(df['Ex7b'])\n",
        "k_7b = sts.gamma.ppf(q = 0.05, a = n_7b, loc = 0, scale = 1/7)\n",
        "if T_7b > k_7b:\n",
        "    print('Нет оснований отклонить H_0 в пользу H_1 с уровнем значимости 0.05')\n",
        "else:\n",
        "    print('Есть основания отклонить H_0 в пользу H_1 с уровнем значимости 0.05')\n",
        "    \n",
        "h_7b = df['Ex7b'].hist()\n",
        "fig = h_7b.get_figure() "
      ]
    },
    {
      "cell_type": "markdown",
      "metadata": {
        "id": "Z5CrdiKpKNy6"
      },
      "source": [
        "##### Задача 7.с."
      ]
    },
    {
      "cell_type": "code",
      "execution_count": null,
      "metadata": {
        "id": "5aH1AlzCKNy6",
        "outputId": "8811a620-52af-4cc7-c0d2-8f1b856787de"
      },
      "outputs": [
        {
          "name": "stdout",
          "output_type": "stream",
          "text": [
            "Есть основания отклонить H_0 в пользу H_1 с уровнем значимости 0.05\n"
          ]
        }
      ],
      "source": [
        "BC = 0\n",
        "for i in range(n_7b):\n",
        "    if df['Ex7c'][i] == 'B' or df['Ex7c'][i] == 'C':\n",
        "        BC += 1\n",
        "q_ = sts.binom.ppf(q = 0.95, n = n_7b, p = 1 / 2)\n",
        "if BC < q_:\n",
        "    print('Нет оснований отклонить H_0 в пользу H_1 с уровнем значимости 0.05')\n",
        "elif BC > q_:\n",
        "    print('Есть основания отклонить H_0 в пользу H_1 с уровнем значимости 0.05')"
      ]
    }
  ],
  "metadata": {
    "kernelspec": {
      "display_name": "Python 3",
      "language": "python",
      "name": "python3"
    },
    "language_info": {
      "codemirror_mode": {
        "name": "ipython",
        "version": 3
      },
      "file_extension": ".py",
      "mimetype": "text/x-python",
      "name": "python",
      "nbconvert_exporter": "python",
      "pygments_lexer": "ipython3",
      "version": "3.8.10"
    },
    "colab": {
      "provenance": [],
      "include_colab_link": true
    }
  },
  "nbformat": 4,
  "nbformat_minor": 0
}