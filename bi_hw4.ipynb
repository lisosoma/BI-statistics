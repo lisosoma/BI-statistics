{
  "cells": [
    {
      "cell_type": "markdown",
      "metadata": {
        "id": "view-in-github",
        "colab_type": "text"
      },
      "source": [
        "<a href=\"https://colab.research.google.com/github/lisosoma/BI-statistics/blob/main/bi_hw4.ipynb\" target=\"_parent\"><img src=\"https://colab.research.google.com/assets/colab-badge.svg\" alt=\"Open In Colab\"/></a>"
      ]
    },
    {
      "cell_type": "code",
      "execution_count": null,
      "metadata": {
        "id": "tZM4olSgJbze"
      },
      "outputs": [],
      "source": [
        "import pandas as pd\n",
        "import matplotlib.pyplot as plt\n",
        "import numpy as np\n",
        "import scipy.stats as sts\n",
        "import math "
      ]
    },
    {
      "cell_type": "code",
      "execution_count": null,
      "metadata": {
        "id": "Wt7DtMGvJbzh"
      },
      "outputs": [],
      "source": [
        "df = pd.read_table('IB_statistics_data_HW4.txt',sep='\\s+', engine='python')"
      ]
    },
    {
      "cell_type": "code",
      "execution_count": null,
      "metadata": {
        "id": "oqthVuaHJbzi"
      },
      "outputs": [],
      "source": [
        "gamma = 0.95"
      ]
    },
    {
      "cell_type": "code",
      "execution_count": null,
      "metadata": {
        "id": "IxV7if03Jbzj",
        "outputId": "afc7a787-feec-44e6-914f-a212533531c3"
      },
      "outputs": [
        {
          "name": "stdout",
          "output_type": "stream",
          "text": [
            "Задание 3а, оценка параметра равна: -0.41032157239304157\n",
            "доверительный интервал равен: ( -0.831397118328228 , 0.010753973542144912 )\n"
          ]
        },
        {
          "data": {
            "image/png": "[encoded data removed]",
            "text/plain": [
              "<Figure size 432x288 with 1 Axes>"
            ]
          },
          "metadata": {
            "needs_background": "light"
          },
          "output_type": "display_data"
        }
      ],
      "source": [
        "avrg_3a = sum(df['Ex3a']) / len(df['Ex3a'])\n",
        "laplas_3a = 1.96\n",
        "sigma_3a = math.sqrt(6)\n",
        "                                \n",
        "h_l_3a = avrg_3a - laplas_3a * sigma_3a / math.sqrt(len(df['Ex3a']))\n",
        "h_u_3a = avrg_3a + laplas_3a * sigma_3a / math.sqrt(len(df['Ex3a']))\n",
        "\n",
        "h_3a = df['Ex3a'].hist()\n",
        "fig = h_3a.get_figure()\n",
        "print('Задание 3а, оценка параметра равна:', avrg_3a)\n",
        "print('доверительный интервал равен: (', h_l_3a, ',', h_u_3a, ')')"
      ]
    },
    {
      "cell_type": "code",
      "execution_count": null,
      "metadata": {
        "id": "6Qd4T9UPJbzk",
        "outputId": "05d6858b-4556-474a-ce27-ac9b295c03a2"
      },
      "outputs": [
        {
          "name": "stdout",
          "output_type": "stream",
          "text": [
            "Задание 3b, оценка параметра равна: 10349.873856259754\n",
            "доверительный интервал равен: ( 8168.296477561986 , 13307.256261835357 )\n"
          ]
        },
        {
          "data": {
            "image/png": "[encoded data removed]",
            "text/plain": [
              "<Figure size 432x288 with 1 Axes>"
            ]
          },
          "metadata": {
            "needs_background": "light"
          },
          "output_type": "display_data"
        }
      ],
      "source": [
        "res_3b = list(df['Ex3b'])\n",
        "\n",
        "mean = -12\n",
        "var_3b = 0\n",
        "\n",
        "quant_Chi2_1 = sts.chi2.ppf(q = (1 + gamma) / 2, df = len(df['Ex3b']))\n",
        "quant_Chi2_2 = sts.chi2.ppf(q = (1 - gamma) / 2, df = len(df['Ex3b']))\n",
        "\n",
        "for res in res_3b:\n",
        "    var_3b += (res - mean) ** 2\n",
        "    \n",
        "h_l_3b = var_3b / quant_Chi2_1\n",
        "h_u_3b = var_3b / quant_Chi2_2\n",
        "\n",
        "h_3b = df['Ex3b'].hist()\n",
        "fig = h_3b.get_figure()\n",
        "print('Задание 3b, оценка параметра равна:', var_3b / (len(df['Ex3b']) - 1))\n",
        "print('доверительный интервал равен: (', h_l_3b, ',', h_u_3b, ')')"
      ]
    },
    {
      "cell_type": "code",
      "execution_count": null,
      "metadata": {
        "id": "HQpXusA_Jbzl",
        "outputId": "023a3420-991b-47b7-a262-6ca124a43a14"
      },
      "outputs": [
        {
          "name": "stdout",
          "output_type": "stream",
          "text": [
            "Задание 3с, оценка параметра равна: 0.3384615384615385\n",
            "доверительный интервал равен: ( 0.257119208757198 , 0.41980386816587895 )\n"
          ]
        },
        {
          "data": {
            "image/png": "[encoded data removed]",
            "text/plain": [
              "<Figure size 432x288 with 1 Axes>"
            ]
          },
          "metadata": {
            "needs_background": "light"
          },
          "output_type": "display_data"
        }
      ],
      "source": [
        "avrg_3c = sum(df['Ex3c']) / len(df['Ex3c'])\n",
        "res_3c = list(df['Ex3c'])\n",
        "\n",
        "laplas_3c = 1.96\n",
        "                                \n",
        "h_l_3c = avrg_3c - laplas_3c * math.sqrt(avrg_3c * (1 - avrg_3c) / len(df['Ex3a']))\n",
        "h_u_3c = avrg_3c + laplas_3c * math.sqrt(avrg_3c * (1 - avrg_3c) / len(df['Ex3a']))\n",
        "\n",
        "h_3c = df['Ex3c'].hist()\n",
        "fig = h_3c.get_figure()\n",
        "print('Задание 3с, оценка параметра равна:', avrg_3c)\n",
        "print('доверительный интервал равен: (', h_l_3c, ',', h_u_3c, ')')"
      ]
    },
    {
      "cell_type": "code",
      "execution_count": null,
      "metadata": {
        "id": "lLC92essJbzn",
        "outputId": "4286029d-1c27-44fa-aaff-7a2a9b64b545"
      },
      "outputs": [
        {
          "name": "stdout",
          "output_type": "stream",
          "text": [
            "Задание 3d, оценка первого параметра равна: 23.27869029566132 ,\n",
            "оценка второго параметра равна: 146.0714520943614\n",
            "доверительный интервал для первого параметра равен: ( 21.181429552375263 , 25.375951038947377 ),\n",
            "доверительный интервал для второго параметра равен: ( 116.07885668053497 , 189.4682062453462 ),\n"
          ]
        },
        {
          "data": {
            "image/png": "[encoded data removed]",
            "text/plain": [
              "<Figure size 432x288 with 1 Axes>"
            ]
          },
          "metadata": {
            "needs_background": "light"
          },
          "output_type": "display_data"
        }
      ],
      "source": [
        "avrg_3d = sum(df['Ex3d']) / len(df['Ex3d'])\n",
        "res_3d = list(df['Ex3d'])\n",
        "\n",
        "var_3d = 0\n",
        "\n",
        "for res in res_3d:\n",
        "    var_3d += (res - avrg_3d) ** 2\n",
        "    \n",
        "var_3d /= (len(df['Ex3d']) - 1)\n",
        "\n",
        "quant_St = sts.t(df =len(df['Ex3d']) - 1).ppf((1 + gamma) / 2)\n",
        "quant_Chi2_1 = sts.chi2.ppf(q = (1 + gamma) / 2, df = len(df['Ex3d']) - 1)\n",
        "quant_Chi2_2 = sts.chi2.ppf(q = (1 - gamma) / 2, df = len(df['Ex3d']) - 1)\n",
        "                                \n",
        "h_l_3d_s = (len(df['Ex3a']) - 1) * var_3d / quant_Chi2_1\n",
        "h_u_3d_s = (len(df['Ex3a']) - 1) * var_3d / quant_Chi2_2\n",
        "\n",
        "h_l_3d_av = avrg_3d - quant_St * math.sqrt(var_3d / len(df['Ex3a']))\n",
        "h_u_3d_av = avrg_3d + quant_St * math.sqrt(var_3d / len(df['Ex3a']))\n",
        "\n",
        "h_3d = df['Ex3d'].hist()\n",
        "fig = h_3d.get_figure()\n",
        "print('Задание 3d, оценка первого параметра равна:', avrg_3d, ',')\n",
        "print('оценка второго параметра равна:', var_3d)\n",
        "print('доверительный интервал для первого параметра равен: (', h_l_3d_av, ',', h_u_3d_av, '),')\n",
        "print('доверительный интервал для второго параметра равен: (', h_l_3d_s, ',', h_u_3d_s, '),')"
      ]
    },
    {
      "cell_type": "code",
      "execution_count": null,
      "metadata": {
        "id": "k2AjV_T_Jbzo",
        "outputId": "86d1260b-2ab2-4327-b6dc-e32d72c7d051"
      },
      "outputs": [
        {
          "name": "stdout",
          "output_type": "stream",
          "text": [
            "Задание 3e, оценка параметра равна: -2.049924878653577 ,\n",
            "доверительный интервал для параметра равен: ( -2.722406684535637 , -1.6710751257988197 )\n"
          ]
        },
        {
          "data": {
            "image/png": "[encoded data removed]",
            "text/plain": [
              "<Figure size 432x288 with 1 Axes>"
            ]
          },
          "metadata": {
            "needs_background": "light"
          },
          "output_type": "display_data"
        }
      ],
      "source": [
        "avrg_3e_2 = sum(df['Ex3e']) / len(df['Ex3e'])\n",
        "f = 1\n",
        "if avrg_3e_2 < 0:\n",
        "    f = - 1\n",
        "res_3e = list(df['Ex3e'])\n",
        "\n",
        "quant_Chi2_1 = sts.chi2.ppf(q = (1 + gamma) / 2, df = len(df['Ex3d']))\n",
        "quant_Chi2_2 = sts.chi2.ppf(q = (1 - gamma) / 2, df = len(df['Ex3d']))\n",
        "                                \n",
        "h_l_3e = (len(df['Ex3a'])) * f * (avrg_3e_2 ** 2) / 2 / quant_Chi2_1\n",
        "h_u_3e = (len(df['Ex3a'])) * f * (avrg_3e_2 ** 2) / 2 / quant_Chi2_2\n",
        "\n",
        "h_3e = df['Ex3e'].hist()\n",
        "fig = h_3e.get_figure()\n",
        "print('Задание 3e, оценка параметра равна:', avrg_3e_2, ',')\n",
        "print('доверительный интервал для параметра равен: (', h_u_3e, ',', h_l_3e, ')')"
      ]
    },
    {
      "cell_type": "code",
      "execution_count": null,
      "metadata": {
        "id": "yjLqCXtQJbzo",
        "outputId": "3a750897-a941-48e4-a69d-fa39c8d90696"
      },
      "outputs": [
        {
          "name": "stdout",
          "output_type": "stream",
          "text": [
            "Задание 4a, оценка параметра равна: 3.13411844643764 ,\n",
            "доверительный интервал равен: ( 3.13411844643764 , 3.2071799528135525 )\n"
          ]
        },
        {
          "data": {
            "image/png": "[encoded data removed]",
            "text/plain": [
              "<Figure size 432x288 with 1 Axes>"
            ]
          },
          "metadata": {
            "needs_background": "light"
          },
          "output_type": "display_data"
        }
      ],
      "source": [
        "res_4a = list(df['Ex4a'])\n",
        "h_4a = df['Ex4a'].hist()\n",
        "fig = h_4a.get_figure()\n",
        "max_4a = max(res_4a)\n",
        "max_4a_h = max_4a / (1 - gamma) ** (1 / len(res_4a))\n",
        "print('Задание 4a, оценка параметра равна:', max_4a, ',')\n",
        "print('доверительный интервал равен: (', max_4a, ',', max_4a_h, ')')"
      ]
    },
    {
      "cell_type": "code",
      "execution_count": null,
      "metadata": {
        "id": "vOvD3BwQJbzp",
        "outputId": "78953599-05dd-40b7-a915-6f14c8a3eb75"
      },
      "outputs": [
        {
          "name": "stdout",
          "output_type": "stream",
          "text": [
            "Задание 4b, оценка параметра равна: 0.10863014231602788 ,\n",
            "доверительный интервал равен: ( 0.07680644849826167 , 0.15363954525078122 )\n"
          ]
        },
        {
          "data": {
            "image/png": "[encoded data removed]",
            "text/plain": [
              "<Figure size 432x288 with 1 Axes>"
            ]
          },
          "metadata": {
            "needs_background": "light"
          },
          "output_type": "display_data"
        }
      ],
      "source": [
        "res_4bX = list(df['Ex4bX'])\n",
        "res_4bY = list(df['Ex4bY'])\n",
        "\n",
        "avrg_4bX = sum(df['Ex4bX']) / len(df['Ex4bX'])\n",
        "avrg_4bY = sum(df['Ex4bY']) / len(df['Ex4bY'])\n",
        "\n",
        "var_4bX = 0\n",
        "var_4bY = 0\n",
        "\n",
        "for res in res_4bX:\n",
        "    var_4bX += (res - avrg_4bX) ** 2\n",
        "    \n",
        "for res in res_4bY:\n",
        "    var_4bY += (res - avrg_4bY) ** 2\n",
        "\n",
        "var_4bX /= (len(df['Ex4bX']) - 1)\n",
        "var_4bY /= (len(df['Ex4bY']) - 1)\n",
        "\n",
        "teta_4b = var_4bX / var_4bY\n",
        "\n",
        "quant_F_1 = sts.f.ppf(q = (1 - gamma) / 2, dfn = len(df['Ex3d']) - 1, dfd = len(df['Ex3d']) - 1)\n",
        "quant_F_2 = sts.f.ppf(q = (1 + gamma) / 2, dfn = len(df['Ex3d']) - 1, dfd = len(df['Ex3d']) - 1)\n",
        "\n",
        "h_l_4b = teta_4b * quant_F_1\n",
        "h_u_4b = teta_4b * quant_F_2\n",
        "\n",
        "h_4bX = df['Ex4bX'].hist()\n",
        "fig = h_4bX.get_figure()\n",
        "h_4bY = df['Ex4bY'].hist()\n",
        "fig = h_4bY.get_figure()\n",
        "print('Задание 4b, оценка параметра равна:', teta_4b, ',')\n",
        "print('доверительный интервал равен: (', h_l_4b, ',', h_u_4b, ')')"
      ]
    },
    {
      "cell_type": "code",
      "execution_count": null,
      "metadata": {
        "id": "2vfoEyeVJbzq",
        "outputId": "ea5055da-7179-433a-9659-b57bad7b3bc8"
      },
      "outputs": [
        {
          "name": "stdout",
          "output_type": "stream",
          "text": [
            "Задание 5, оценка параметра равна: 0.5636512183521424\n"
          ]
        },
        {
          "data": {
            "image/png": "[encoded data removed]",
            "text/plain": [
              "<Figure size 432x288 with 1 Axes>"
            ]
          },
          "metadata": {
            "needs_background": "light"
          },
          "output_type": "display_data"
        }
      ],
      "source": [
        "res_5 = list(df['Ex5'])\n",
        "var_5 = 0\n",
        "mu_5 = 1\n",
        "count_1 = 0\n",
        "\n",
        "for res in res_5:\n",
        "    if res == 1:\n",
        "        count_1 += 1\n",
        "    var_5 += (res - mu_5) ** 2\n",
        "    \n",
        "var_5 /= (len(res_5) - 1)\n",
        "\n",
        "teta_5_1 = ((6 + var_5) - math.sqrt(var_5 ** 2 + 4 * var_5 - 12)) / (2 * (6 + var_5))\n",
        "teta_5_2 = ((6 + var_5) + math.sqrt(var_5 ** 2 + 4 * var_5 - 12)) / (2 * (6 + var_5))\n",
        "\n",
        "if abs(((1 - teta_5_1) / teta_5_1) - 1) < abs(((1 - teta_5_2) / teta_5_2) - 1):\n",
        "    teta_5 = teta_5_1\n",
        "else:\n",
        "    teta_5 = teta_5_2\n",
        "\n",
        "\n",
        "h_5 = df['Ex5'].hist()\n",
        "fig = h_5.get_figure()\n",
        "print('Задание 5, оценка параметра равна:', teta_5)"
      ]
    },
    {
      "cell_type": "code",
      "execution_count": null,
      "metadata": {
        "id": "ShrEAyoLJbzr",
        "outputId": "8969538e-cdf9-484d-dc07-d924885d5fac"
      },
      "outputs": [
        {
          "name": "stdout",
          "output_type": "stream",
          "text": [
            "Задание 6, оценка параметра равна: 0.3965679615775997 ,\n",
            "доверительный интервал равен: ( 0.3965679615775997 , 0.40581261941311236 )\n"
          ]
        },
        {
          "data": {
            "image/png": "[encoded data removed]",
            "text/plain": [
              "<Figure size 576x576 with 1 Axes>"
            ]
          },
          "metadata": {
            "needs_background": "light"
          },
          "output_type": "display_data"
        }
      ],
      "source": [
        "def f(x, coef):\n",
        "    return x * coef\n",
        "\n",
        "\n",
        "res_1 = list(df['Ex6x'])\n",
        "res_2 = list(df['Ex6y'])\n",
        "max_ = 0\n",
        "\n",
        "for i in range (len(res_1)):\n",
        "    if (res_1[i] + res_2[i]) >= max_:\n",
        "        max_ = res_1[i] + res_2[i]\n",
        "        b = res_2[i]\n",
        "        c = res_1[i]\n",
        "\n",
        "x = [i / 100 for i in range(100)]\n",
        "y = [f(x[i], b / c) for i in range(100)]\n",
        "y_2 = [f(x[i], (b / c) ** 2) for i in range(100)]\n",
        "y_max = [f(x[i], (b / c) / ((1 - gamma) ** (1 / len(res_2)))) for i in range(100)]\n",
        "\n",
        "fig = plt.figure(figsize=(8, 8))\n",
        "plt.scatter(df['Ex6x'], df['Ex6y'])\n",
        "plt.plot(x, y)\n",
        "plt.plot(x, y_2)\n",
        "plt.plot(x, y_max)\n",
        "print('Задание 6, оценка параметра равна:', b / c, ',')\n",
        "print('доверительный интервал равен: (', b / c, ',', (b / c) / ((1 - 0.95) ** (1 / len(res_2))), ')')"
      ]
    }
  ],
  "metadata": {
    "kernelspec": {
      "display_name": "Python 3",
      "language": "python",
      "name": "python3"
    },
    "language_info": {
      "codemirror_mode": {
        "name": "ipython",
        "version": 3
      },
      "file_extension": ".py",
      "mimetype": "text/x-python",
      "name": "python",
      "nbconvert_exporter": "python",
      "pygments_lexer": "ipython3",
      "version": "3.8.10"
    },
    "colab": {
      "provenance": [],
      "include_colab_link": true
    }
  },
  "nbformat": 4,
  "nbformat_minor": 0
}